{
 "cells": [
  {
   "cell_type": "markdown",
   "metadata": {
    "id": "oZzR3lLZsixw"
   },
   "source": [
    "# loading libraries"
   ]
  },
  {
   "cell_type": "code",
   "execution_count": 1,
   "metadata": {
    "id": "9Pd7xd8RAxuV"
   },
   "outputs": [],
   "source": [
    "import numpy as np\n",
    "import pandas as pd\n",
    "import matplotlib.pyplot as plt\n",
    "import seaborn as sns\n",
    "import datetime as dt \n",
    "import warnings\n",
    "warnings.filterwarnings('ignore')\n",
    "import sklearn\n",
    "from sklearn.preprocessing import StandardScaler\n",
    "from sklearn.cluster import KMeans\n",
    "from sklearn.metrics import silhouette_score\n",
    "from sklearn.model_selection import train_test_split\n",
    "from sklearn.ensemble import RandomForestClassifier\n",
    "from sklearn.linear_model import LogisticRegression\n",
    "from sklearn.svm import SVC\n",
    "from sklearn.tree import DecisionTreeClassifier\n",
    "from sklearn.model_selection import RandomizedSearchCV\n",
    "from sklearn.metrics import confusion_matrix, classification_report,accuracy_score\n"
   ]
  },
  {
   "cell_type": "markdown",
   "metadata": {
    "id": "x35d1iwcsh7z"
   },
   "source": [
    "# loading data "
   ]
  },
  {
   "cell_type": "code",
   "execution_count": 3,
   "metadata": {
    "id": "buPed8P6uBa6"
   },
   "outputs": [],
   "source": [
    "data=pd.read_csv('/content/Ecommerce_data.csv',encoding='unicode_escape', header=0, dtype={'CustomerID': str},parse_dates=['InvoiceDate'],\n",
    "                  infer_datetime_format=True)"
   ]
  },
  {
   "cell_type": "code",
   "execution_count": 4,
   "metadata": {
    "colab": {
     "base_uri": "https://localhost:8080/",
     "height": 354
    },
    "id": "yQFM_BJmuKq5",
    "outputId": "20cc5413-4ca0-4922-8fbe-a2b1a6165143"
   },
   "outputs": [
    {
     "data": {
      "text/html": [
       "\n",
       "  <div id=\"df-dd8e9da0-98ea-4a81-8f83-fc831ab28999\">\n",
       "    <div class=\"colab-df-container\">\n",
       "      <div>\n",
       "<style scoped>\n",
       "    .dataframe tbody tr th:only-of-type {\n",
       "        vertical-align: middle;\n",
       "    }\n",
       "\n",
       "    .dataframe tbody tr th {\n",
       "        vertical-align: top;\n",
       "    }\n",
       "\n",
       "    .dataframe thead th {\n",
       "        text-align: right;\n",
       "    }\n",
       "</style>\n",
       "<table border=\"1\" class=\"dataframe\">\n",
       "  <thead>\n",
       "    <tr style=\"text-align: right;\">\n",
       "      <th></th>\n",
       "      <th>InvoiceNo</th>\n",
       "      <th>StockCode</th>\n",
       "      <th>Description</th>\n",
       "      <th>Quantity</th>\n",
       "      <th>InvoiceDate</th>\n",
       "      <th>UnitPrice</th>\n",
       "      <th>CustomerID</th>\n",
       "      <th>Country</th>\n",
       "    </tr>\n",
       "  </thead>\n",
       "  <tbody>\n",
       "    <tr>\n",
       "      <th>0</th>\n",
       "      <td>536365</td>\n",
       "      <td>85123A</td>\n",
       "      <td>WHITE HANGING HEART T-LIGHT HOLDER</td>\n",
       "      <td>6</td>\n",
       "      <td>2010-12-01 08:26:00</td>\n",
       "      <td>2.55</td>\n",
       "      <td>17850</td>\n",
       "      <td>United Kingdom</td>\n",
       "    </tr>\n",
       "    <tr>\n",
       "      <th>1</th>\n",
       "      <td>536365</td>\n",
       "      <td>71053</td>\n",
       "      <td>WHITE METAL LANTERN</td>\n",
       "      <td>6</td>\n",
       "      <td>2010-12-01 08:26:00</td>\n",
       "      <td>3.39</td>\n",
       "      <td>17850</td>\n",
       "      <td>United Kingdom</td>\n",
       "    </tr>\n",
       "    <tr>\n",
       "      <th>2</th>\n",
       "      <td>536365</td>\n",
       "      <td>84406B</td>\n",
       "      <td>CREAM CUPID HEARTS COAT HANGER</td>\n",
       "      <td>8</td>\n",
       "      <td>2010-12-01 08:26:00</td>\n",
       "      <td>2.75</td>\n",
       "      <td>17850</td>\n",
       "      <td>United Kingdom</td>\n",
       "    </tr>\n",
       "    <tr>\n",
       "      <th>3</th>\n",
       "      <td>536365</td>\n",
       "      <td>84029G</td>\n",
       "      <td>KNITTED UNION FLAG HOT WATER BOTTLE</td>\n",
       "      <td>6</td>\n",
       "      <td>2010-12-01 08:26:00</td>\n",
       "      <td>3.39</td>\n",
       "      <td>17850</td>\n",
       "      <td>United Kingdom</td>\n",
       "    </tr>\n",
       "    <tr>\n",
       "      <th>4</th>\n",
       "      <td>536365</td>\n",
       "      <td>84029E</td>\n",
       "      <td>RED WOOLLY HOTTIE WHITE HEART.</td>\n",
       "      <td>6</td>\n",
       "      <td>2010-12-01 08:26:00</td>\n",
       "      <td>3.39</td>\n",
       "      <td>17850</td>\n",
       "      <td>United Kingdom</td>\n",
       "    </tr>\n",
       "  </tbody>\n",
       "</table>\n",
       "</div>\n",
       "      <button class=\"colab-df-convert\" onclick=\"convertToInteractive('df-dd8e9da0-98ea-4a81-8f83-fc831ab28999')\"\n",
       "              title=\"Convert this dataframe to an interactive table.\"\n",
       "              style=\"display:none;\">\n",
       "        \n",
       "  <svg xmlns=\"http://www.w3.org/2000/svg\" height=\"24px\"viewBox=\"0 0 24 24\"\n",
       "       width=\"24px\">\n",
       "    <path d=\"M0 0h24v24H0V0z\" fill=\"none\"/>\n",
       "    <path d=\"M18.56 5.44l.94 2.06.94-2.06 2.06-.94-2.06-.94-.94-2.06-.94 2.06-2.06.94zm-11 1L8.5 8.5l.94-2.06 2.06-.94-2.06-.94L8.5 2.5l-.94 2.06-2.06.94zm10 10l.94 2.06.94-2.06 2.06-.94-2.06-.94-.94-2.06-.94 2.06-2.06.94z\"/><path d=\"M17.41 7.96l-1.37-1.37c-.4-.4-.92-.59-1.43-.59-.52 0-1.04.2-1.43.59L10.3 9.45l-7.72 7.72c-.78.78-.78 2.05 0 2.83L4 21.41c.39.39.9.59 1.41.59.51 0 1.02-.2 1.41-.59l7.78-7.78 2.81-2.81c.8-.78.8-2.07 0-2.86zM5.41 20L4 18.59l7.72-7.72 1.47 1.35L5.41 20z\"/>\n",
       "  </svg>\n",
       "      </button>\n",
       "      \n",
       "  <style>\n",
       "    .colab-df-container {\n",
       "      display:flex;\n",
       "      flex-wrap:wrap;\n",
       "      gap: 12px;\n",
       "    }\n",
       "\n",
       "    .colab-df-convert {\n",
       "      background-color: #E8F0FE;\n",
       "      border: none;\n",
       "      border-radius: 50%;\n",
       "      cursor: pointer;\n",
       "      display: none;\n",
       "      fill: #1967D2;\n",
       "      height: 32px;\n",
       "      padding: 0 0 0 0;\n",
       "      width: 32px;\n",
       "    }\n",
       "\n",
       "    .colab-df-convert:hover {\n",
       "      background-color: #E2EBFA;\n",
       "      box-shadow: 0px 1px 2px rgba(60, 64, 67, 0.3), 0px 1px 3px 1px rgba(60, 64, 67, 0.15);\n",
       "      fill: #174EA6;\n",
       "    }\n",
       "\n",
       "    [theme=dark] .colab-df-convert {\n",
       "      background-color: #3B4455;\n",
       "      fill: #D2E3FC;\n",
       "    }\n",
       "\n",
       "    [theme=dark] .colab-df-convert:hover {\n",
       "      background-color: #434B5C;\n",
       "      box-shadow: 0px 1px 3px 1px rgba(0, 0, 0, 0.15);\n",
       "      filter: drop-shadow(0px 1px 2px rgba(0, 0, 0, 0.3));\n",
       "      fill: #FFFFFF;\n",
       "    }\n",
       "  </style>\n",
       "\n",
       "      <script>\n",
       "        const buttonEl =\n",
       "          document.querySelector('#df-dd8e9da0-98ea-4a81-8f83-fc831ab28999 button.colab-df-convert');\n",
       "        buttonEl.style.display =\n",
       "          google.colab.kernel.accessAllowed ? 'block' : 'none';\n",
       "\n",
       "        async function convertToInteractive(key) {\n",
       "          const element = document.querySelector('#df-dd8e9da0-98ea-4a81-8f83-fc831ab28999');\n",
       "          const dataTable =\n",
       "            await google.colab.kernel.invokeFunction('convertToInteractive',\n",
       "                                                     [key], {});\n",
       "          if (!dataTable) return;\n",
       "\n",
       "          const docLinkHtml = 'Like what you see? Visit the ' +\n",
       "            '<a target=\"_blank\" href=https://colab.research.google.com/notebooks/data_table.ipynb>data table notebook</a>'\n",
       "            + ' to learn more about interactive tables.';\n",
       "          element.innerHTML = '';\n",
       "          dataTable['output_type'] = 'display_data';\n",
       "          await google.colab.output.renderOutput(dataTable, element);\n",
       "          const docLink = document.createElement('div');\n",
       "          docLink.innerHTML = docLinkHtml;\n",
       "          element.appendChild(docLink);\n",
       "        }\n",
       "      </script>\n",
       "    </div>\n",
       "  </div>\n",
       "  "
      ],
      "text/plain": [
       "  InvoiceNo StockCode                          Description  Quantity  \\\n",
       "0    536365    85123A   WHITE HANGING HEART T-LIGHT HOLDER         6   \n",
       "1    536365     71053                  WHITE METAL LANTERN         6   \n",
       "2    536365    84406B       CREAM CUPID HEARTS COAT HANGER         8   \n",
       "3    536365    84029G  KNITTED UNION FLAG HOT WATER BOTTLE         6   \n",
       "4    536365    84029E       RED WOOLLY HOTTIE WHITE HEART.         6   \n",
       "\n",
       "          InvoiceDate  UnitPrice CustomerID         Country  \n",
       "0 2010-12-01 08:26:00       2.55      17850  United Kingdom  \n",
       "1 2010-12-01 08:26:00       3.39      17850  United Kingdom  \n",
       "2 2010-12-01 08:26:00       2.75      17850  United Kingdom  \n",
       "3 2010-12-01 08:26:00       3.39      17850  United Kingdom  \n",
       "4 2010-12-01 08:26:00       3.39      17850  United Kingdom  "
      ]
     },
     "execution_count": 4,
     "metadata": {},
     "output_type": "execute_result"
    }
   ],
   "source": [
    "data.head()"
   ]
  },
  {
   "cell_type": "code",
   "execution_count": 5,
   "metadata": {
    "colab": {
     "base_uri": "https://localhost:8080/"
    },
    "id": "8MFbqUnayLKG",
    "outputId": "c20c72ba-27a8-49f3-a7a1-bbe6e3c2e21d"
   },
   "outputs": [
    {
     "name": "stdout",
     "output_type": "stream",
     "text": [
      "<class 'pandas.core.frame.DataFrame'>\n",
      "RangeIndex: 541909 entries, 0 to 541908\n",
      "Data columns (total 8 columns):\n",
      " #   Column       Non-Null Count   Dtype         \n",
      "---  ------       --------------   -----         \n",
      " 0   InvoiceNo    541909 non-null  object        \n",
      " 1   StockCode    541909 non-null  object        \n",
      " 2   Description  540455 non-null  object        \n",
      " 3   Quantity     541909 non-null  int64         \n",
      " 4   InvoiceDate  541909 non-null  datetime64[ns]\n",
      " 5   UnitPrice    541909 non-null  float64       \n",
      " 6   CustomerID   406829 non-null  object        \n",
      " 7   Country      541909 non-null  object        \n",
      "dtypes: datetime64[ns](1), float64(1), int64(1), object(5)\n",
      "memory usage: 33.1+ MB\n"
     ]
    }
   ],
   "source": [
    "data.info()"
   ]
  },
  {
   "cell_type": "markdown",
   "metadata": {
    "id": "OzujQk_e4GQA"
   },
   "source": [
    "# EDA"
   ]
  },
  {
   "cell_type": "markdown",
   "metadata": {
    "id": "GQnaL_2g4KbF"
   },
   "source": [
    "## frequently bought product"
   ]
  },
  {
   "cell_type": "code",
   "execution_count": 6,
   "metadata": {
    "colab": {
     "base_uri": "https://localhost:8080/",
     "height": 537
    },
    "id": "txRVas8kyK_g",
    "outputId": "26b0d732-438b-4257-ffef-7992199caabe"
   },
   "outputs": [
    {
     "data": {
      "image/png": "[encoded data removed]",
      "text/plain": [
       "<Figure size 1080x432 with 1 Axes>"
      ]
     },
     "metadata": {
      "needs_background": "light"
     },
     "output_type": "display_data"
    }
   ],
   "source": [
    "item_count= data['Description'].value_counts().sort_values(ascending=False).iloc[0:15]\n",
    "plt.figure(figsize=(15,6))\n",
    "sns.barplot(item_count.index , item_count.values)\n",
    "plt.ylabel('counts')\n",
    "plt.title('which item were bought more often ')\n",
    "plt.xticks(rotation=90)\n",
    "plt.show()"
   ]
  },
  {
   "cell_type": "markdown",
   "metadata": {
    "id": "dQYNNZhT-LfA"
   },
   "source": [
    "## world wide sale distribution"
   ]
  },
  {
   "cell_type": "code",
   "execution_count": 7,
   "metadata": {
    "id": "ow-gYFdNyK96"
   },
   "outputs": [],
   "source": [
    "world_map = data[['CustomerID','InvoiceNo','Country']].groupby(['CustomerID','InvoiceNo','Country']).count().reset_index(drop=False)"
   ]
  },
  {
   "cell_type": "code",
   "execution_count": 8,
   "metadata": {
    "id": "6EF3Io0tyK5K"
   },
   "outputs": [],
   "source": [
    "countries= world_map['Country'].value_counts()"
   ]
  },
  {
   "cell_type": "code",
   "execution_count": 9,
   "metadata": {
    "colab": {
     "base_uri": "https://localhost:8080/"
    },
    "id": "77fyKEcgyK3g",
    "outputId": "3af57e69-b30b-4268-e919-c1c9a73bcb63"
   },
   "outputs": [
    {
     "data": {
      "text/plain": [
       "United Kingdom          19857\n",
       "Germany                   603\n",
       "France                    458\n",
       "EIRE                      319\n",
       "Belgium                   119\n",
       "Spain                     105\n",
       "Netherlands               101\n",
       "Switzerland                71\n",
       "Portugal                   70\n",
       "Australia                  69\n",
       "Italy                      55\n",
       "Finland                    48\n",
       "Sweden                     46\n",
       "Norway                     40\n",
       "Channel Islands            33\n",
       "Japan                      28\n",
       "Poland                     24\n",
       "Denmark                    21\n",
       "Cyprus                     20\n",
       "Austria                    19\n",
       "Singapore                  10\n",
       "Malta                      10\n",
       "Unspecified                 8\n",
       "USA                         7\n",
       "Iceland                     7\n",
       "Israel                      6\n",
       "Canada                      6\n",
       "Greece                      6\n",
       "Czech Republic              5\n",
       "European Community          5\n",
       "Lithuania                   4\n",
       "United Arab Emirates        3\n",
       "Saudi Arabia                2\n",
       "Bahrain                     2\n",
       "RSA                         1\n",
       "Lebanon                     1\n",
       "Brazil                      1\n",
       "Name: Country, dtype: int64"
      ]
     },
     "execution_count": 9,
     "metadata": {},
     "output_type": "execute_result"
    }
   ],
   "source": [
    "countries"
   ]
  },
  {
   "cell_type": "code",
   "execution_count": 10,
   "metadata": {
    "colab": {
     "base_uri": "https://localhost:8080/",
     "height": 617
    },
    "id": "1CC6JAfTxtEY",
    "outputId": "aca7fa71-244a-46ba-971d-1173a309f8e2"
   },
   "outputs": [
    {
     "data": {
      "text/html": [
       "<html>\n",
       "<head><meta charset=\"utf-8\" /></head>\n",
       "<body>\n",
       "    <div>            <script src=\"https://cdnjs.cloudflare.com/ajax/libs/mathjax/2.7.5/MathJax.js?config=TeX-AMS-MML_SVG\"></script><script type=\"text/javascript\">if (window.MathJax) {MathJax.Hub.Config({SVG: {font: \"STIX-Web\"}});}</script>                <script type=\"text/javascript\">window.PlotlyConfig = {MathJaxConfig: 'local'};</script>\n",
       "        <script src=\"https://cdn.plot.ly/plotly-2.8.3.min.js\"></script>                <div id=\"a2d4f8bd-4ef4-4387-ba74-6d8ffa619631\" class=\"plotly-graph-div\" style=\"height:600px; width:100px;\"></div>            <script type=\"text/javascript\">                                    window.PLOTLYENV=window.PLOTLYENV || {};                                    if (document.getElementById(\"a2d4f8bd-4ef4-4387-ba74-6d8ffa619631\")) {                    Plotly.newPlot(                        \"a2d4f8bd-4ef4-4387-ba74-6d8ffa619631\",                        [{\"locationmode\":\"country names\",\"locations\":[\"United Kingdom\",\"Germany\",\"France\",\"EIRE\",\"Belgium\",\"Spain\",\"Netherlands\",\"Switzerland\",\"Portugal\",\"Australia\",\"Italy\",\"Finland\",\"Sweden\",\"Norway\",\"Channel Islands\",\"Japan\",\"Poland\",\"Denmark\",\"Cyprus\",\"Austria\",\"Singapore\",\"Malta\",\"Unspecified\",\"USA\",\"Iceland\",\"Israel\",\"Canada\",\"Greece\",\"Czech Republic\",\"European Community\",\"Lithuania\",\"United Arab Emirates\",\"Saudi Arabia\",\"Bahrain\",\"RSA\",\"Lebanon\",\"Brazil\"],\"z\":[19857,603,458,319,119,105,101,71,70,69,55,48,46,40,33,28,24,21,20,19,10,10,8,7,7,6,6,6,5,5,4,3,2,2,1,1,1],\"type\":\"choropleth\"}],                        {\"geo\":{\"landcolor\":\"whitesmoke\",\"oceancolor\":\"lightBlue\",\"resolution\":50,\"showframe\":true,\"showocean\":true},\"height\":600,\"template\":{\"data\":{\"barpolar\":[{\"marker\":{\"line\":{\"color\":\"white\",\"width\":0.5},\"pattern\":{\"fillmode\":\"overlay\",\"size\":10,\"solidity\":0.2}},\"type\":\"barpolar\"}],\"bar\":[{\"error_x\":{\"color\":\"#2a3f5f\"},\"error_y\":{\"color\":\"#2a3f5f\"},\"marker\":{\"line\":{\"color\":\"white\",\"width\":0.5},\"pattern\":{\"fillmode\":\"overlay\",\"size\":10,\"solidity\":0.2}},\"type\":\"bar\"}],\"carpet\":[{\"aaxis\":{\"endlinecolor\":\"#2a3f5f\",\"gridcolor\":\"#C8D4E3\",\"linecolor\":\"#C8D4E3\",\"minorgridcolor\":\"#C8D4E3\",\"startlinecolor\":\"#2a3f5f\"},\"baxis\":{\"endlinecolor\":\"#2a3f5f\",\"gridcolor\":\"#C8D4E3\",\"linecolor\":\"#C8D4E3\",\"minorgridcolor\":\"#C8D4E3\",\"startlinecolor\":\"#2a3f5f\"},\"type\":\"carpet\"}],\"choropleth\":[{\"colorbar\":{\"outlinewidth\":0,\"ticks\":\"\"},\"type\":\"choropleth\"}],\"contourcarpet\":[{\"colorbar\":{\"outlinewidth\":0,\"ticks\":\"\"},\"type\":\"contourcarpet\"}],\"contour\":[{\"colorbar\":{\"outlinewidth\":0,\"ticks\":\"\"},\"colorscale\":[[0.0,\"#0d0887\"],[0.1111111111111111,\"#46039f\"],[0.2222222222222222,\"#7201a8\"],[0.3333333333333333,\"#9c179e\"],[0.4444444444444444,\"#bd3786\"],[0.5555555555555556,\"#d8576b\"],[0.6666666666666666,\"#ed7953\"],[0.7777777777777778,\"#fb9f3a\"],[0.8888888888888888,\"#fdca26\"],[1.0,\"#f0f921\"]],\"type\":\"contour\"}],\"heatmapgl\":[{\"colorbar\":{\"outlinewidth\":0,\"ticks\":\"\"},\"colorscale\":[[0.0,\"#0d0887\"],[0.1111111111111111,\"#46039f\"],[0.2222222222222222,\"#7201a8\"],[0.3333333333333333,\"#9c179e\"],[0.4444444444444444,\"#bd3786\"],[0.5555555555555556,\"#d8576b\"],[0.6666666666666666,\"#ed7953\"],[0.7777777777777778,\"#fb9f3a\"],[0.8888888888888888,\"#fdca26\"],[1.0,\"#f0f921\"]],\"type\":\"heatmapgl\"}],\"heatmap\":[{\"colorbar\":{\"outlinewidth\":0,\"ticks\":\"\"},\"colorscale\":[[0.0,\"#0d0887\"],[0.1111111111111111,\"#46039f\"],[0.2222222222222222,\"#7201a8\"],[0.3333333333333333,\"#9c179e\"],[0.4444444444444444,\"#bd3786\"],[0.5555555555555556,\"#d8576b\"],[0.6666666666666666,\"#ed7953\"],[0.7777777777777778,\"#fb9f3a\"],[0.8888888888888888,\"#fdca26\"],[1.0,\"#f0f921\"]],\"type\":\"heatmap\"}],\"histogram2dcontour\":[{\"colorbar\":{\"outlinewidth\":0,\"ticks\":\"\"},\"colorscale\":[[0.0,\"#0d0887\"],[0.1111111111111111,\"#46039f\"],[0.2222222222222222,\"#7201a8\"],[0.3333333333333333,\"#9c179e\"],[0.4444444444444444,\"#bd3786\"],[0.5555555555555556,\"#d8576b\"],[0.6666666666666666,\"#ed7953\"],[0.7777777777777778,\"#fb9f3a\"],[0.8888888888888888,\"#fdca26\"],[1.0,\"#f0f921\"]],\"type\":\"histogram2dcontour\"}],\"histogram2d\":[{\"colorbar\":{\"outlinewidth\":0,\"ticks\":\"\"},\"colorscale\":[[0.0,\"#0d0887\"],[0.1111111111111111,\"#46039f\"],[0.2222222222222222,\"#7201a8\"],[0.3333333333333333,\"#9c179e\"],[0.4444444444444444,\"#bd3786\"],[0.5555555555555556,\"#d8576b\"],[0.6666666666666666,\"#ed7953\"],[0.7777777777777778,\"#fb9f3a\"],[0.8888888888888888,\"#fdca26\"],[1.0,\"#f0f921\"]],\"type\":\"histogram2d\"}],\"histogram\":[{\"marker\":{\"pattern\":{\"fillmode\":\"overlay\",\"size\":10,\"solidity\":0.2}},\"type\":\"histogram\"}],\"mesh3d\":[{\"colorbar\":{\"outlinewidth\":0,\"ticks\":\"\"},\"type\":\"mesh3d\"}],\"parcoords\":[{\"line\":{\"colorbar\":{\"outlinewidth\":0,\"ticks\":\"\"}},\"type\":\"parcoords\"}],\"pie\":[{\"automargin\":true,\"type\":\"pie\"}],\"scatter3d\":[{\"line\":{\"colorbar\":{\"outlinewidth\":0,\"ticks\":\"\"}},\"marker\":{\"colorbar\":{\"outlinewidth\":0,\"ticks\":\"\"}},\"type\":\"scatter3d\"}],\"scattercarpet\":[{\"marker\":{\"colorbar\":{\"outlinewidth\":0,\"ticks\":\"\"}},\"type\":\"scattercarpet\"}],\"scattergeo\":[{\"marker\":{\"colorbar\":{\"outlinewidth\":0,\"ticks\":\"\"}},\"type\":\"scattergeo\"}],\"scattergl\":[{\"marker\":{\"colorbar\":{\"outlinewidth\":0,\"ticks\":\"\"}},\"type\":\"scattergl\"}],\"scattermapbox\":[{\"marker\":{\"colorbar\":{\"outlinewidth\":0,\"ticks\":\"\"}},\"type\":\"scattermapbox\"}],\"scatterpolargl\":[{\"marker\":{\"colorbar\":{\"outlinewidth\":0,\"ticks\":\"\"}},\"type\":\"scatterpolargl\"}],\"scatterpolar\":[{\"marker\":{\"colorbar\":{\"outlinewidth\":0,\"ticks\":\"\"}},\"type\":\"scatterpolar\"}],\"scatter\":[{\"marker\":{\"colorbar\":{\"outlinewidth\":0,\"ticks\":\"\"}},\"type\":\"scatter\"}],\"scatterternary\":[{\"marker\":{\"colorbar\":{\"outlinewidth\":0,\"ticks\":\"\"}},\"type\":\"scatterternary\"}],\"surface\":[{\"colorbar\":{\"outlinewidth\":0,\"ticks\":\"\"},\"colorscale\":[[0.0,\"#0d0887\"],[0.1111111111111111,\"#46039f\"],[0.2222222222222222,\"#7201a8\"],[0.3333333333333333,\"#9c179e\"],[0.4444444444444444,\"#bd3786\"],[0.5555555555555556,\"#d8576b\"],[0.6666666666666666,\"#ed7953\"],[0.7777777777777778,\"#fb9f3a\"],[0.8888888888888888,\"#fdca26\"],[1.0,\"#f0f921\"]],\"type\":\"surface\"}],\"table\":[{\"cells\":{\"fill\":{\"color\":\"#EBF0F8\"},\"line\":{\"color\":\"white\"}},\"header\":{\"fill\":{\"color\":\"#C8D4E3\"},\"line\":{\"color\":\"white\"}},\"type\":\"table\"}]},\"layout\":{\"annotationdefaults\":{\"arrowcolor\":\"#2a3f5f\",\"arrowhead\":0,\"arrowwidth\":1},\"autotypenumbers\":\"strict\",\"coloraxis\":{\"colorbar\":{\"outlinewidth\":0,\"ticks\":\"\"}},\"colorscale\":{\"diverging\":[[0,\"#8e0152\"],[0.1,\"#c51b7d\"],[0.2,\"#de77ae\"],[0.3,\"#f1b6da\"],[0.4,\"#fde0ef\"],[0.5,\"#f7f7f7\"],[0.6,\"#e6f5d0\"],[0.7,\"#b8e186\"],[0.8,\"#7fbc41\"],[0.9,\"#4d9221\"],[1,\"#276419\"]],\"sequential\":[[0.0,\"#0d0887\"],[0.1111111111111111,\"#46039f\"],[0.2222222222222222,\"#7201a8\"],[0.3333333333333333,\"#9c179e\"],[0.4444444444444444,\"#bd3786\"],[0.5555555555555556,\"#d8576b\"],[0.6666666666666666,\"#ed7953\"],[0.7777777777777778,\"#fb9f3a\"],[0.8888888888888888,\"#fdca26\"],[1.0,\"#f0f921\"]],\"sequentialminus\":[[0.0,\"#0d0887\"],[0.1111111111111111,\"#46039f\"],[0.2222222222222222,\"#7201a8\"],[0.3333333333333333,\"#9c179e\"],[0.4444444444444444,\"#bd3786\"],[0.5555555555555556,\"#d8576b\"],[0.6666666666666666,\"#ed7953\"],[0.7777777777777778,\"#fb9f3a\"],[0.8888888888888888,\"#fdca26\"],[1.0,\"#f0f921\"]]},\"colorway\":[\"#636efa\",\"#EF553B\",\"#00cc96\",\"#ab63fa\",\"#FFA15A\",\"#19d3f3\",\"#FF6692\",\"#B6E880\",\"#FF97FF\",\"#FECB52\"],\"font\":{\"color\":\"#2a3f5f\"},\"geo\":{\"bgcolor\":\"white\",\"lakecolor\":\"white\",\"landcolor\":\"white\",\"showlakes\":true,\"showland\":true,\"subunitcolor\":\"#C8D4E3\"},\"hoverlabel\":{\"align\":\"left\"},\"hovermode\":\"closest\",\"mapbox\":{\"style\":\"light\"},\"paper_bgcolor\":\"white\",\"plot_bgcolor\":\"white\",\"polar\":{\"angularaxis\":{\"gridcolor\":\"#EBF0F8\",\"linecolor\":\"#EBF0F8\",\"ticks\":\"\"},\"bgcolor\":\"white\",\"radialaxis\":{\"gridcolor\":\"#EBF0F8\",\"linecolor\":\"#EBF0F8\",\"ticks\":\"\"}},\"scene\":{\"xaxis\":{\"backgroundcolor\":\"white\",\"gridcolor\":\"#DFE8F3\",\"gridwidth\":2,\"linecolor\":\"#EBF0F8\",\"showbackground\":true,\"ticks\":\"\",\"zerolinecolor\":\"#EBF0F8\"},\"yaxis\":{\"backgroundcolor\":\"white\",\"gridcolor\":\"#DFE8F3\",\"gridwidth\":2,\"linecolor\":\"#EBF0F8\",\"showbackground\":true,\"ticks\":\"\",\"zerolinecolor\":\"#EBF0F8\"},\"zaxis\":{\"backgroundcolor\":\"white\",\"gridcolor\":\"#DFE8F3\",\"gridwidth\":2,\"linecolor\":\"#EBF0F8\",\"showbackground\":true,\"ticks\":\"\",\"zerolinecolor\":\"#EBF0F8\"}},\"shapedefaults\":{\"line\":{\"color\":\"#2a3f5f\"}},\"ternary\":{\"aaxis\":{\"gridcolor\":\"#DFE8F3\",\"linecolor\":\"#A2B1C6\",\"ticks\":\"\"},\"baxis\":{\"gridcolor\":\"#DFE8F3\",\"linecolor\":\"#A2B1C6\",\"ticks\":\"\"},\"bgcolor\":\"white\",\"caxis\":{\"gridcolor\":\"#DFE8F3\",\"linecolor\":\"#A2B1C6\",\"ticks\":\"\"}},\"title\":{\"x\":0.05},\"xaxis\":{\"automargin\":true,\"gridcolor\":\"#EBF0F8\",\"linecolor\":\"#EBF0F8\",\"ticks\":\"\",\"title\":{\"standoff\":15},\"zerolinecolor\":\"#EBF0F8\",\"zerolinewidth\":2},\"yaxis\":{\"automargin\":true,\"gridcolor\":\"#EBF0F8\",\"linecolor\":\"#EBF0F8\",\"ticks\":\"\",\"title\":{\"standoff\":15},\"zerolinecolor\":\"#EBF0F8\",\"zerolinewidth\":2}}},\"title\":{\"text\":\"number of order by  countries \",\"xanchor\":\"center\",\"yanchor\":\"top\"},\"width\":100},                        {\"responsive\": true}                    ).then(function(){\n",
       "                            \n",
       "var gd = document.getElementById('a2d4f8bd-4ef4-4387-ba74-6d8ffa619631');\n",
       "var x = new MutationObserver(function (mutations, observer) {{\n",
       "        var display = window.getComputedStyle(gd).display;\n",
       "        if (!display || display === 'none') {{\n",
       "            console.log([gd, 'removed!']);\n",
       "            Plotly.purge(gd);\n",
       "            observer.disconnect();\n",
       "        }}\n",
       "}});\n",
       "\n",
       "// Listen for the removal of the full notebook cells\n",
       "var notebookContainer = gd.closest('#notebook-container');\n",
       "if (notebookContainer) {{\n",
       "    x.observe(notebookContainer, {childList: true});\n",
       "}}\n",
       "\n",
       "// Listen for the clearing of the current output cell\n",
       "var outputEl = gd.closest('.output');\n",
       "if (outputEl) {{\n",
       "    x.observe(outputEl, {childList: true});\n",
       "}}\n",
       "\n",
       "                        })                };                            </script>        </div>\n",
       "</body>\n",
       "</html>"
      ]
     },
     "metadata": {},
     "output_type": "display_data"
    }
   ],
   "source": [
    "import plotly.graph_objs as go \n",
    "from plotly.offline import iplot \n",
    "# defining the data to be plotted in the choropleth map \n",
    "dat = dict(type ='choropleth',\n",
    "            locations= countries.index,#index of the countries dataframe \n",
    "            locationmode='country names',# location mode is country name \n",
    "            z= countries) # data to be plotted\n",
    "layout=dict(title={'text':'number of order by  countries ',\n",
    "                   'xanchor':'center', # title alingment \n",
    "                   'yanchor':'top'}, # title alingment \n",
    "            geo=dict(resolution=50,\n",
    "                     showocean=True,\n",
    "                     oceancolor='lightBlue',\n",
    "                     landcolor='whitesmoke',\n",
    "                     showframe=True),\n",
    "            template='plotly_white', #background color (white)\n",
    "            height=600,\n",
    "            width=100)\n",
    "choromap=go.Figure(data=[dat],layout=layout)\n",
    "iplot(choromap,validate=False)"
   ]
  },
  {
   "cell_type": "markdown",
   "metadata": {
    "id": "jAZKQbfqKLUt"
   },
   "source": [
    "## quantative data analysis"
   ]
  },
  {
   "cell_type": "code",
   "execution_count": 11,
   "metadata": {
    "colab": {
     "base_uri": "https://localhost:8080/"
    },
    "id": "SoMlUN69GxI3",
    "outputId": "b92e9a1d-c512-41f1-ad63-9a38713dea23"
   },
   "outputs": [
    {
     "data": {
      "text/plain": [
       "InvoiceNo           0\n",
       "StockCode           0\n",
       "Description      1454\n",
       "Quantity            0\n",
       "InvoiceDate         0\n",
       "UnitPrice           0\n",
       "CustomerID     135080\n",
       "Country             0\n",
       "dtype: int64"
      ]
     },
     "execution_count": 11,
     "metadata": {},
     "output_type": "execute_result"
    }
   ],
   "source": [
    "data.isnull().sum()"
   ]
  },
  {
   "cell_type": "code",
   "execution_count": 12,
   "metadata": {
    "colab": {
     "base_uri": "https://localhost:8080/"
    },
    "id": "GlWkKaX4I6on",
    "outputId": "4127c50b-336d-41fd-ed1a-43989e8fabc9"
   },
   "outputs": [
    {
     "data": {
      "text/plain": [
       "(541909, 8)"
      ]
     },
     "execution_count": 12,
     "metadata": {},
     "output_type": "execute_result"
    }
   ],
   "source": [
    "data.shape"
   ]
  },
  {
   "cell_type": "markdown",
   "metadata": {
    "id": "pGJl-ceSMsg0"
   },
   "source": [
    "here min quantity is negaive because their must revalue also in the orders \n"
   ]
  },
  {
   "cell_type": "code",
   "execution_count": 13,
   "metadata": {
    "colab": {
     "base_uri": "https://localhost:8080/",
     "height": 300
    },
    "id": "dAg50yOKI6nQ",
    "outputId": "e3e149ea-ce13-48e9-ecaa-0e66ad05c396"
   },
   "outputs": [
    {
     "data": {
      "text/html": [
       "\n",
       "  <div id=\"df-2b3a9204-3e5f-45f0-89d8-1bb02710c9ef\">\n",
       "    <div class=\"colab-df-container\">\n",
       "      <div>\n",
       "<style scoped>\n",
       "    .dataframe tbody tr th:only-of-type {\n",
       "        vertical-align: middle;\n",
       "    }\n",
       "\n",
       "    .dataframe tbody tr th {\n",
       "        vertical-align: top;\n",
       "    }\n",
       "\n",
       "    .dataframe thead th {\n",
       "        text-align: right;\n",
       "    }\n",
       "</style>\n",
       "<table border=\"1\" class=\"dataframe\">\n",
       "  <thead>\n",
       "    <tr style=\"text-align: right;\">\n",
       "      <th></th>\n",
       "      <th>Quantity</th>\n",
       "      <th>UnitPrice</th>\n",
       "    </tr>\n",
       "  </thead>\n",
       "  <tbody>\n",
       "    <tr>\n",
       "      <th>count</th>\n",
       "      <td>541909.000000</td>\n",
       "      <td>541909.000000</td>\n",
       "    </tr>\n",
       "    <tr>\n",
       "      <th>mean</th>\n",
       "      <td>9.552250</td>\n",
       "      <td>4.611114</td>\n",
       "    </tr>\n",
       "    <tr>\n",
       "      <th>std</th>\n",
       "      <td>218.081158</td>\n",
       "      <td>96.759853</td>\n",
       "    </tr>\n",
       "    <tr>\n",
       "      <th>min</th>\n",
       "      <td>-80995.000000</td>\n",
       "      <td>-11062.060000</td>\n",
       "    </tr>\n",
       "    <tr>\n",
       "      <th>25%</th>\n",
       "      <td>1.000000</td>\n",
       "      <td>1.250000</td>\n",
       "    </tr>\n",
       "    <tr>\n",
       "      <th>50%</th>\n",
       "      <td>3.000000</td>\n",
       "      <td>2.080000</td>\n",
       "    </tr>\n",
       "    <tr>\n",
       "      <th>75%</th>\n",
       "      <td>10.000000</td>\n",
       "      <td>4.130000</td>\n",
       "    </tr>\n",
       "    <tr>\n",
       "      <th>max</th>\n",
       "      <td>80995.000000</td>\n",
       "      <td>38970.000000</td>\n",
       "    </tr>\n",
       "  </tbody>\n",
       "</table>\n",
       "</div>\n",
       "      <button class=\"colab-df-convert\" onclick=\"convertToInteractive('df-2b3a9204-3e5f-45f0-89d8-1bb02710c9ef')\"\n",
       "              title=\"Convert this dataframe to an interactive table.\"\n",
       "              style=\"display:none;\">\n",
       "        \n",
       "  <svg xmlns=\"http://www.w3.org/2000/svg\" height=\"24px\"viewBox=\"0 0 24 24\"\n",
       "       width=\"24px\">\n",
       "    <path d=\"M0 0h24v24H0V0z\" fill=\"none\"/>\n",
       "    <path d=\"M18.56 5.44l.94 2.06.94-2.06 2.06-.94-2.06-.94-.94-2.06-.94 2.06-2.06.94zm-11 1L8.5 8.5l.94-2.06 2.06-.94-2.06-.94L8.5 2.5l-.94 2.06-2.06.94zm10 10l.94 2.06.94-2.06 2.06-.94-2.06-.94-.94-2.06-.94 2.06-2.06.94z\"/><path d=\"M17.41 7.96l-1.37-1.37c-.4-.4-.92-.59-1.43-.59-.52 0-1.04.2-1.43.59L10.3 9.45l-7.72 7.72c-.78.78-.78 2.05 0 2.83L4 21.41c.39.39.9.59 1.41.59.51 0 1.02-.2 1.41-.59l7.78-7.78 2.81-2.81c.8-.78.8-2.07 0-2.86zM5.41 20L4 18.59l7.72-7.72 1.47 1.35L5.41 20z\"/>\n",
       "  </svg>\n",
       "      </button>\n",
       "      \n",
       "  <style>\n",
       "    .colab-df-container {\n",
       "      display:flex;\n",
       "      flex-wrap:wrap;\n",
       "      gap: 12px;\n",
       "    }\n",
       "\n",
       "    .colab-df-convert {\n",
       "      background-color: #E8F0FE;\n",
       "      border: none;\n",
       "      border-radius: 50%;\n",
       "      cursor: pointer;\n",
       "      display: none;\n",
       "      fill: #1967D2;\n",
       "      height: 32px;\n",
       "      padding: 0 0 0 0;\n",
       "      width: 32px;\n",
       "    }\n",
       "\n",
       "    .colab-df-convert:hover {\n",
       "      background-color: #E2EBFA;\n",
       "      box-shadow: 0px 1px 2px rgba(60, 64, 67, 0.3), 0px 1px 3px 1px rgba(60, 64, 67, 0.15);\n",
       "      fill: #174EA6;\n",
       "    }\n",
       "\n",
       "    [theme=dark] .colab-df-convert {\n",
       "      background-color: #3B4455;\n",
       "      fill: #D2E3FC;\n",
       "    }\n",
       "\n",
       "    [theme=dark] .colab-df-convert:hover {\n",
       "      background-color: #434B5C;\n",
       "      box-shadow: 0px 1px 3px 1px rgba(0, 0, 0, 0.15);\n",
       "      filter: drop-shadow(0px 1px 2px rgba(0, 0, 0, 0.3));\n",
       "      fill: #FFFFFF;\n",
       "    }\n",
       "  </style>\n",
       "\n",
       "      <script>\n",
       "        const buttonEl =\n",
       "          document.querySelector('#df-2b3a9204-3e5f-45f0-89d8-1bb02710c9ef button.colab-df-convert');\n",
       "        buttonEl.style.display =\n",
       "          google.colab.kernel.accessAllowed ? 'block' : 'none';\n",
       "\n",
       "        async function convertToInteractive(key) {\n",
       "          const element = document.querySelector('#df-2b3a9204-3e5f-45f0-89d8-1bb02710c9ef');\n",
       "          const dataTable =\n",
       "            await google.colab.kernel.invokeFunction('convertToInteractive',\n",
       "                                                     [key], {});\n",
       "          if (!dataTable) return;\n",
       "\n",
       "          const docLinkHtml = 'Like what you see? Visit the ' +\n",
       "            '<a target=\"_blank\" href=https://colab.research.google.com/notebooks/data_table.ipynb>data table notebook</a>'\n",
       "            + ' to learn more about interactive tables.';\n",
       "          element.innerHTML = '';\n",
       "          dataTable['output_type'] = 'display_data';\n",
       "          await google.colab.output.renderOutput(dataTable, element);\n",
       "          const docLink = document.createElement('div');\n",
       "          docLink.innerHTML = docLinkHtml;\n",
       "          element.appendChild(docLink);\n",
       "        }\n",
       "      </script>\n",
       "    </div>\n",
       "  </div>\n",
       "  "
      ],
      "text/plain": [
       "            Quantity      UnitPrice\n",
       "count  541909.000000  541909.000000\n",
       "mean        9.552250       4.611114\n",
       "std       218.081158      96.759853\n",
       "min    -80995.000000  -11062.060000\n",
       "25%         1.000000       1.250000\n",
       "50%         3.000000       2.080000\n",
       "75%        10.000000       4.130000\n",
       "max     80995.000000   38970.000000"
      ]
     },
     "execution_count": 13,
     "metadata": {},
     "output_type": "execute_result"
    }
   ],
   "source": [
    "data.describe()"
   ]
  },
  {
   "cell_type": "markdown",
   "metadata": {
    "id": "vPjj61pIOKhI"
   },
   "source": [
    "## Data pre processing \n"
   ]
  },
  {
   "cell_type": "code",
   "execution_count": 14,
   "metadata": {
    "id": "gr8UOaaiI6fy"
   },
   "outputs": [],
   "source": [
    "def replace_with_thresholds(dataframe,variable,q1=0.25,q3=0.75):\n",
    "  df=dataframe.copy()\n",
    "  quartile1=df[variable].quantile(q1)\n",
    "  quartile3=df[variable].quantile(q3)\n",
    "  iqr=quartile3-quartile1\n",
    "  up_limit=quartile3+1.5*iqr\n",
    "  low_limit=quartile1-1.5*iqr\n",
    "  df=df[(df[variable]>=low_limit)& (df[variable]<=up_limit)]\n",
    "  return df"
   ]
  },
  {
   "cell_type": "code",
   "execution_count": 15,
   "metadata": {
    "id": "w8s6fWwNI6eO"
   },
   "outputs": [],
   "source": [
    "def ecomerce_preprocess(dataframe):\n",
    "  df=dataframe.copy()\n",
    "  #missing values\n",
    "  df=df.dropna()\n",
    "  # cancelled order & quantity \n",
    "  df=df[~df['InvoiceNo'].str.contains('C',na=False)] # na is ignore the null values\n",
    "  df=df[df['Quantity']>0]\n",
    "  # replace outlier\n",
    "  df=replace_with_thresholds(df,'Quantity')\n",
    "  df=replace_with_thresholds(df,'UnitPrice')\n",
    "  # total price\n",
    "  df['Totalprice']=df['Quantity']*df['UnitPrice']\n",
    "  return df\n",
    "  "
   ]
  },
  {
   "cell_type": "code",
   "execution_count": 16,
   "metadata": {
    "id": "WTClfkjJSKGI"
   },
   "outputs": [],
   "source": [
    "df=ecomerce_preprocess(data)"
   ]
  },
  {
   "cell_type": "code",
   "execution_count": 17,
   "metadata": {
    "colab": {
     "base_uri": "https://localhost:8080/",
     "height": 458
    },
    "id": "0Khb5glwSZsA",
    "outputId": "82de109f-14ce-4568-af28-db8724fca0d4"
   },
   "outputs": [
    {
     "data": {
      "text/html": [
       "\n",
       "  <div id=\"df-ad5e2baf-f73a-450c-9ed2-7a7534b1b9e3\">\n",
       "    <div class=\"colab-df-container\">\n",
       "      <div>\n",
       "<style scoped>\n",
       "    .dataframe tbody tr th:only-of-type {\n",
       "        vertical-align: middle;\n",
       "    }\n",
       "\n",
       "    .dataframe tbody tr th {\n",
       "        vertical-align: top;\n",
       "    }\n",
       "\n",
       "    .dataframe thead th {\n",
       "        text-align: right;\n",
       "    }\n",
       "</style>\n",
       "<table border=\"1\" class=\"dataframe\">\n",
       "  <thead>\n",
       "    <tr style=\"text-align: right;\">\n",
       "      <th></th>\n",
       "      <th>InvoiceNo</th>\n",
       "      <th>StockCode</th>\n",
       "      <th>Description</th>\n",
       "      <th>Quantity</th>\n",
       "      <th>InvoiceDate</th>\n",
       "      <th>UnitPrice</th>\n",
       "      <th>CustomerID</th>\n",
       "      <th>Country</th>\n",
       "      <th>Totalprice</th>\n",
       "    </tr>\n",
       "  </thead>\n",
       "  <tbody>\n",
       "    <tr>\n",
       "      <th>0</th>\n",
       "      <td>536365</td>\n",
       "      <td>85123A</td>\n",
       "      <td>WHITE HANGING HEART T-LIGHT HOLDER</td>\n",
       "      <td>6</td>\n",
       "      <td>2010-12-01 08:26:00</td>\n",
       "      <td>2.55</td>\n",
       "      <td>17850</td>\n",
       "      <td>United Kingdom</td>\n",
       "      <td>15.30</td>\n",
       "    </tr>\n",
       "    <tr>\n",
       "      <th>1</th>\n",
       "      <td>536365</td>\n",
       "      <td>71053</td>\n",
       "      <td>WHITE METAL LANTERN</td>\n",
       "      <td>6</td>\n",
       "      <td>2010-12-01 08:26:00</td>\n",
       "      <td>3.39</td>\n",
       "      <td>17850</td>\n",
       "      <td>United Kingdom</td>\n",
       "      <td>20.34</td>\n",
       "    </tr>\n",
       "    <tr>\n",
       "      <th>2</th>\n",
       "      <td>536365</td>\n",
       "      <td>84406B</td>\n",
       "      <td>CREAM CUPID HEARTS COAT HANGER</td>\n",
       "      <td>8</td>\n",
       "      <td>2010-12-01 08:26:00</td>\n",
       "      <td>2.75</td>\n",
       "      <td>17850</td>\n",
       "      <td>United Kingdom</td>\n",
       "      <td>22.00</td>\n",
       "    </tr>\n",
       "    <tr>\n",
       "      <th>3</th>\n",
       "      <td>536365</td>\n",
       "      <td>84029G</td>\n",
       "      <td>KNITTED UNION FLAG HOT WATER BOTTLE</td>\n",
       "      <td>6</td>\n",
       "      <td>2010-12-01 08:26:00</td>\n",
       "      <td>3.39</td>\n",
       "      <td>17850</td>\n",
       "      <td>United Kingdom</td>\n",
       "      <td>20.34</td>\n",
       "    </tr>\n",
       "    <tr>\n",
       "      <th>4</th>\n",
       "      <td>536365</td>\n",
       "      <td>84029E</td>\n",
       "      <td>RED WOOLLY HOTTIE WHITE HEART.</td>\n",
       "      <td>6</td>\n",
       "      <td>2010-12-01 08:26:00</td>\n",
       "      <td>3.39</td>\n",
       "      <td>17850</td>\n",
       "      <td>United Kingdom</td>\n",
       "      <td>20.34</td>\n",
       "    </tr>\n",
       "  </tbody>\n",
       "</table>\n",
       "</div>\n",
       "      <button class=\"colab-df-convert\" onclick=\"convertToInteractive('df-ad5e2baf-f73a-450c-9ed2-7a7534b1b9e3')\"\n",
       "              title=\"Convert this dataframe to an interactive table.\"\n",
       "              style=\"display:none;\">\n",
       "        \n",
       "  <svg xmlns=\"http://www.w3.org/2000/svg\" height=\"24px\"viewBox=\"0 0 24 24\"\n",
       "       width=\"24px\">\n",
       "    <path d=\"M0 0h24v24H0V0z\" fill=\"none\"/>\n",
       "    <path d=\"M18.56 5.44l.94 2.06.94-2.06 2.06-.94-2.06-.94-.94-2.06-.94 2.06-2.06.94zm-11 1L8.5 8.5l.94-2.06 2.06-.94-2.06-.94L8.5 2.5l-.94 2.06-2.06.94zm10 10l.94 2.06.94-2.06 2.06-.94-2.06-.94-.94-2.06-.94 2.06-2.06.94z\"/><path d=\"M17.41 7.96l-1.37-1.37c-.4-.4-.92-.59-1.43-.59-.52 0-1.04.2-1.43.59L10.3 9.45l-7.72 7.72c-.78.78-.78 2.05 0 2.83L4 21.41c.39.39.9.59 1.41.59.51 0 1.02-.2 1.41-.59l7.78-7.78 2.81-2.81c.8-.78.8-2.07 0-2.86zM5.41 20L4 18.59l7.72-7.72 1.47 1.35L5.41 20z\"/>\n",
       "  </svg>\n",
       "      </button>\n",
       "      \n",
       "  <style>\n",
       "    .colab-df-container {\n",
       "      display:flex;\n",
       "      flex-wrap:wrap;\n",
       "      gap: 12px;\n",
       "    }\n",
       "\n",
       "    .colab-df-convert {\n",
       "      background-color: #E8F0FE;\n",
       "      border: none;\n",
       "      border-radius: 50%;\n",
       "      cursor: pointer;\n",
       "      display: none;\n",
       "      fill: #1967D2;\n",
       "      height: 32px;\n",
       "      padding: 0 0 0 0;\n",
       "      width: 32px;\n",
       "    }\n",
       "\n",
       "    .colab-df-convert:hover {\n",
       "      background-color: #E2EBFA;\n",
       "      box-shadow: 0px 1px 2px rgba(60, 64, 67, 0.3), 0px 1px 3px 1px rgba(60, 64, 67, 0.15);\n",
       "      fill: #174EA6;\n",
       "    }\n",
       "\n",
       "    [theme=dark] .colab-df-convert {\n",
       "      background-color: #3B4455;\n",
       "      fill: #D2E3FC;\n",
       "    }\n",
       "\n",
       "    [theme=dark] .colab-df-convert:hover {\n",
       "      background-color: #434B5C;\n",
       "      box-shadow: 0px 1px 3px 1px rgba(0, 0, 0, 0.15);\n",
       "      filter: drop-shadow(0px 1px 2px rgba(0, 0, 0, 0.3));\n",
       "      fill: #FFFFFF;\n",
       "    }\n",
       "  </style>\n",
       "\n",
       "      <script>\n",
       "        const buttonEl =\n",
       "          document.querySelector('#df-ad5e2baf-f73a-450c-9ed2-7a7534b1b9e3 button.colab-df-convert');\n",
       "        buttonEl.style.display =\n",
       "          google.colab.kernel.accessAllowed ? 'block' : 'none';\n",
       "\n",
       "        async function convertToInteractive(key) {\n",
       "          const element = document.querySelector('#df-ad5e2baf-f73a-450c-9ed2-7a7534b1b9e3');\n",
       "          const dataTable =\n",
       "            await google.colab.kernel.invokeFunction('convertToInteractive',\n",
       "                                                     [key], {});\n",
       "          if (!dataTable) return;\n",
       "\n",
       "          const docLinkHtml = 'Like what you see? Visit the ' +\n",
       "            '<a target=\"_blank\" href=https://colab.research.google.com/notebooks/data_table.ipynb>data table notebook</a>'\n",
       "            + ' to learn more about interactive tables.';\n",
       "          element.innerHTML = '';\n",
       "          dataTable['output_type'] = 'display_data';\n",
       "          await google.colab.output.renderOutput(dataTable, element);\n",
       "          const docLink = document.createElement('div');\n",
       "          docLink.innerHTML = docLinkHtml;\n",
       "          element.appendChild(docLink);\n",
       "        }\n",
       "      </script>\n",
       "    </div>\n",
       "  </div>\n",
       "  "
      ],
      "text/plain": [
       "  InvoiceNo StockCode                          Description  Quantity  \\\n",
       "0    536365    85123A   WHITE HANGING HEART T-LIGHT HOLDER         6   \n",
       "1    536365     71053                  WHITE METAL LANTERN         6   \n",
       "2    536365    84406B       CREAM CUPID HEARTS COAT HANGER         8   \n",
       "3    536365    84029G  KNITTED UNION FLAG HOT WATER BOTTLE         6   \n",
       "4    536365    84029E       RED WOOLLY HOTTIE WHITE HEART.         6   \n",
       "\n",
       "          InvoiceDate  UnitPrice CustomerID         Country  Totalprice  \n",
       "0 2010-12-01 08:26:00       2.55      17850  United Kingdom       15.30  \n",
       "1 2010-12-01 08:26:00       3.39      17850  United Kingdom       20.34  \n",
       "2 2010-12-01 08:26:00       2.75      17850  United Kingdom       22.00  \n",
       "3 2010-12-01 08:26:00       3.39      17850  United Kingdom       20.34  \n",
       "4 2010-12-01 08:26:00       3.39      17850  United Kingdom       20.34  "
      ]
     },
     "execution_count": 17,
     "metadata": {},
     "output_type": "execute_result"
    }
   ],
   "source": [
    "df.head()"
   ]
  },
  {
   "cell_type": "code",
   "execution_count": 18,
   "metadata": {
    "colab": {
     "base_uri": "https://localhost:8080/"
    },
    "id": "e1SE1DjdScOh",
    "outputId": "25627768-7b54-4dfa-e7e8-e5fe0f43c0ef"
   },
   "outputs": [
    {
     "data": {
      "text/plain": [
       "(338182, 9)"
      ]
     },
     "execution_count": 18,
     "metadata": {},
     "output_type": "execute_result"
    }
   ],
   "source": [
    "df.shape"
   ]
  },
  {
   "cell_type": "markdown",
   "metadata": {
    "id": "eXWJJB_2YQWZ"
   },
   "source": [
    "#RFM Analysis"
   ]
  },
  {
   "cell_type": "code",
   "execution_count": 19,
   "metadata": {
    "colab": {
     "base_uri": "https://localhost:8080/"
    },
    "id": "2u6WcxcNY4vM",
    "outputId": "171775d4-aed5-4ad2-9a52-4b103421d89d"
   },
   "outputs": [
    {
     "name": "stdout",
     "output_type": "stream",
     "text": [
      "2011-12-09 12:50:00\n"
     ]
    }
   ],
   "source": [
    "print(df['InvoiceDate'].max())"
   ]
  },
  {
   "cell_type": "code",
   "execution_count": 20,
   "metadata": {
    "colab": {
     "base_uri": "https://localhost:8080/"
    },
    "id": "uc0M_9XoZBVS",
    "outputId": "dde07dcd-5ae4-49b1-b959-ca072a328159"
   },
   "outputs": [
    {
     "name": "stdout",
     "output_type": "stream",
     "text": [
      "2011-12-11 00:00:00\n"
     ]
    }
   ],
   "source": [
    "today_date= dt.datetime(2011,12,11)\n",
    "print(today_date)"
   ]
  },
  {
   "cell_type": "code",
   "execution_count": 21,
   "metadata": {
    "id": "gQcm7zbfSxmx"
   },
   "outputs": [],
   "source": [
    "rfm= df.groupby('CustomerID').agg({\n",
    "    # calculate the number of days since the customer most recent trancsaction (recency)\n",
    "    'InvoiceDate': lambda x:(today_date - x.max()).days,\n",
    "    # frequency \n",
    "    'InvoiceNo':lambda x:x.nunique(),\n",
    "    #calculte the each amount invest by each customer (monetry)\n",
    "    'Totalprice': lambda x :x.sum()\n",
    "})\n",
    "\n",
    "rfm.columns= ['recency','frequency','monetry']\n",
    "rfm=rfm[rfm['monetry']>=0]\n",
    "# reset the index of dataframe\n",
    "rfm=rfm.reset_index()"
   ]
  },
  {
   "cell_type": "code",
   "execution_count": 22,
   "metadata": {
    "colab": {
     "base_uri": "https://localhost:8080/"
    },
    "id": "LDj6ah9zYWk6",
    "outputId": "614c19f3-dd39-4093-b29a-8f0a4c385442"
   },
   "outputs": [
    {
     "data": {
      "text/plain": [
       "0        7\n",
       "1        3\n",
       "2        1\n",
       "3        1\n",
       "4        7\n",
       "        ..\n",
       "4187     1\n",
       "4188     1\n",
       "4189     2\n",
       "4190    16\n",
       "4191     3\n",
       "Name: frequency, Length: 4192, dtype: int64"
      ]
     },
     "execution_count": 22,
     "metadata": {},
     "output_type": "execute_result"
    }
   ],
   "source": [
    "rfm['frequency']"
   ]
  },
  {
   "cell_type": "markdown",
   "metadata": {
    "id": "ogiJZY39ccVv"
   },
   "source": [
    "## rfm score\n"
   ]
  },
  {
   "cell_type": "code",
   "execution_count": 23,
   "metadata": {
    "id": "-N6Z2poPYWjh"
   },
   "outputs": [],
   "source": [
    "def get_rfm_score(dataframe):\n",
    "  df=dataframe.copy()\n",
    "  df['recency_score']=pd.qcut(df['recency'].rank(method='first'),5, labels=[5,4,3,2,1]).astype(int)\n",
    "  df[\"frequency_score\"]=pd.qcut(df['frequency'].rank(method=\"first\"),5,labels=[1,2,3,4,5]).astype(int)\n",
    "  df['monetry_score']=pd.qcut(df['monetry'].rank(method='first'),5, labels=[1,2,3,4,5]).astype(int)\n",
    "  df['RFM_score']=df['recency_score'].astype(str)+df['frequency_score'].astype(str)+df['monetry_score'].astype(str)\n",
    "  return df\n"
   ]
  },
  {
   "cell_type": "code",
   "execution_count": 24,
   "metadata": {
    "id": "Krnz3W6HYWcW"
   },
   "outputs": [],
   "source": [
    "rfm_scores=get_rfm_score(rfm)"
   ]
  },
  {
   "cell_type": "code",
   "execution_count": 25,
   "metadata": {
    "colab": {
     "base_uri": "https://localhost:8080/",
     "height": 206
    },
    "id": "25LQt5siYWXl",
    "outputId": "d41cc94e-7105-48ec-c8b5-7b1549846c4c"
   },
   "outputs": [
    {
     "data": {
      "text/html": [
       "\n",
       "  <div id=\"df-016ff395-20f4-4ac4-a6c5-172fd4470c6c\">\n",
       "    <div class=\"colab-df-container\">\n",
       "      <div>\n",
       "<style scoped>\n",
       "    .dataframe tbody tr th:only-of-type {\n",
       "        vertical-align: middle;\n",
       "    }\n",
       "\n",
       "    .dataframe tbody tr th {\n",
       "        vertical-align: top;\n",
       "    }\n",
       "\n",
       "    .dataframe thead th {\n",
       "        text-align: right;\n",
       "    }\n",
       "</style>\n",
       "<table border=\"1\" class=\"dataframe\">\n",
       "  <thead>\n",
       "    <tr style=\"text-align: right;\">\n",
       "      <th></th>\n",
       "      <th>CustomerID</th>\n",
       "      <th>recency</th>\n",
       "      <th>frequency</th>\n",
       "      <th>monetry</th>\n",
       "      <th>recency_score</th>\n",
       "      <th>frequency_score</th>\n",
       "      <th>monetry_score</th>\n",
       "      <th>RFM_score</th>\n",
       "    </tr>\n",
       "  </thead>\n",
       "  <tbody>\n",
       "    <tr>\n",
       "      <th>0</th>\n",
       "      <td>12347</td>\n",
       "      <td>3</td>\n",
       "      <td>7</td>\n",
       "      <td>3314.73</td>\n",
       "      <td>5</td>\n",
       "      <td>5</td>\n",
       "      <td>5</td>\n",
       "      <td>555</td>\n",
       "    </tr>\n",
       "    <tr>\n",
       "      <th>1</th>\n",
       "      <td>12348</td>\n",
       "      <td>249</td>\n",
       "      <td>3</td>\n",
       "      <td>90.20</td>\n",
       "      <td>1</td>\n",
       "      <td>3</td>\n",
       "      <td>1</td>\n",
       "      <td>131</td>\n",
       "    </tr>\n",
       "    <tr>\n",
       "      <th>2</th>\n",
       "      <td>12349</td>\n",
       "      <td>19</td>\n",
       "      <td>1</td>\n",
       "      <td>999.15</td>\n",
       "      <td>4</td>\n",
       "      <td>1</td>\n",
       "      <td>4</td>\n",
       "      <td>414</td>\n",
       "    </tr>\n",
       "    <tr>\n",
       "      <th>3</th>\n",
       "      <td>12350</td>\n",
       "      <td>311</td>\n",
       "      <td>1</td>\n",
       "      <td>294.40</td>\n",
       "      <td>1</td>\n",
       "      <td>1</td>\n",
       "      <td>2</td>\n",
       "      <td>112</td>\n",
       "    </tr>\n",
       "    <tr>\n",
       "      <th>4</th>\n",
       "      <td>12352</td>\n",
       "      <td>37</td>\n",
       "      <td>7</td>\n",
       "      <td>1130.94</td>\n",
       "      <td>3</td>\n",
       "      <td>5</td>\n",
       "      <td>4</td>\n",
       "      <td>354</td>\n",
       "    </tr>\n",
       "  </tbody>\n",
       "</table>\n",
       "</div>\n",
       "      <button class=\"colab-df-convert\" onclick=\"convertToInteractive('df-016ff395-20f4-4ac4-a6c5-172fd4470c6c')\"\n",
       "              title=\"Convert this dataframe to an interactive table.\"\n",
       "              style=\"display:none;\">\n",
       "        \n",
       "  <svg xmlns=\"http://www.w3.org/2000/svg\" height=\"24px\"viewBox=\"0 0 24 24\"\n",
       "       width=\"24px\">\n",
       "    <path d=\"M0 0h24v24H0V0z\" fill=\"none\"/>\n",
       "    <path d=\"M18.56 5.44l.94 2.06.94-2.06 2.06-.94-2.06-.94-.94-2.06-.94 2.06-2.06.94zm-11 1L8.5 8.5l.94-2.06 2.06-.94-2.06-.94L8.5 2.5l-.94 2.06-2.06.94zm10 10l.94 2.06.94-2.06 2.06-.94-2.06-.94-.94-2.06-.94 2.06-2.06.94z\"/><path d=\"M17.41 7.96l-1.37-1.37c-.4-.4-.92-.59-1.43-.59-.52 0-1.04.2-1.43.59L10.3 9.45l-7.72 7.72c-.78.78-.78 2.05 0 2.83L4 21.41c.39.39.9.59 1.41.59.51 0 1.02-.2 1.41-.59l7.78-7.78 2.81-2.81c.8-.78.8-2.07 0-2.86zM5.41 20L4 18.59l7.72-7.72 1.47 1.35L5.41 20z\"/>\n",
       "  </svg>\n",
       "      </button>\n",
       "      \n",
       "  <style>\n",
       "    .colab-df-container {\n",
       "      display:flex;\n",
       "      flex-wrap:wrap;\n",
       "      gap: 12px;\n",
       "    }\n",
       "\n",
       "    .colab-df-convert {\n",
       "      background-color: #E8F0FE;\n",
       "      border: none;\n",
       "      border-radius: 50%;\n",
       "      cursor: pointer;\n",
       "      display: none;\n",
       "      fill: #1967D2;\n",
       "      height: 32px;\n",
       "      padding: 0 0 0 0;\n",
       "      width: 32px;\n",
       "    }\n",
       "\n",
       "    .colab-df-convert:hover {\n",
       "      background-color: #E2EBFA;\n",
       "      box-shadow: 0px 1px 2px rgba(60, 64, 67, 0.3), 0px 1px 3px 1px rgba(60, 64, 67, 0.15);\n",
       "      fill: #174EA6;\n",
       "    }\n",
       "\n",
       "    [theme=dark] .colab-df-convert {\n",
       "      background-color: #3B4455;\n",
       "      fill: #D2E3FC;\n",
       "    }\n",
       "\n",
       "    [theme=dark] .colab-df-convert:hover {\n",
       "      background-color: #434B5C;\n",
       "      box-shadow: 0px 1px 3px 1px rgba(0, 0, 0, 0.15);\n",
       "      filter: drop-shadow(0px 1px 2px rgba(0, 0, 0, 0.3));\n",
       "      fill: #FFFFFF;\n",
       "    }\n",
       "  </style>\n",
       "\n",
       "      <script>\n",
       "        const buttonEl =\n",
       "          document.querySelector('#df-016ff395-20f4-4ac4-a6c5-172fd4470c6c button.colab-df-convert');\n",
       "        buttonEl.style.display =\n",
       "          google.colab.kernel.accessAllowed ? 'block' : 'none';\n",
       "\n",
       "        async function convertToInteractive(key) {\n",
       "          const element = document.querySelector('#df-016ff395-20f4-4ac4-a6c5-172fd4470c6c');\n",
       "          const dataTable =\n",
       "            await google.colab.kernel.invokeFunction('convertToInteractive',\n",
       "                                                     [key], {});\n",
       "          if (!dataTable) return;\n",
       "\n",
       "          const docLinkHtml = 'Like what you see? Visit the ' +\n",
       "            '<a target=\"_blank\" href=https://colab.research.google.com/notebooks/data_table.ipynb>data table notebook</a>'\n",
       "            + ' to learn more about interactive tables.';\n",
       "          element.innerHTML = '';\n",
       "          dataTable['output_type'] = 'display_data';\n",
       "          await google.colab.output.renderOutput(dataTable, element);\n",
       "          const docLink = document.createElement('div');\n",
       "          docLink.innerHTML = docLinkHtml;\n",
       "          element.appendChild(docLink);\n",
       "        }\n",
       "      </script>\n",
       "    </div>\n",
       "  </div>\n",
       "  "
      ],
      "text/plain": [
       "  CustomerID  recency  frequency  monetry  recency_score  frequency_score  \\\n",
       "0      12347        3          7  3314.73              5                5   \n",
       "1      12348      249          3    90.20              1                3   \n",
       "2      12349       19          1   999.15              4                1   \n",
       "3      12350      311          1   294.40              1                1   \n",
       "4      12352       37          7  1130.94              3                5   \n",
       "\n",
       "   monetry_score RFM_score  \n",
       "0              5       555  \n",
       "1              1       131  \n",
       "2              4       414  \n",
       "3              2       112  \n",
       "4              4       354  "
      ]
     },
     "execution_count": 25,
     "metadata": {},
     "output_type": "execute_result"
    }
   ],
   "source": [
    "rfm_scores.head()"
   ]
  },
  {
   "cell_type": "markdown",
   "metadata": {
    "id": "emrNrNIJuQrM"
   },
   "source": [
    "## segmentation"
   ]
  },
  {
   "cell_type": "code",
   "execution_count": 26,
   "metadata": {
    "colab": {
     "base_uri": "https://localhost:8080/",
     "height": 270
    },
    "id": "sngjcsYUuQVo",
    "outputId": "bf410156-26ed-4bfc-9d80-03a247e22444"
   },
   "outputs": [
    {
     "data": {
      "text/html": [
       "\n",
       "  <div id=\"df-05e5b6a6-0f38-4661-a0c2-5f76d1b8e13e\">\n",
       "    <div class=\"colab-df-container\">\n",
       "      <div>\n",
       "<style scoped>\n",
       "    .dataframe tbody tr th:only-of-type {\n",
       "        vertical-align: middle;\n",
       "    }\n",
       "\n",
       "    .dataframe tbody tr th {\n",
       "        vertical-align: top;\n",
       "    }\n",
       "\n",
       "    .dataframe thead th {\n",
       "        text-align: right;\n",
       "    }\n",
       "</style>\n",
       "<table border=\"1\" class=\"dataframe\">\n",
       "  <thead>\n",
       "    <tr style=\"text-align: right;\">\n",
       "      <th></th>\n",
       "      <th>CustomerID</th>\n",
       "      <th>recency</th>\n",
       "      <th>frequency</th>\n",
       "      <th>monetry</th>\n",
       "      <th>recency_score</th>\n",
       "      <th>frequency_score</th>\n",
       "      <th>monetry_score</th>\n",
       "      <th>RFM_score</th>\n",
       "      <th>segment</th>\n",
       "    </tr>\n",
       "  </thead>\n",
       "  <tbody>\n",
       "    <tr>\n",
       "      <th>0</th>\n",
       "      <td>12347</td>\n",
       "      <td>3</td>\n",
       "      <td>7</td>\n",
       "      <td>3314.73</td>\n",
       "      <td>5</td>\n",
       "      <td>5</td>\n",
       "      <td>5</td>\n",
       "      <td>555</td>\n",
       "      <td>best</td>\n",
       "    </tr>\n",
       "    <tr>\n",
       "      <th>1</th>\n",
       "      <td>12348</td>\n",
       "      <td>249</td>\n",
       "      <td>3</td>\n",
       "      <td>90.20</td>\n",
       "      <td>1</td>\n",
       "      <td>3</td>\n",
       "      <td>1</td>\n",
       "      <td>131</td>\n",
       "      <td>average</td>\n",
       "    </tr>\n",
       "    <tr>\n",
       "      <th>2</th>\n",
       "      <td>12349</td>\n",
       "      <td>19</td>\n",
       "      <td>1</td>\n",
       "      <td>999.15</td>\n",
       "      <td>4</td>\n",
       "      <td>1</td>\n",
       "      <td>4</td>\n",
       "      <td>414</td>\n",
       "      <td>average</td>\n",
       "    </tr>\n",
       "    <tr>\n",
       "      <th>3</th>\n",
       "      <td>12350</td>\n",
       "      <td>311</td>\n",
       "      <td>1</td>\n",
       "      <td>294.40</td>\n",
       "      <td>1</td>\n",
       "      <td>1</td>\n",
       "      <td>2</td>\n",
       "      <td>112</td>\n",
       "      <td>average</td>\n",
       "    </tr>\n",
       "    <tr>\n",
       "      <th>4</th>\n",
       "      <td>12352</td>\n",
       "      <td>37</td>\n",
       "      <td>7</td>\n",
       "      <td>1130.94</td>\n",
       "      <td>3</td>\n",
       "      <td>5</td>\n",
       "      <td>4</td>\n",
       "      <td>354</td>\n",
       "      <td>faithfull</td>\n",
       "    </tr>\n",
       "  </tbody>\n",
       "</table>\n",
       "</div>\n",
       "      <button class=\"colab-df-convert\" onclick=\"convertToInteractive('df-05e5b6a6-0f38-4661-a0c2-5f76d1b8e13e')\"\n",
       "              title=\"Convert this dataframe to an interactive table.\"\n",
       "              style=\"display:none;\">\n",
       "        \n",
       "  <svg xmlns=\"http://www.w3.org/2000/svg\" height=\"24px\"viewBox=\"0 0 24 24\"\n",
       "       width=\"24px\">\n",
       "    <path d=\"M0 0h24v24H0V0z\" fill=\"none\"/>\n",
       "    <path d=\"M18.56 5.44l.94 2.06.94-2.06 2.06-.94-2.06-.94-.94-2.06-.94 2.06-2.06.94zm-11 1L8.5 8.5l.94-2.06 2.06-.94-2.06-.94L8.5 2.5l-.94 2.06-2.06.94zm10 10l.94 2.06.94-2.06 2.06-.94-2.06-.94-.94-2.06-.94 2.06-2.06.94z\"/><path d=\"M17.41 7.96l-1.37-1.37c-.4-.4-.92-.59-1.43-.59-.52 0-1.04.2-1.43.59L10.3 9.45l-7.72 7.72c-.78.78-.78 2.05 0 2.83L4 21.41c.39.39.9.59 1.41.59.51 0 1.02-.2 1.41-.59l7.78-7.78 2.81-2.81c.8-.78.8-2.07 0-2.86zM5.41 20L4 18.59l7.72-7.72 1.47 1.35L5.41 20z\"/>\n",
       "  </svg>\n",
       "      </button>\n",
       "      \n",
       "  <style>\n",
       "    .colab-df-container {\n",
       "      display:flex;\n",
       "      flex-wrap:wrap;\n",
       "      gap: 12px;\n",
       "    }\n",
       "\n",
       "    .colab-df-convert {\n",
       "      background-color: #E8F0FE;\n",
       "      border: none;\n",
       "      border-radius: 50%;\n",
       "      cursor: pointer;\n",
       "      display: none;\n",
       "      fill: #1967D2;\n",
       "      height: 32px;\n",
       "      padding: 0 0 0 0;\n",
       "      width: 32px;\n",
       "    }\n",
       "\n",
       "    .colab-df-convert:hover {\n",
       "      background-color: #E2EBFA;\n",
       "      box-shadow: 0px 1px 2px rgba(60, 64, 67, 0.3), 0px 1px 3px 1px rgba(60, 64, 67, 0.15);\n",
       "      fill: #174EA6;\n",
       "    }\n",
       "\n",
       "    [theme=dark] .colab-df-convert {\n",
       "      background-color: #3B4455;\n",
       "      fill: #D2E3FC;\n",
       "    }\n",
       "\n",
       "    [theme=dark] .colab-df-convert:hover {\n",
       "      background-color: #434B5C;\n",
       "      box-shadow: 0px 1px 3px 1px rgba(0, 0, 0, 0.15);\n",
       "      filter: drop-shadow(0px 1px 2px rgba(0, 0, 0, 0.3));\n",
       "      fill: #FFFFFF;\n",
       "    }\n",
       "  </style>\n",
       "\n",
       "      <script>\n",
       "        const buttonEl =\n",
       "          document.querySelector('#df-05e5b6a6-0f38-4661-a0c2-5f76d1b8e13e button.colab-df-convert');\n",
       "        buttonEl.style.display =\n",
       "          google.colab.kernel.accessAllowed ? 'block' : 'none';\n",
       "\n",
       "        async function convertToInteractive(key) {\n",
       "          const element = document.querySelector('#df-05e5b6a6-0f38-4661-a0c2-5f76d1b8e13e');\n",
       "          const dataTable =\n",
       "            await google.colab.kernel.invokeFunction('convertToInteractive',\n",
       "                                                     [key], {});\n",
       "          if (!dataTable) return;\n",
       "\n",
       "          const docLinkHtml = 'Like what you see? Visit the ' +\n",
       "            '<a target=\"_blank\" href=https://colab.research.google.com/notebooks/data_table.ipynb>data table notebook</a>'\n",
       "            + ' to learn more about interactive tables.';\n",
       "          element.innerHTML = '';\n",
       "          dataTable['output_type'] = 'display_data';\n",
       "          await google.colab.output.renderOutput(dataTable, element);\n",
       "          const docLink = document.createElement('div');\n",
       "          docLink.innerHTML = docLinkHtml;\n",
       "          element.appendChild(docLink);\n",
       "        }\n",
       "      </script>\n",
       "    </div>\n",
       "  </div>\n",
       "  "
      ],
      "text/plain": [
       "  CustomerID  recency  frequency  monetry  recency_score  frequency_score  \\\n",
       "0      12347        3          7  3314.73              5                5   \n",
       "1      12348      249          3    90.20              1                3   \n",
       "2      12349       19          1   999.15              4                1   \n",
       "3      12350      311          1   294.40              1                1   \n",
       "4      12352       37          7  1130.94              3                5   \n",
       "\n",
       "   monetry_score RFM_score    segment  \n",
       "0              5       555       best  \n",
       "1              1       131    average  \n",
       "2              4       414    average  \n",
       "3              2       112    average  \n",
       "4              4       354  faithfull  "
      ]
     },
     "execution_count": 26,
     "metadata": {},
     "output_type": "execute_result"
    }
   ],
   "source": [
    "# define a dictionary that maps the RFM score ranges to customer segments\n",
    "seg_map={r'[4-5][4-5][4-5]':'best',\n",
    "         r'[3-5]5[2-5]':'faithfull',\n",
    "         r'[2-5][2-5]5':'highest_paying',\n",
    "         r'[3-5][3-5][1-5]':'most_loyal',\n",
    "         r'333':'need_attention',\n",
    "         r'[2-4][2=4][1-5]':'good',\n",
    "         r'[1-5][1-5][1-5]':'average'\n",
    "\n",
    "         }\n",
    "#replace the rfm score value in rfm_score column of the rfm_score dataframe with the corresponding segment \n",
    "rfm_scores['segment']=rfm_scores['RFM_score'].replace(seg_map, regex=True)\n",
    "rfm_scores.head()"
   ]
  },
  {
   "cell_type": "code",
   "execution_count": 27,
   "metadata": {
    "colab": {
     "base_uri": "https://localhost:8080/",
     "height": 357
    },
    "id": "vnomiI2muP_j",
    "outputId": "1c8478d6-1eed-489b-a5b1-978681501941"
   },
   "outputs": [
    {
     "data": {
      "image/png": "[encoded data removed]",
      "text/plain": [
       "<Figure size 1080x432 with 1 Axes>"
      ]
     },
     "metadata": {
      "needs_background": "light"
     },
     "output_type": "display_data"
    }
   ],
   "source": [
    "plt.figure(figsize=(15,6))\n",
    "ax=sns.countplot(data=rfm_scores,\n",
    "                 x='segment')\n",
    "plt.show()"
   ]
  },
  {
   "cell_type": "code",
   "execution_count": 28,
   "metadata": {
    "colab": {
     "base_uri": "https://localhost:8080/",
     "height": 474
    },
    "id": "sZjvvKx4uP9H",
    "outputId": "20f5d09c-89e5-495d-ef84-3a01476a54d6"
   },
   "outputs": [
    {
     "data": {
      "image/png": "[encoded data removed]",
      "text/plain": [
       "<Figure size 1080x576 with 1 Axes>"
      ]
     },
     "metadata": {
      "needs_background": "light"
     },
     "output_type": "display_data"
    }
   ],
   "source": [
    "plt.figure(figsize=(15,8))\n",
    "sns.scatterplot(data=rfm_scores,x='recency',y='frequency',hue='segment',s=100)\n",
    "plt.title('recency and frequency by segment')\n",
    "plt.xlabel('recency',size=12)\n",
    "plt.ylabel('frequency',size=12)\n",
    "plt.xticks(size=10)\n",
    "plt.yticks(size=10)\n",
    "plt.show()"
   ]
  },
  {
   "cell_type": "code",
   "execution_count": 29,
   "metadata": {
    "colab": {
     "base_uri": "https://localhost:8080/",
     "height": 542
    },
    "id": "7aNKG1M6YWWC",
    "outputId": "9fb5a896-2be1-487c-840d-6e29ced8500c"
   },
   "outputs": [
    {
     "data": {
      "text/html": [
       "<html>\n",
       "<head><meta charset=\"utf-8\" /></head>\n",
       "<body>\n",
       "    <div>            <script src=\"https://cdnjs.cloudflare.com/ajax/libs/mathjax/2.7.5/MathJax.js?config=TeX-AMS-MML_SVG\"></script><script type=\"text/javascript\">if (window.MathJax) {MathJax.Hub.Config({SVG: {font: \"STIX-Web\"}});}</script>                <script type=\"text/javascript\">window.PlotlyConfig = {MathJaxConfig: 'local'};</script>\n",
       "        <script src=\"https://cdn.plot.ly/plotly-2.8.3.min.js\"></script>                <div id=\"ff193dfa-7da9-4bc6-bbf8-5aac3cbe70d0\" class=\"plotly-graph-div\" style=\"height:525px; width:100%;\"></div>            <script type=\"text/javascript\">                                    window.PLOTLYENV=window.PLOTLYENV || {};                                    if (document.getElementById(\"ff193dfa-7da9-4bc6-bbf8-5aac3cbe70d0\")) {                    Plotly.newPlot(                        \"ff193dfa-7da9-4bc6-bbf8-5aac3cbe70d0\",                        [{\"hovertemplate\":\"segment=best<br>monetry=%{x}<br>frequency=%{y}<br>recency=%{z}<extra></extra>\",\"legendgroup\":\"best\",\"marker\":{\"color\":\"#636efa\",\"opacity\":0.7,\"symbol\":\"circle\"},\"mode\":\"markers\",\"name\":\"best\",\"scene\":\"scene\",\"showlegend\":true,\"x\":[3314.7300000000005,4098.9400000000005,1738.25,1253.46,2466.7000000000003,1844.57,1869.47,3756.059999999999,2151.75,1535.61,4830.43,2313.0400000000004,7947.37,2760.54,2382.56,2733.84,5878.3099999999995,8738.779999999999,5052.03,6166.9,3530.8300000000004,7057.34,2266.9400000000005,3462.2,1486.5400000000002,4227.110000000001,951.7500000000001,2198.09,1750.09,1277.91,1719.2099999999998,1121.63,4141.6,7967.64,2933.7000000000003,2701.74,6673.58,2704.69,5267.89,1100.6,2544.07,2103.43,764.3800000000001,1996.2199999999998,1479.6400000000003,1552.9900000000002,681.02,7699.9800000000005,4945.49,3675.3,1843.8699999999997,1873.35,3289.43,2666.0,2087.4700000000003,1031.3899999999999,736.9700000000001,9584.4,8437.94,5146.41,1646.1899999999998,2437.6499999999996,3888.6400000000003,1180.98,5154.4,2117.96,4615.320000000001,2586.98,3621.03,4424.389999999999,2108.19,923.41,1550.1,2461.5200000000004,7116.6900000000005,2640.41,21046.629999999997,2737.7300000000005,1988.77,3194.0,5713.120000000001,952.1400000000001,1811.47,1011.3000000000002,923.62,1460.8000000000002,961.96,5115.120000000001,3339.54,1969.18,3664.7700000000004,1413.31,1162.35,1108.02,2297.0200000000004,735.6600000000002,1088.45,1159.21,13030.369999999999,1851.5500000000002,1233.1200000000001,1892.36,3639.92,979.1200000000001,1058.26,3260.2599999999998,3547.04,1664.0600000000002,5357.93,1277.23,880.09,5093.200000000001,5139.96,1431.15,4146.4,1499.0300000000002,6530.119999999999,1855.9600000000003,2646.26,1810.4099999999999,4707.73,893.12,3449.8199999999997,7392.89,17925.53,36411.630000000005,3737.11,4091.88,9869.380000000001,4998.6900000000005,971.2200000000001,3286.14,2029.06,840.7000000000002,1125.96,1783.57,3553.89,946.49,2473.04,2709.2200000000003,1210.68,1215.79,4569.75,1126.6299999999999,1429.1100000000001,1704.0300000000002,3181.55,2420.0,798.6800000000001,4798.16,2087.79,982.1600000000001,844.31,6723.0,2290.6099999999997,3704.6900000000005,2847.0,4353.110000000001,2566.02,1641.5900000000001,1000.21,1389.78,1475.12,9305.39,2686.64,3045.75,2877.66,1999.0900000000001,9337.800000000001,4699.710000000001,3007.0199999999995,816.6899999999999,1894.06,2384.3599999999997,3032.1800000000003,1272.48,2627.8500000000004,1180.1200000000001,7396.570000000001,3762.89,2219.13,6585.43,1716.0699999999997,1991.6100000000001,662.68,1565.0199999999998,5186.380000000001,2455.51,793.8499999999999,2017.27,674.5699999999999,1797.6599999999996,1353.4999999999995,2331.8099999999995,1417.4999999999998,3840.66,891.78,1076.8600000000001,866.9399999999999,1766.71,1979.0900000000001,1164.52,1567.2900000000002,1735.8499999999997,4326.41,2112.84,796.0300000000001,2576.6099999999997,1616.53,1856.62,1817.8000000000002,4719.049999999999,1088.3200000000002,855.41,1970.9899999999998,1918.8100000000002,805.1999999999999,1657.35,2850.4400000000005,1955.39,7636.66,2138.47,3343.6900000000005,766.56,2138.11,2303.89,1115.66,3007.46,1171.86,692.37,2557.92,1106.93,2131.96,1713.04,5070.75,2927.18,2902.560000000001,686.3399999999999,2176.33,670.4500000000002,1807.46,2144.6699999999996,1544.05,1389.88,2119.84,678.54,6503.4,2502.56,2280.6900000000005,6863.23,3170.07,724.9300000000001,2028.4400000000003,1308.9899999999998,3506.8100000000004,1242.9,1595.9500000000003,6164.410000000001,2173.0099999999998,876.0699999999999,4687.74,10378.01,5914.15,4107.27,2591.62,2289.8900000000003,803.15,993.28,835.6300000000001,3866.1000000000004,15700.619999999999,3874.81,36019.84,2668.76,817.88,2505.16,1091.04,2370.5600000000004,1077.0600000000002,2714.17,2849.29,902.38,3054.55,18300.66,4491.04,1467.16,1779.8200000000002,1763.86,3787.74,4273.1,9440.61,1098.55,938.1400000000001,1650.47,1082.66,1253.13,1273.89,2897.32,728.26,2205.1300000000006,1796.8200000000002,2439.26,2337.1099999999997,2679.7799999999997,1983.2000000000003,3262.5,1665.33,951.1600000000002,1102.85,24387.53,2234.8899999999994,1766.4499999999998,1178.4,4013.63,1829.61,1281.1100000000001,1732.8300000000002,7250.9400000000005,2804.56,3426.1700000000005,3157.01,994.82,2722.9399999999996,1823.53,5181.0,1032.21,3462.6899999999996,2998.21,784.81,2032.92,964.8,1549.88,1378.5900000000004,928.45,1147.33,873.8500000000001,2695.68,1400.6499999999999,1078.6699999999998,977.1800000000001,2047.0300000000002,1941.8200000000002,2664.66,4977.96,1258.37,1173.41,1567.7099999999998,1454.68,2352.16,4321.8099999999995,2017.8500000000004,757.4400000000002,3238.08,1136.3899999999999,2370.54,3348.5499999999997,1946.8299999999997,4055.120000000001,2344.81,859.7100000000002,857.0400000000001,1279.18,971.1400000000001,1524.9600000000003,8269.46,1490.42,690.85,2035.8200000000002,1669.46,11901.92,978.9600000000002,1491.55,939.2800000000002,707.3700000000001,2302.7799999999997,5982.09,1334.6399999999999,702.12,3943.2,1176.73,3757.6899999999996,1861.9399999999996,1750.7399999999998,1070.06,1725.87,2368.94,1343.73,4341.820000000001,1807.35,2151.3100000000004,687.23,1471.1800000000003,1028.28,1576.5600000000002,2177.19,4398.040000000001,4182.42,745.38,1270.3400000000001,1330.0900000000001,4106.17,2282.42,8443.17,1060.0599999999997,7129.73,711.71,1985.21,1249.42,6635.390000000001,1190.54,2629.24,1268.8400000000001,727.75,8175.240000000001,672.5799999999999,915.23,1040.31,2401.73,2998.5800000000004,85018.78,790.8800000000001,4288.9,927.11,6021.23,999.0900000000001,5630.26,1578.67,4561.139999999999,1495.23,2316.64,3042.46,14094.52,5489.9,2396.03,1859.3400000000001,6687.17,9220.619999999999,1906.61,1807.28,1728.99,1235.4499999999998,2650.1600000000003,1092.68,1146.73,791.69,1299.55,1234.5000000000002,5997.620000000001,921.73,4615.33,3794.9900000000002,14334.960000000001,1385.88,1533.79,1994.2399999999998,5114.180000000001,5099.79,1757.4,1497.14,3102.6500000000005,1252.38,747.2299999999999,6298.460000000001,847.2899999999998,842.0500000000001,2196.77,689.4600000000002,3920.12,2234.16,3106.88,17756.309999999998,1658.31,2728.95,7616.459999999999,2115.7200000000003,1400.0100000000002,5136.82,1374.4899999999998,1743.6899999999998,768.97,1022.2000000000003,675.45,1239.39,833.86,965.93,2700.3500000000004,903.2600000000001,1176.7199999999998,1854.59,2176.88,2517.17,1398.96,746.3900000000001,1225.2,11199.470000000001,837.13,3505.42,745.39,2139.7400000000002,1482.64,3651.56,1072.96,1107.5900000000001,3479.21,3939.4699999999993,4025.9,1120.8300000000002,724.39,3220.88,1765.4299999999998,663.01,1648.5000000000002,5198.570000000001,682.71,8027.48,739.9510000000001,2584.34,2874.8500000000004,8021.030000000001,1470.24,1179.8100000000002,2787.2200000000003,690.9800000000001,1153.39,1358.1599999999999,2344.2300000000005,2436.76,1188.8,842.9,4647.16,3889.91,948.8499999999999,3804.9400000000005,928.5400000000001,658.4899999999997,2173.58,2059.84,1351.38,1115.67,767.3499999999999,2050.16,3350.1800000000003,4706.15,1910.63,994.09,717.84,2953.0699999999997,1992.26,9646.509999999998,1187.08,2769.61,657.29,2255.7999999999997,688.5799999999998,2050.44,1247.79,834.1,1157.53,1091.7199999999998,1591.4099999999996,1035.0500000000002,1607.71,958.03,3714.51,788.77,2328.4799999999996,1129.81,1872.7,2268.58,1628.8700000000001,685.76,3234.23,869.9,1281.31,707.0099999999999,6928.9,1115.0700000000002,1955.4700000000003,1086.5700000000002,2002.9599999999998,852.4000000000001,847.9299999999998,1519.47,4571.230000000001,1819.2700000000002,5853.43,1948.19,3235.3500000000004,2711.6400000000003,4655.76,678.54,1838.22,1651.8200000000002,1216.6200000000001,3643.0800000000004,5428.56,2661.22,1739.92,1664.8000000000002,1186.38,2304.71,3244.4300000000003,1217.76,2180.61,4018.51,1246.45,1399.8,1322.1100000000001,1877.74,967.2600000000001,3904.4300000000003,1349.06,3194.01,1242.3000000000002,1040.37,1147.95,932.7,2745.0499999999997,2027.5,2991.26,716.81,684.0799999999999,1317.2900000000002,2006.68,3031.09,2683.04,1686.23,752.3,3487.4400000000005,1684.8899999999999,1202.8500000000004,748.6,3503.27,3469.3,729.49,1295.48,1103.27,1742.1000000000001,1259.6299999999999,699.26,874.5899999999999,4755.91,4041.7900000000004,1050.32,896.97,1372.9099999999999,3770.54,6452.219999999999,2176.7099999999996,1249.3700000000001,3584.33,658.0999999999999,2374.7200000000003,4808.900000000001,1036.76,1561.08,2337.1399999999994,1963.0499999999997,2259.55,921.7600000000001,1125.55,974.0099999999999,2726.3600000000006,1325.28,815.65,1132.17,3472.7200000000003,4005.2999999999997,2564.91,1357.7399999999998,1000.88,4800.46,2023.07,6634.369999999999,2137.4900000000002,2557.6000000000004,4720.2300000000005,3254.9300000000003,1284.17,3271.29,1155.4300000000003,2097.61,1046.87,5283.09,1515.8999999999999,1404.4799999999996,2547.15,3915.9100000000003,1275.2600000000002,7674.48,1798.3000000000002,1485.38,1430.38,1143.05,882.5899999999999,1426.37,4975.780000000001,1262.7100000000003,3091.15,1021.53,2083.25,3731.29,699.09,2267.2400000000002,5218.74,779.87,821.1200000000001,653.7,812.1100000000001,753.9000000000001,2712.55,2084.34,768.2,1137.51,1710.8799999999994,5390.79,698.25,1211.81,4214.75,1737.19,1519.79,4126.040000000001,674.7199999999999,1026.71,1137.3300000000002,1540.13,3875.84,879.6,1302.1599999999996,1335.2800000000002,3317.16,703.9300000000001,1747.79,5224.4400000000005,1129.81,964.65,967.4800000000002,1144.9799999999998,4305.34,795.28,2563.8100000000004,1276.6999999999998,4238.99,2422.95,1836.0800000000002,1143.02,1307.8999999999999,1651.61,1416.0400000000004,3421.370000000001,1184.9099999999996,771.8400000000001,799.72,1067.1799999999998,816.7,1839.12,7858.57,1270.0700000000002,954.77,1436.45,3356.9700000000003,1293.2599999999998,3226.8999999999996,2326.41,1430.71,1797.0100000000002,1798.93,1563.6299999999999,2796.4300000000003,1798.95,2685.8199999999997,787.5799999999999,3303.65,5859.9400000000005,709.51,799.45,890.96,1408.19,1044.48,2036.2400000000002,4215.719999999999,921.0699999999999,5940.0,8982.7,2271.4700000000003,990.6799999999998,956.75,3659.74,3828.03,3527.02,2717.48,1172.14,754.2599999999999,900.27,1178.74,4601.58,3475.62,1609.85,3895.29,5667.59,2021.72,2158.96,2545.34,1638.8000000000002,1661.8600000000001,1695.97,1091.96,1169.33,2138.03,12117.420000000002,654.91,1151.1,684.5899999999999,2755.06,2098.42,1220.91,1078.82,2775.5699999999997,2765.9,7945.8099999999995,1211.3899999999999,3086.96,1257.8300000000002,4280.68,3318.4199999999996,3937.02,685.9300000000001,692.8999999999999,1911.75,1467.3200000000002,1243.3400000000001,2287.71,3623.63,4274.92,1342.44,2354.8100000000004,1542.3600000000001,1119.5900000000001,1421.3999999999999,14162.95,1308.1,3524.49,2353.49,2535.2599999999993,4067.4800000000005,3287.92,2135.3900000000003,1016.99,1511.72,6826.93,4455.290000000001,860.54,2946.2799999999997,2549.9300000000003,3979.4800000000005,12077.38,1351.81,2131.35,1613.26,1176.6200000000001,1090.16,4312.150000000001,3130.05,680.49,1501.1900000000003,3311.6300000000006,1653.5000000000002,2538.96,729.4499999999999,5677.29,1221.03,1759.4900000000002,902.0199999999999,1870.56,32644.72,2071.1099999999997,1609.36,6390.82,1324.53,3472.1200000000003,703.38,1188.92,2036.1599999999999,858.24,687.9,3828.0500000000006,2982.09,1388.7000000000003,5429.66,1053.39,1803.16,1879.85,2141.49,2453.55,2818.12,766.73,2013.34,5344.04,3479.07,4672.75,1642.77,1035.31,941.1599999999999,3112.86,912.15,2761.12,1281.32,1259.46,4039.4999999999995,1279.02,1233.24,1637.3800000000006,1344.7199999999996,2018.1399999999996,1907.18,1616.92,913.8199999999999,5481.320000000001,4248.51,3664.7000000000003,2032.9000000000003,818.6400000000001,819.57,1786.6400000000003,2266.4300000000003,2203.6000000000004,1042.3999999999999,2794.96,2051.98],\"y\":[7,10,4,5,6,12,5,11,9,8,8,4,7,18,5,4,5,26,7,18,10,6,4,10,7,10,7,4,5,11,8,6,4,17,10,7,10,28,15,8,4,7,7,9,4,4,8,19,9,6,12,5,11,4,5,6,4,21,30,14,6,6,4,8,8,10,14,13,5,25,6,4,7,7,10,11,197,5,6,7,7,5,5,4,4,7,6,14,25,6,7,12,15,5,8,4,5,6,37,7,4,7,8,6,4,11,8,8,78,10,4,13,17,7,13,10,28,9,10,4,17,4,24,26,11,80,13,10,27,24,7,24,4,8,5,8,8,6,7,11,4,4,11,9,10,4,6,19,4,7,14,7,6,34,12,18,10,15,4,4,10,5,5,26,4,6,7,8,52,18,10,4,7,7,6,6,5,5,14,37,4,13,5,4,5,4,24,7,7,12,5,17,4,9,6,21,7,4,7,5,4,4,6,5,21,4,4,19,13,10,9,13,6,5,4,12,7,9,13,7,36,10,20,6,24,7,5,4,5,4,24,5,8,8,13,13,13,5,5,4,10,4,6,5,6,5,18,8,6,15,6,6,6,5,12,5,8,16,11,5,4,23,23,15,16,9,5,8,8,18,12,14,17,11,5,6,5,4,5,11,15,4,5,41,11,7,25,6,15,13,21,6,5,6,4,17,4,9,4,10,5,9,8,15,5,11,9,4,4,40,8,9,5,7,8,4,4,16,8,9,9,16,13,7,13,6,6,9,5,6,6,5,4,4,5,4,9,7,6,6,5,9,6,8,5,5,6,9,9,54,6,6,18,16,5,8,4,18,7,4,5,9,4,6,90,5,5,4,6,46,4,7,4,4,9,25,5,5,15,5,20,5,7,5,9,17,7,13,11,11,4,5,6,8,8,12,30,6,6,5,11,6,8,6,17,4,12,6,25,4,8,9,6,19,4,6,8,5,7,193,4,12,6,9,5,28,9,11,9,10,8,45,17,15,11,33,31,6,6,7,5,10,4,5,5,8,4,17,4,10,13,28,5,4,12,39,15,6,8,10,4,3,13,5,6,15,3,18,11,11,91,7,10,22,7,10,6,4,4,3,4,3,5,5,3,7,3,7,18,9,4,3,3,5,26,4,9,3,10,8,11,4,4,9,13,16,3,3,12,7,3,5,14,11,22,4,9,8,14,8,6,3,4,3,5,9,11,4,5,13,7,7,16,4,3,8,6,3,5,3,8,13,16,6,4,5,8,11,25,5,7,4,15,5,7,7,3,8,7,8,3,4,8,14,4,8,4,9,6,5,4,16,7,8,3,20,5,7,5,9,5,4,8,4,5,31,6,11,9,19,3,23,4,6,12,15,11,4,14,5,13,7,3,8,9,4,3,5,10,4,3,14,6,7,4,7,4,16,4,6,4,5,3,4,13,12,9,3,37,10,7,5,5,18,3,4,3,6,3,3,4,19,26,7,3,4,10,20,9,3,16,6,12,7,4,4,16,5,6,4,10,3,6,12,4,3,11,17,12,8,4,13,12,20,10,10,15,6,7,13,5,7,7,18,5,3,13,10,11,22,13,6,7,10,5,10,21,9,11,4,9,29,4,6,6,6,7,5,6,3,14,7,5,8,11,17,3,7,21,4,9,19,6,7,6,7,9,6,5,6,11,4,3,19,4,3,5,4,9,5,5,7,21,9,9,4,6,4,5,9,3,4,8,3,6,4,12,4,3,3,6,10,8,6,7,7,8,10,14,8,10,6,17,26,7,6,3,8,5,8,36,7,8,11,15,5,4,11,8,20,26,8,3,5,7,6,12,6,6,25,7,7,9,7,5,5,4,7,10,28,5,6,3,8,10,5,7,8,19,24,3,5,7,6,15,14,3,3,4,8,4,11,10,12,7,12,7,4,6,31,6,22,6,7,7,15,4,4,9,17,10,4,11,3,13,19,4,7,6,9,5,30,8,3,3,10,14,10,4,39,5,5,4,5,123,9,8,18,11,17,4,3,11,37,3,13,21,10,10,10,14,5,10,11,9,3,6,13,26,26,6,4,3,6,11,4,5,3,15,6,5,6,3,16,6,10,5,14,12,20,7,6,5,17,7,3,3,6,16],\"z\":[3,4,22,5,16,20,33,25,4,1,26,10,1,2,22,23,11,3,33,18,16,23,29,23,18,6,16,29,1,20,10,10,23,20,9,9,23,3,3,4,20,10,30,29,23,3,17,2,24,11,23,18,1,12,11,25,1,15,4,5,8,29,8,8,16,30,16,29,10,3,32,6,29,11,24,3,1,4,23,16,4,18,5,3,4,3,3,3,5,8,27,4,11,12,24,9,5,9,10,3,16,17,31,9,6,2,10,9,4,4,23,5,12,10,2,11,17,5,32,15,15,13,1,4,12,5,9,33,2,2,32,1,12,22,20,5,11,23,17,30,15,9,27,8,15,12,11,8,10,31,5,13,19,2,12,3,18,2,24,8,5,8,23,6,10,32,31,2,2,12,1,11,6,15,17,27,27,18,8,2,2,18,8,4,9,2,3,2,26,13,24,11,26,16,12,2,13,25,6,25,17,10,17,10,3,2,18,4,32,27,6,4,33,16,25,17,3,4,3,12,3,3,9,13,8,31,6,23,33,26,9,2,19,3,23,22,18,3,11,8,2,29,2,22,3,6,8,19,32,5,20,13,4,16,11,10,19,8,3,29,17,1,2,24,5,10,30,4,5,3,11,8,5,17,6,23,20,4,2,3,2,3,9,10,20,9,11,31,3,2,5,11,31,12,4,2,30,27,23,9,2,10,9,4,12,2,8,4,18,9,9,9,11,18,17,17,32,9,11,11,3,3,5,11,2,11,1,24,8,10,22,9,1,1,19,19,6,30,19,27,8,20,4,18,18,12,18,32,20,3,26,25,3,29,6,4,11,4,4,13,6,19,16,20,2,2,33,24,25,3,5,2,9,18,9,11,4,32,26,26,8,31,5,2,11,2,20,16,11,10,25,2,11,2,9,17,4,20,12,30,10,9,3,3,2,11,4,18,22,13,4,13,19,8,8,24,12,22,4,2,5,30,24,11,10,16,9,4,10,5,16,10,20,10,26,4,8,11,19,19,18,31,18,15,19,15,3,9,5,18,10,2,9,19,2,2,4,26,2,11,2,30,32,17,16,8,30,5,26,3,1,13,32,5,26,9,15,5,10,2,27,10,20,9,13,2,27,2,20,16,2,31,23,33,3,9,16,23,13,19,23,22,26,10,8,13,23,3,8,5,25,16,12,10,11,33,5,16,5,26,26,19,25,10,26,9,9,3,10,33,17,15,19,20,13,3,11,10,33,27,2,1,24,23,17,26,18,5,5,16,13,9,6,2,10,20,4,1,17,5,22,32,16,25,18,25,23,3,9,30,23,9,8,4,17,6,23,17,17,4,24,12,10,30,18,4,4,9,9,2,18,11,9,16,23,32,3,4,2,30,10,9,24,17,10,16,22,6,22,10,26,6,15,29,25,33,22,18,2,5,10,33,19,5,3,2,13,27,18,3,30,6,8,3,29,22,20,8,9,22,5,2,3,23,20,3,11,1,16,27,5,5,18,16,33,32,1,30,18,33,23,32,18,23,10,24,17,3,3,5,2,9,9,1,20,19,19,24,15,18,27,30,12,5,18,20,4,31,11,3,11,4,30,2,24,9,15,3,11,2,32,9,23,23,5,13,31,2,8,17,5,6,30,5,29,13,22,4,6,9,13,22,4,1,4,13,18,4,11,31,1,5,29,3,12,27,3,33,3,29,30,22,13,29,29,18,8,29,5,3,23,16,3,30,30,6,16,23,33,22,32,29,6,8,12,29,27,5,25,16,13,13,3,2,27,10,32,9,15,25,2,16,18,30,4,15,9,1,13,24,1,26,2,17,3,30,12,17,9,1,3,3,11,2,17,17,4,1,2,3,16,18,30,2,2,2,15,8,9,1,3,4,24,3,8,23,6,22,19,6,32,2,12,26,11,18,26,16,2,2,5,2,11,17,8,31,17,31,4,5,30,27,17,4,4,3,20,12,4,6,1,2,20,18,9,13,27,23,17,5,15,6,23,27,2,6,4,31,3,5,12,30,6,22,25,16,12,5,8,22,6,27,24,9,3,12,8,2,2,11,9,30,16,18,31,13,16,24,31,32,10,5,16,5,2,3,23,5,4,12,10,30,3,10,8,25,26,3,4],\"type\":\"scatter3d\"},{\"hovertemplate\":\"segment=average<br>monetry=%{x}<br>frequency=%{y}<br>recency=%{z}<extra></extra>\",\"legendgroup\":\"average\",\"marker\":{\"color\":\"#EF553B\",\"opacity\":0.7,\"symbol\":\"circle\"},\"mode\":\"markers\",\"name\":\"average\",\"scene\":\"scene\",\"showlegend\":true,\"x\":[90.2,999.1500000000001,294.40000000000003,29.300000000000004,682.69,219.0,1086.5599999999997,3315.41,878.22,174.89999999999998,307.94,138.29999999999998,1300.46,299.1,531.7299999999999,283.3,1472.52,3396.64,1211.84,215.70000000000005,407.74000000000007,428.10999999999996,331.18,1349.44,32.85,195.6,92.9,1104.8700000000001,274.23,1115.04,343.65000000000003,418.16,380.29999999999995,645.3099999999998,538.14,446.08000000000004,168.6,78.0,429.01,155.55,144.06,77.4,734.36,379.78999999999996,283.95000000000005,287.67,707.0899999999999,66.4,419.08,575.99,561.9399999999999,479.59000000000003,426.35,191.43000000000004,350.75000000000006,20.4,1866.66,60.0,57.60000000000001,388.75,124.5,520.04,779.6800000000003,190.8,252.84,499.03,296.71000000000004,95.27,297.33,828.73,3659.9700000000003,258.75,284.90000000000003,151.8,67.19999999999999,748.8799999999998,168.0,165.47,195.07999999999998,301.40999999999997,207.04999999999998,336.15,145.92000000000002,222.13,650.87,150.59,162.54999999999998,329.12,379.7,169.76,313.91999999999996,1212.9499999999998,186.54000000000002,104.0,79.65,877.26,323.0999999999999,382.0999999999999,371.50999999999993,129.22,0.0,1490.26,846.11,924.5200000000001,654.0,218.14999999999998,335.63,121.41,123.85,269.1,1625.82,905.08,396.0,498.25,325.3,128.9,73.28,417.12,838.1600000000001,255.29999999999995,513.05,242.44,114.0,732.28,535.4,45.6,203.7,45.0,410.23,162.29999999999998,504.62,639.8599999999999,71.14,2770.04,265.10999999999996,201.0,265.55,417.52000000000004,909.8200000000002,722.8500000000001,273.85999999999996,912.9099999999999,182.35000000000002,498.55000000000007,371.79999999999995,360.71000000000015,178.26000000000005,276.8500000000001,110.39999999999999,375.07,93.6,110.4,516.0000000000001,344.79999999999995,184.98,854.12,61.62,7.6,50.879999999999995,1211.3000000000002,320.08000000000004,952.88,869.4,615.32,497.07000000000005,239.0,199.42000000000002,329.59,395.48,144.63,206.13000000000002,397.58000000000004,343.41,416.55,229.64,126.03999999999999,267.59999999999997,75.72,316.41999999999996,28.5,124.75,307.03,201.08000000000004,58.75,1395.69,54.79,668.14,108.28,264.15,1056.4000000000003,38.1,831.1500000000002,109.2,10.2,344.92,1534.71,507.12000000000006,839.09,69.0,995.4,107.25,187.92000000000002,365.38,188.14000000000001,100.50000000000001,87.78,108.34,377.3,157.06999999999996,636.1299999999999,70.95000000000002,100.22,81.36,505.00000000000006,264.25,284.2,192.45,74.66999999999999,240.89000000000001,597.71,147.68,452.20000000000005,126.0,77.15,303.6,10.74,376.49999999999994,97.5,1033.52,330.67,273.78,382.16,110.99999999999999,11.52,229.47000000000003,50.550000000000004,709.3399999999999,561.88,190.54999999999998,693.3700000000001,891.46,676.99,139.7,391.7200000000001,305.28,197.65,1104.0600000000004,85.65000000000002,243.92999999999998,200.31,65.69999999999999,138.41,91.61,228.8,177.14999999999998,477.21,58.08,1177.3600000000001,235.8,281.08000000000004,3429.4700000000003,106.2,60.48,65.5,141.94,76.5,95.29999999999998,291.28999999999996,30.599999999999998,260.35999999999996,821.1,259.16999999999996,64.0,60.3,79.94999999999999,349.92,215.92000000000002,47.2,228.91,773.27,140.46,75.89999999999999,95.75,349.6,109.17,340.21000000000004,348.78,282.45,121.18,71.4,154.01999999999998,99.60000000000001,100.93,60.7,293.0,10.5,52.02,56.76,570.71,62.4,85.50999999999999,257.7,123.15,870.57,292.12,270.40000000000003,480.0200000000001,94.79,259.85,82.22999999999999,198.46000000000004,258.31999999999994,82.32,670.5,132.29,217.38,128.54,459.86,137.75,739.85,148.73999999999998,338.40999999999997,726.39,168.3,53.4,90.0,82.80000000000001,371.89,244.85000000000002,15.0,408.82000000000005,259.03999999999996,199.48,471.3,235.68,961.3799999999999,338.40000000000003,752.8,316.46999999999997,664.4199999999998,603.55,290.92999999999995,299.7,148.79999999999998,233.76,197.31999999999996,323.94,316.18,684.9100000000003,516.0,548.59,492.15000000000003,304.71000000000004,307.05999999999995,134.96,430.18,198.38000000000002,604.75,290.03999999999996,607.1800000000001,834.31,197.14000000000004,403.07000000000005,304.68,251.28000000000003,383.57000000000005,30.0,252.49,363.351,203.6,290.47999999999996,221.06,2292.0,1057.4499999999998,176.57,113.53999999999999,273.27,195.36,291.88000000000005,135.0,606.73,197.70000000000005,871.8100000000001,187.98999999999995,1115.66,261.15,184.64,140.34,202.5,394.44000000000005,999.5500000000002,175.44,729.2400000000001,14.850000000000001,296.1,563.63,348.04999999999995,844.72,192.95000000000002,260.48,379.45000000000005,66.42000000000002,228.51,132.6,152.20000000000002,567.72,78.95000000000002,125.80000000000001,90.0,357.70000000000005,210.30999999999995,246.94,446.52,53.550000000000004,174.36999999999998,39.010000000000005,892.94,175.0,211.64000000000001,590.9300000000001,56.95,691.05,75.75,168.0,396.97,619.8400000000001,134.07000000000002,66.52,398.65,129.44,565.5600000000001,974.1600000000003,385.89000000000004,154.54,209.85,241.32999999999998,281.01,1031.4299999999998,97.14000000000001,646.3399999999999,268.55,30.599999999999998,333.85,63.3,1225.47,663.5600000000001,91.07000000000001,258.16999999999996,333.2,186.39,473.38,72.56,34.0,67.23,72.0,15.0,81.6,151.3,70.08000000000001,290.89000000000004,581.36,272.01,94.55999999999999,232.16,88.2,1018.1999999999998,138.28,242.4,470.94,150.10000000000002,522.55,511.59000000000003,491.86000000000007,185.65,125.10000000000001,234.71000000000004,405.63,992.1,241.36,75.6,723.74,710.66,129.6,133.2,308.40000000000003,314.15,178.7,68.54,148.8,231.55,236.83999999999997,649.0600000000002,486.6200000000001,247.1,1068.52,277.07000000000005,218.13000000000002,80.8,60.300000000000004,1334.2200000000003,624.75,321.89,102.3,168.45000000000002,52.199999999999996,226.39999999999998,226.23999999999998,345.12,157.86,1478.9799999999996,547.3,120.3,182.67,172.75999999999996,264.88,145.67,428.36999999999995,324.04999999999995,247.45000000000005,98.8,17.4,1031.94,390.20000000000005,218.56000000000003,293.95000000000005,505.98,416.9,195.70000000000002,311.15999999999997,138.93,553.9499999999999,81.6,317.63000000000005,150.10000000000002,348.99000000000007,285.45,956.1300000000001,195.8,576.9899999999999,818.6499999999999,369.73999999999995,128.25,71.66,57.33,90.6,70.19999999999999,504.09,2300.811,239.31000000000006,512.75,469.02000000000004,35.7,186.75000000000003,413.59,227.96000000000004,869.8699999999998,116.78,186.06,292.58,76.8,262.20000000000005,368.6,503.6,646.8099999999998,328.8,435.58,304.42,607.62,495.7,396.8,298.45,104.82000000000002,451.25,139.25,82.6,141.41,47.71,399.84999999999997,173.66,41.75,92.46,149.14,132.59999999999997,114.3,248.84999999999997,151.04,105.52,936.72,147.25,45.599999999999994,695.0500000000001,127.04999999999998,188.12,113.3,420.8899999999999,147.34999999999997,147.20000000000002,2.95,69.71000000000001,1089.1399999999999,144.2,63.3,195.13000000000002,90.0,183.40000000000003,503.01000000000005,363.41,499.28999999999996,278.28,280.95,64.8,61.8,29.700000000000003,421.12,602.5699999999999,682.9200000000001,118.75,397.38,890.9200000000001,198.11,374.4,84.29,308.44,124.51,517.2,245.59000000000003,12.75,73.72,10.2,138.57999999999998,302.65999999999997,101.14,169.48000000000002,73.44,510.72,576.5,736.5600000000002,793.26,302.64000000000004,77.45,96.2,213.70000000000005,219.25,1516.7,1293.0000000000002,104.12,98.58,738.06,104.1,633.79,177.17000000000002,333.4300000000001,940.44,341.65,92.42,330.20000000000005,1042.49,92.64,306.0,166.2,43.2,128.70000000000002,224.39999999999998,198.97,93.47999999999999,375.5799999999999,457.89,517.66,123.85000000000001,311.65000000000003,395.76,188.2,443.20000000000005,309.52,134.7,615.5300000000001,108.97999999999999,799.4599999999999,297.87,125.00000000000001,282.92999999999995,51.0,90.6,158.50000000000003,480.92999999999995,215.82,148.45,1022.95,105.2,100.5,10.2,241.78,155.25,202.68,459.16,93.60000000000001,67.94999999999999,326.48,283.95,106.25,892.52,539.4,112.75,1033.42,387.52,20.4,303.65999999999997,76.56,63.0,131.9,1637.3,677.47,483.24999999999994,109.98,68.64,1274.16,150.0,39.599999999999994,506.7700000000001,95.28,240.06,683.01,205.75,83.2,252.64999999999998,262.55,538.4100000000001,137.1,301.76,147.3,706.18,433.5,220.98000000000005,139.56,291.92,335.52,218.10000000000002,251.21,175.63,183.75,112.44,10.2,405.26,160.91000000000003,234.84,200.4,76.85000000000001,355.56000000000006,103.25000000000001,224.98,157.11999999999998,287.44000000000005,957.3700000000001,80.09,190.21,792.3000000000001,35.400000000000006,111.51,95.66999999999999,94.21000000000001,148.55,202.44000000000003,312.65,221.97,236.43000000000004,123.96000000000002,10.08,263.74,318.54,288.78,668.48,411.71000000000004,79.93999999999998,235.39999999999998,269.6,110.46,19.8,295.87,419.41999999999996,243.21999999999997,94.28,240.95000000000002,256.24,41.05,175.35,1080.52,403.58000000000004,578.57,436.4000000000001,120.0,217.01999999999998,104.85000000000001,45.4,96.56,109.13000000000001,318.16999999999996,46.9,162.07000000000002,450.83,116.03,290.79,1283.86,176.95,129.0,526.7499999999999,577.36,395.50000000000006,89.2,277.12,79.8,622.37,126.50999999999999,691.0600000000001,187.55,110.10000000000001,39.480000000000004,169.20000000000002,6.2,228.99,4.25,32.720000000000006,184.64,279.45,224.82,66.0,113.47999999999999,11.9,962.0799999999999,390.05,48.800000000000004,217.17999999999998,10.08,188.88,62.85,218.39999999999998,317.25,91.85000000000001,149.44,83.37,266.76,517.78,327.24999999999994,346.93,788.15,540.6899999999999,221.20000000000002,102.0,325.0,369.2,135.9,125.65,468.1,614.9499999999999,457.82,299.65999999999997,371.35,135.3,281.98,1308.8899999999999,780.2499999999999,629.6,168.05,172.88000000000002,140.43,1246.59,100.9,275.82000000000005,243.50000000000003,259.52000000000004,206.73999999999998,194.82,58.49,213.88,14.850000000000001,81.75,464.54999999999995,176.2,139.8,139.09000000000003,53.47,465.40000000000003,94.49,38.65,102.12,268.08,305.29,356.86999999999995,443.41999999999996,849.1500000000001,456.69000000000005,146.96,263.19000000000005,100.24000000000001,115.63000000000001,239.05000000000004,357.11,343.75,20.4,315.25,227.29000000000002,377.1,151.9,46.68000000000001,60.06,329.7,40.050000000000004,135.88,807.0,70.19999999999999,701.79,1277.2,825.48,601.82,748.87,496.78,771.3,610.56,62.699999999999996,220.05999999999997,263.12,446.71,279.61,206.89,215.08,238.70000000000005,571.49,104.10000000000001,983.5500000000001,327.1500000000001,238.81,162.79999999999998,244.39999999999998,1286.2800000000002,346.53,330.11000000000007,584.18,139.04999999999998,169.84,430.52000000000004,239.55,1164.52,382.0,301.29,327.45000000000005,251.82,199.46999999999997,119.76,51.96,362.70000000000005,138.6,58.86,120.63000000000001,212.50000000000003,40.5,87.5,605.8499999999998,139.92000000000002,336.95,193.64,157.5,425.25,211.2,61.99999999999999,328.35,33.0,152.8,162.60000000000002,444.55000000000007,244.12999999999997,344.70000000000005,128.91,429.6,358.06,187.88000000000005,2015.51,321.04999999999995,316.68,458.1,111.2,1307.12,253.32,865.35,98.45,40.2,386.76,254.81999999999996,161.95000000000002,139.51,393.7400000000001,1076.52,47.7,118.80000000000001,473.2900000000001,102.06,241.98,240.45,87.62,240.55,114.24000000000001,454.43999999999994,444.42,119.19999999999999,218.24999999999997,52.0,314.05,284.90000000000003,145.0,189.03,606.66,162.29000000000002,311.7099999999999,125.10000000000002,29.759999999999998,1266.86,237.99999999999997,165.47,732.96,391.13999999999993,153.7,230.39,252.42000000000002,81.60000000000001,158.04,367.36,115.65,555.1700000000001,427.92999999999995,139.8,310.1,675.5900000000003,529.94,25.200000000000003,143.1,591.9100000000001,142.46,370.73999999999995,140.54,74.55000000000001,204.28,94.0,396.81000000000006,128.84,121.98,49.790000000000006,478.28999999999996,508.80000000000007,84.74,97.7,7.5,304.14,75.06,171.19,533.3,109.94000000000001,183.71,137.13,68.1,129.67,405.04,388.94000000000005,157.20000000000002,368.80000000000007,217.17,142.92,169.65999999999997,119.3,717.45,324.58,377.90999999999997,371.12999999999994,335.15999999999997,406.30999999999995,579.25,128.64000000000001,52.83,296.76,771.1300000000001,121.0,246.72,320.70000000000005,88.50999999999999,9.14,153.43,86.02,478.46000000000004,185.22000000000003,85.13,117.90999999999998,270.87,90.12,390.92999999999995,130.4,201.36999999999998,281.0,59.699999999999996,59.160000000000004,595.63,119.14999999999998,608.13,439.4,413.73,314.65999999999997,199.8,324.57,223.68,216.39,87.76,268.78000000000003,99.60000000000001,562.5600000000001,589.56,433.95000000000005,483.05000000000007,465.57000000000005,583.85,19.8,157.14999999999998,238.79999999999998,357.81,551.4299999999997,211.5,19.5,69.65,266.59999999999997,150.3,494.58,149.4,218.25,85.0,280.2,112.4,376.34999999999997,77.24000000000001,122.03999999999999,128.8,87.9,309.21,402.08000000000004,165.62000000000003,297.65999999999997,145.53,590.88,2992.77,728.86,116.97999999999999,517.8199999999999,821.4900000000001,80.70000000000002,109.71000000000001,119.40000000000003,306.42999999999995,216.19000000000003,425.75999999999993,360.47,407.15999999999997,255.59999999999997,96.43,43.5,128.23,254.67,60.550000000000004,334.23,208.10000000000002,78.30000000000001,168.89999999999998,91.03999999999999,834.16,149.90000000000003,13.6,314.1,34.4,379.0799999999999,569.1800000000001,27.04,796.48,101.4,407.50000000000006,549.43,224.6,312.85,435.09000000000003,407.1,607.6899999999999,675.4200000000001,256.44000000000005,78.0,335.32000000000005,322.79,138.15,79.2,217.16000000000003,606.14,397.58000000000004,315.06,124.62,110.4,1107.5100000000002,165.6,208.32000000000002,100.7,110.15,446.97999999999996,195.31000000000003,113.39999999999999,273.45,313.7,356.0400000000001,557.13,712.46,348.2000000000001,11.9,50.1,313.0,280.63,247.52,605.88,288.45000000000005,677.92,181.2,314.22,836.5999999999998,516.53,373.38000000000005,1475.05,373.5400000000001,169.95000000000002,607.9899999999999,495.2,685.9900000000001,201.65,322.12,129.75,277.34000000000003,585.1700000000002,666.77,155.52,404.40000000000003,922.6399999999999,30.450000000000003,12.649999999999999,153.9,211.77,362.9500000000001,532.2399999999999,502.2,94.36,213.54,972.9499999999999,214.74999999999997,177.5,74.85,535.61,70.56,157.4,166.06,567.21,2.9,163.39000000000001,606.5400000000001,161.56,223.95,95.7,376.80000000000007,723.93,93.02,294.55000000000007,169.50000000000003,178.55,154.75,912.7199999999999,175.01999999999998,391.65,384.62999999999994,564.9499999999999,189.19000000000003,977.2400000000002,35.7,561.4,76.5,525.96,105.84,233.45000000000002,675.38,361.95,127.85,44.24,145.05,465.97,75.66,129.49,305.79,79.10000000000001,226.21,129.45,439.49,300.68,338.05,172.5,401.31,813.8799999999999,142.42,91.44,20.4,39.25,117.0,293.52,156.43,50.85,838.8800000000001,166.8,500.63,292.46999999999997,602.68,272.81999999999994,3.75,77.69999999999999,213.90000000000003,106.83,287.45,989.0,209.14000000000001,138.05,228.94,389.73999999999995,216.79999999999998,579.03,80.8,87.68,392.18,856.82,365.30999999999995,222.97,289.64,204.15,269.68,39.0,413.46000000000004,133.15,353.9,84.77,317.29,320.04,587.63,213.02999999999997,1273.84,126.03,154.23,53.440000000000005,121.89999999999998,33.45,139.85,431.1799999999999,339.48,101.75999999999999,373.87000000000006,376.84,110.55000000000001,117.4,305.09999999999997,789.0100000000001,67.87,117.0,20.4,830.99,347.08,210.24,237.19,50.400000000000006,498.08000000000004,1370.95,254.29999999999995,560.9799999999999,73.34999999999998,157.02,222.95999999999998,267.09000000000003,932.46,131.58999999999997,244.15,288.3,126.62,119.70000000000002,400.98,408.8,122.88,199.40999999999997,59.9,208.03,114.35,265.55,76.12,3.95,97.60000000000001,234.98999999999998,148.99,308.81000000000006,1514.0,114.04,295.00000000000006,915.04,171.45,249.28,299.26,150.29999999999998,507.46999999999997,63.440000000000005,510.1,209.76999999999998,958.05,206.09000000000003,373.20000000000005,270.67999999999995,192.23999999999995,727.8399999999998,96.35000000000001,96.8,215.82,199.20000000000002,168.73999999999998,47.550000000000004,178.21999999999997,347.4,56.150000000000006,276.28,149.46,109.07000000000001,333.05999999999995,350.26000000000005,632.31,199.28999999999996,128.48000000000002,355.26,38.4,108.75,1176.67,111.55000000000001,28.0,357.40000000000003,283.05,22.62,120.90000000000002,451.88,111.8,219.62,534.08,668.89,376.96999999999997,288.62,251.10000000000002,460.1,259.35,1794.82,1006.94,574.73,387.31,128.44,145.0,295.5,233.10000000000002,164.39999999999998,141.55,103.3,198.41,298.34000000000003,67.95,242.59999999999997,155.8,96.3,160.06999999999996,99.36999999999999,428.5,993.1800000000001,1093.74,108.45,266.02,202.61999999999998,219.39999999999998,60.2,635.49,58.800000000000004,810.79,80.65,1177.2499999999998,173.89999999999998,271.32,298.11,242.7,607.9399999999999,298.25,154.95,193.65,729.9900000000001,50.400000000000006,258.58000000000004,153.0,113.85,163.9,222.52000000000004,200.86,74.80000000000001,478.95,15.0,286.57,56.4,274.96999999999997,238.67,191.64999999999998,311.47999999999996,445.11,676.81,765.3399999999999,178.63000000000002,331.0199999999999,64.60000000000001,4462.16,120.00999999999999,199.02,131.0,5.5,124.81,221.0,260.0,275.03,131.42000000000002,1083.4600000000003,527.0699999999999,387.81999999999994,133.35000000000002,173.44,162.42000000000002,523.77,71.35000000000001,905.76,138.14,97.19999999999999,55.95,229.45000000000002,294.35,195.13,237.75,309.23,196.20000000000002,254.99999999999997,137.29000000000002,337.23999999999995,1.9,79.78,55.6,155.43,95.22000000000001,269.40000000000003,63.45,299.13,97.39,314.04,129.5,123.93,585.84,67.85,23.6,1272.3100000000002,115.97,182.29000000000002,61.6,92.84,129.81,120.03000000000002,53.589999999999996,73.5,33.17,95.97,74.4,293.7,6.959999999999999,369.4,247.44,725.3,185.3,185.98,689.9499999999999,101.33999999999999,398.59999999999997,283.79999999999995,196.9,201.2,137.89999999999998,140.51,75.35,635.6000000000001,99.8,67.80000000000001,134.4,895.8100000000001,160.35,560.6999999999999,257.25,863.68,419.05000000000007,512.8700000000001,214.25000000000003,891.34,219.15999999999997,37.4,588.43,1058.99,207.82,232.48000000000002,299.0,158.95000000000002,30.0,1492.0199999999998,1457.81,29.5,599.84,270.62,609.11,168.6,137.0,46.92],\"y\":[3,1,1,1,1,1,2,1,2,1,1,1,1,1,1,2,2,1,5,1,1,1,1,1,1,1,1,1,1,3,3,1,1,3,1,1,1,1,1,1,1,1,1,1,1,1,1,1,1,2,1,1,1,1,1,1,1,1,1,3,1,1,1,1,1,1,3,1,1,1,1,1,1,2,1,1,1,1,1,1,1,1,1,1,2,1,1,1,1,1,2,2,1,1,1,1,1,3,5,1,1,1,3,1,1,1,1,1,1,1,2,2,1,1,1,1,2,1,2,1,3,1,1,1,1,1,1,1,1,1,2,1,1,1,1,1,1,1,3,1,1,2,1,2,1,1,1,1,1,2,1,1,1,1,1,1,2,1,1,2,1,1,1,1,1,1,1,1,2,1,1,1,1,2,1,1,1,1,1,1,1,1,1,1,7,2,1,1,1,3,1,2,1,1,1,6,2,2,1,2,1,2,1,1,2,1,1,1,1,2,1,1,1,3,1,2,1,1,2,1,1,2,1,1,1,1,1,1,2,1,2,2,1,1,1,1,3,2,1,3,3,2,1,1,1,1,3,1,1,1,1,1,1,1,1,1,1,8,2,1,8,2,1,1,1,1,1,1,1,1,1,1,1,1,2,3,1,1,1,1,1,1,1,1,1,2,1,1,1,1,1,1,1,1,1,1,1,1,2,1,1,1,1,1,1,3,1,1,1,1,2,1,1,2,1,1,1,1,1,3,1,1,2,1,1,1,1,1,1,1,2,1,1,1,1,3,1,1,1,1,1,1,1,1,1,1,1,1,1,1,1,1,1,1,1,2,1,1,1,1,3,1,1,1,1,1,1,2,3,1,2,1,1,3,1,1,1,1,1,1,1,1,2,1,4,2,1,1,1,1,3,3,3,1,1,2,2,1,1,1,2,1,1,1,1,1,1,1,1,2,1,3,3,1,1,1,2,1,1,1,1,1,1,1,1,2,1,1,1,1,1,3,1,1,1,1,1,1,1,1,1,1,2,1,2,3,1,1,1,2,2,1,1,1,1,1,1,1,1,1,2,1,1,2,1,5,1,2,1,1,2,2,1,1,1,1,3,2,1,1,6,1,2,1,1,1,1,1,1,2,1,2,1,1,3,1,1,1,1,2,3,2,1,1,1,1,2,1,1,1,1,3,1,1,1,1,1,3,1,1,1,1,2,1,1,2,1,1,1,1,2,1,1,1,1,2,2,1,2,1,1,1,1,3,1,1,3,2,2,3,4,1,1,1,1,1,1,1,1,1,1,2,3,2,1,3,1,1,3,1,2,1,1,2,1,1,1,1,1,1,1,1,1,1,1,1,1,6,1,1,2,1,1,1,1,1,1,1,1,1,1,2,1,1,1,3,1,3,1,1,1,2,1,1,2,2,1,1,3,2,1,1,1,1,4,1,1,1,1,1,1,1,1,1,2,1,3,3,2,1,1,1,2,2,3,1,1,2,1,1,2,2,3,1,1,2,3,1,1,1,1,1,1,1,1,1,2,2,1,1,2,1,1,1,1,8,1,2,1,1,1,1,1,1,2,1,1,8,1,1,1,1,2,1,1,1,1,1,2,1,9,1,1,7,1,1,1,1,1,1,1,2,3,1,1,1,3,1,3,1,1,3,1,1,2,1,2,1,1,1,1,1,2,1,2,1,2,2,2,2,1,1,3,1,1,3,1,1,1,1,1,1,3,1,2,9,1,1,1,1,1,1,1,1,1,1,1,1,2,1,2,2,1,1,1,1,1,2,2,1,1,2,2,1,1,3,2,2,1,3,1,1,1,2,1,1,1,1,1,1,1,3,1,1,1,1,1,1,1,1,2,1,2,3,1,1,1,1,1,1,1,1,3,1,1,2,1,2,3,1,3,1,1,1,1,1,1,1,1,1,3,1,1,2,3,1,1,1,1,1,1,2,1,2,1,2,1,2,2,2,1,1,1,1,2,1,2,1,1,1,1,1,3,1,1,1,1,1,1,1,3,1,1,1,2,1,2,1,1,1,1,1,1,1,1,1,3,1,2,1,3,1,1,1,1,1,1,2,1,1,3,1,2,1,1,1,3,1,1,1,1,2,1,1,1,2,4,3,1,1,1,1,3,1,1,3,1,2,1,1,2,1,1,1,1,1,1,1,1,1,1,1,1,1,1,2,1,1,2,1,2,1,1,2,1,1,1,2,2,1,1,2,2,1,12,1,1,2,1,7,1,1,1,1,2,1,1,1,1,2,1,1,1,1,1,1,1,1,1,1,1,1,1,1,1,1,1,1,1,1,1,1,1,3,1,1,1,1,1,1,1,1,1,2,1,2,1,1,1,2,2,1,1,2,1,1,1,1,1,1,2,1,1,1,1,1,1,2,1,2,1,1,2,1,1,1,1,1,1,1,1,3,1,1,1,1,1,1,1,1,1,1,1,1,1,1,6,2,1,1,1,1,1,1,1,1,1,1,1,1,1,1,1,1,1,2,1,1,11,1,3,1,1,1,1,1,1,1,1,2,2,3,2,1,4,1,1,2,2,2,1,1,1,2,1,1,1,2,1,2,1,2,2,1,1,1,3,3,1,1,1,2,4,2,1,2,1,1,2,2,1,4,4,2,1,2,2,1,1,2,1,2,1,1,1,1,11,1,1,1,1,2,2,1,6,1,3,1,1,1,2,3,2,3,2,1,1,1,1,1,2,2,1,2,1,1,7,1,2,2,1,1,1,1,1,1,1,2,1,1,1,1,2,1,1,1,2,1,3,1,2,2,2,2,2,1,7,2,1,1,1,1,1,6,2,1,1,2,1,1,1,3,3,2,2,1,1,2,2,1,2,6,1,1,2,3,1,1,2,1,1,1,2,1,2,2,1,1,1,3,1,1,1,2,2,6,1,2,1,2,1,1,2,1,1,1,1,2,1,1,1,1,1,1,2,1,2,2,1,2,2,1,1,1,1,2,2,1,1,1,1,1,7,1,1,1,1,1,1,2,1,2,2,2,1,2,1,1,1,1,2,2,1,1,1,1,1,2,2,1,1,1,2,2,3,1,2,1,1,1,2,3,1,2,4,2,1,1,1,2,1,2,1,6,2,2,1,1,4,5,1,2,1,1,1,1,5,1,2,1,1,1,2,3,1,1,1,1,1,2,1,1,1,2,1,2,6,1,1,2,1,1,2,2,2,1,2,2,2,1,2,2,1,2,2,1,2,2,1,1,1,2,1,2,1,2,3,1,5,1,2,2,1,2,2,2,1,1,1,2,2,4,1,1,5,3,1,1,1,1,2,9,2,2,1,1,1,1,1,1,1,1,3,1,1,1,1,1,2,1,2,2,1,1,2,1,2,1,2,1,3,1,5,1,2,1,2,2,1,1,1,2,2,2,1,1,2,1,2,1,2,1,3,1,2,2,1,2,1,6,1,1,6,3,34,2,1,2,1,1,1,1,5,1,5,6,1,1,1,2,2,1,8,2,2,1,1,1,5,1,2,1,2,2,1,1,2,2,2,1,1,2,1,1,1,1,1,3,2,1,8,1,1,1,1,2,1,2,1,6,2,1,1,1,2,1,11,1,2,2,1,2,2,1,1,1,1,1,2,1,1,1,2,2,2,1,6,1,2,1,2,2,1,2,3,1,1,2,1,1,5,5,1,2,1,2,1,1,1],\"z\":[249,19,311,205,233,215,246,34,2,288,292,5,60,312,26,11,316,130,185,367,80,22,218,46,304,324,50,149,309,75,218,113,64,96,79,195,44,268,100,367,4,23,58,244,45,17,135,57,155,188,54,4,12,337,39,82,337,31,233,135,285,113,268,354,64,143,82,15,31,131,60,30,37,198,167,80,358,40,8,320,303,262,289,87,9,228,316,79,247,40,239,235,18,8,40,212,318,109,190,59,22,61,79,53,75,278,30,22,233,277,212,10,58,34,239,116,221,130,5,155,108,4,335,332,19,30,12,325,59,330,6,284,372,114,206,20,72,292,97,1,107,4,72,6,372,114,180,235,353,316,333,373,100,64,129,82,278,281,87,8,370,317,239,60,16,365,193,257,335,19,366,187,178,262,45,282,262,215,60,337,263,146,283,174,160,269,23,97,295,79,373,211,53,139,284,186,327,237,276,10,89,215,25,31,205,265,18,162,65,5,312,26,335,132,289,9,10,307,8,90,10,359,113,198,212,157,243,19,1,293,206,260,319,57,324,373,74,12,358,139,81,9,274,292,100,213,79,250,254,73,192,374,83,193,267,130,180,127,5,29,276,206,71,235,40,134,373,139,239,270,241,78,95,262,274,109,20,333,27,296,6,23,314,284,27,5,47,65,46,268,338,12,62,136,94,268,123,128,241,201,274,202,226,213,262,113,204,93,51,94,10,62,62,269,264,38,114,41,79,123,331,156,190,360,138,2,269,170,352,121,5,87,18,82,317,93,15,78,158,201,261,178,288,71,65,11,67,61,72,123,81,258,269,64,72,257,366,372,90,89,100,281,330,75,186,193,18,2,75,108,5,64,65,109,11,2,256,92,24,253,59,185,11,237,192,201,233,66,242,234,79,106,137,288,312,11,283,289,72,65,317,244,261,127,74,86,79,31,15,206,34,183,86,320,8,216,355,174,244,206,310,156,307,64,53,6,48,313,65,27,41,90,319,174,117,253,143,68,16,75,216,121,257,40,206,86,180,150,76,302,152,152,188,286,183,64,60,39,156,303,268,272,32,219,247,282,270,247,37,218,136,220,29,201,19,241,72,96,163,289,125,288,152,219,64,82,104,251,368,76,5,117,310,67,139,256,64,368,306,93,302,145,177,23,20,160,212,12,65,130,58,169,58,327,248,75,39,120,359,64,87,55,190,72,205,120,93,298,51,326,193,352,54,24,75,170,96,295,110,264,180,170,36,80,66,361,177,218,155,80,309,146,288,50,207,74,61,18,214,31,212,135,116,199,278,111,78,53,156,226,122,61,285,177,34,267,285,306,20,160,66,107,267,267,321,33,130,102,125,33,303,365,3,57,13,37,138,295,166,240,73,96,331,144,11,123,320,130,47,374,134,79,234,221,76,240,267,41,216,174,81,276,99,34,298,67,332,107,219,3,240,95,43,5,248,178,93,184,81,374,327,184,235,220,111,279,319,261,142,79,155,110,163,332,226,74,99,197,214,41,19,118,223,243,107,65,207,115,243,164,125,68,197,243,219,128,39,121,261,11,275,165,216,366,80,44,23,109,320,296,359,186,192,53,27,297,219,150,218,120,93,311,363,92,100,219,303,99,366,307,320,205,181,191,311,156,111,206,247,75,47,72,258,51,254,12,165,282,51,39,68,208,176,26,312,310,89,184,188,207,65,2,72,109,38,237,260,58,186,312,152,86,76,2,281,180,373,4,17,41,51,277,12,45,306,11,285,246,206,185,197,92,263,267,51,22,59,171,157,202,78,170,87,27,25,242,281,235,17,72,107,209,265,219,215,15,25,148,25,275,374,198,250,44,88,16,76,298,264,47,233,113,128,281,320,16,29,64,22,167,52,62,163,9,76,370,198,201,74,367,181,255,54,268,149,312,135,20,53,30,186,262,211,108,78,20,132,253,208,337,254,149,86,205,26,158,75,92,116,213,51,246,33,366,82,15,73,20,80,26,13,254,148,271,248,97,15,50,31,129,108,38,58,247,199,212,171,48,148,52,160,36,173,34,267,34,81,269,257,90,73,171,200,152,270,274,320,276,214,54,79,180,94,106,78,173,213,257,282,309,68,216,43,5,85,197,331,142,246,19,246,134,115,66,170,128,240,240,47,226,165,241,11,134,32,76,46,358,374,321,26,323,72,261,368,155,71,61,93,358,86,226,242,319,88,177,367,226,359,235,311,240,114,277,218,299,75,239,123,92,128,67,149,284,169,136,324,107,65,152,339,24,38,67,47,355,173,50,202,65,291,96,275,111,200,4,284,45,86,104,334,53,33,370,209,54,81,130,88,46,333,367,73,159,374,255,40,362,373,96,76,129,269,170,41,187,271,326,113,290,149,190,265,172,314,86,25,324,39,255,16,24,214,23,263,132,265,331,313,31,363,284,263,26,355,30,339,86,52,3,114,78,117,363,82,172,190,156,234,2,85,34,255,164,8,12,115,289,37,218,61,278,25,29,19,132,38,163,131,177,256,47,71,36,54,53,337,185,11,75,90,192,205,244,191,318,297,120,267,173,265,202,284,144,235,12,365,202,213,213,283,115,297,236,6,246,242,184,11,359,11,108,307,208,320,100,255,304,187,278,370,313,199,157,227,254,195,369,9,179,248,191,374,373,195,240,90,277,366,304,367,166,124,4,89,212,246,261,13,310,93,197,88,270,374,221,261,366,289,284,82,101,300,155,265,241,88,249,219,144,184,212,190,318,368,263,250,204,269,282,253,366,127,237,361,268,236,319,204,226,88,190,72,212,262,267,74,72,354,374,197,340,269,214,107,331,218,173,285,291,333,198,248,75,90,323,270,155,265,313,303,113,192,303,264,214,206,199,198,219,275,193,174,297,162,361,297,373,278,187,4,191,6,291,243,206,365,195,4,85,183,374,81,249,233,5,286,75,220,187,183,236,264,246,81,275,74,223,246,178,170,369,190,363,367,76,73,242,318,267,370,263,303,365,298,373,215,319,199,274,261,81,75,101,373,124,9,283,366,12,174,100,193,361,228,218,228,129,198,187,334,369,145,188,195,367,300,291,277,372,277,212,236,110,185,240,188,227,190,256,6,289,370,79,246,114,195,267,314,124,323,160,289,318,234,186,153,335,107,276,248,240,264,195,285,290,218,202,227,107,361,254,235,311,309,97,265,183,313,109,205,363,117,108,149,209,139,128,228,242,174,102,362,79,156,281,303,95,356,180,312,304,12,240,239,219,200,12,152,5,78,307,220,149,334,185,185,314,254,248,177,193,204,366,95,192,262,249,359,290,221,207,162,262,281,309,362,360,191,281,270,234,198,360,206,333,243,219,313,237,101,86,214,240,218,313,170,277,120,374,220,278,74,228,75,264,359,132,237,261,253,169,186,188,321,233,173,373,114,241,179,264,199,255,73,86,282,180,12,72,299,304,149,264,373,186,373,234,359,305,369,324,108,205,81,186,365,305,13,213,323,226,72,86,191,248,374,10,311,4,134,309,135,139,6,8,234,220,152,372,374,167,212,242,373,366,186,237,226,282,75,363,236,257,374,156,5,109,335,155,204,360,289,10,258,186,115,374,218,331,275,121,313,330,255,291,368,215,150,244,296,216,117,141,135,302,177,359,228,250,78,193,262,96,200,327,237,212,264,218,193,219,234,123,311,73,367,278,181],\"type\":\"scatter3d\"},{\"hovertemplate\":\"segment=faithfull<br>monetry=%{x}<br>frequency=%{y}<br>recency=%{z}<extra></extra>\",\"legendgroup\":\"faithfull\",\"marker\":{\"color\":\"#00cc96\",\"opacity\":0.7,\"symbol\":\"circle\"},\"mode\":\"markers\",\"name\":\"faithfull\",\"scene\":\"scene\",\"showlegend\":true,\"x\":[1130.94,3933.55,497.89000000000004,2743.4300000000003,5075.84,1359.8,492.49,2523.5299999999997,1075.8,1781.83,1036.9499999999998,2690.07,2161.56,1249.89,943.34,1582.4499999999998,1906.0,2227.55,2261.97,1203.52,437.43999999999994,2555.6499999999996,1277.8000000000002,2127.26,2921.9599999999996,1932.66,2413.2200000000003,2927.3700000000003,522.64,1761.1499999999999,2655.95,1996.75,508.06,1265.0599999999997,2014.03,1873.77,1103.73,1652.38,1380.3500000000001,600.0300000000001,2119.5700000000006,1154.6999999999998,416.47999999999996,1239.5399999999997,3563.22,1374.4699999999998,2038.0800000000002,2687.08,2228.74,5469.07,4315.919999999999,625.0600000000001,403.28999999999996,1057.87,2362.6999999999994,1583.27,1604.0100000000002,1560.4499999999998,1347.0100000000002,1900.68,2874.4700000000003,3498.9400000000005,8215.22,1721.7800000000002,1946.3600000000001,619.6999999999999,2570.92,3050.79,2253.3100000000004,2712.97,2605.25,766.81,1584.35,273.05,2880.8100000000004,2397.83,1324.3500000000001,1310.21,577.9,1598.52,722.58,1803.7200000000003,429.36,547.61,1841.18,1375.92,2450.72,2296.79,2316.6000000000004,286.56,2376.23,6386.43,1692.7,7099.719999999999,923.5200000000001,675.91,7844.23,442.16999999999996,635.77,2336.2,1088.8600000000001,902.81,2176.2,730.0699999999998,369.86,1591.1799999999998,647.7900000000002,1232.8000000000002,619.9100000000001,2100.79,734.4100000000001,6115.139999999999,1702.6100000000001,649.7600000000001,966.1300000000001,1541.59,1592.2700000000002,1708.0699999999997,880.5200000000001,1751.63,3669.7200000000003,964.1600000000001,1101.23,2891.44,402.46999999999997,707.4000000000001,2084.05,955.5,1099.0700000000002,675.68,515.07,4400.21,2012.2600000000002],\"y\":[7,14,7,8,8,8,6,8,6,6,8,8,6,6,10,6,7,12,6,7,6,9,9,8,7,12,7,10,7,9,9,11,6,6,6,8,6,11,8,13,6,7,6,11,12,7,11,6,6,7,9,6,6,9,9,10,7,6,8,9,6,11,17,7,7,7,9,9,8,7,7,8,7,7,7,9,16,6,6,6,6,7,8,7,7,7,7,6,7,6,7,21,6,16,6,6,6,8,5,7,7,6,7,6,6,6,7,8,9,6,5,8,8,5,5,6,9,5,7,8,15,9,8,6,6,5,14,5,8,5,5,11,8],\"z\":[37,36,50,47,68,43,20,38,59,67,37,39,46,38,52,59,34,67,44,50,37,59,40,43,44,41,52,37,61,54,43,44,9,47,45,46,34,67,59,17,53,43,17,52,48,40,41,54,59,34,60,58,59,41,61,51,53,52,67,59,51,51,34,65,41,9,62,44,34,41,40,41,64,53,40,47,66,66,29,51,65,65,8,18,64,34,64,50,67,16,48,39,37,43,50,51,34,6,17,33,36,36,41,61,19,61,24,41,5,37,45,58,52,2,41,54,37,67,43,39,38,38,43,60,60,36,38,33,68,59,26,45,40],\"type\":\"scatter3d\"},{\"hovertemplate\":\"segment=highest_paying<br>monetry=%{x}<br>frequency=%{y}<br>recency=%{z}<extra></extra>\",\"legendgroup\":\"highest_paying\",\"marker\":{\"color\":\"#ab63fa\",\"opacity\":0.7,\"symbol\":\"circle\"},\"mode\":\"markers\",\"name\":\"highest_paying\",\"scene\":\"scene\",\"showlegend\":true,\"x\":[3224.13,1843.16,2602.41,1720.01,2871.7799999999997,1646.79,1909.6799999999998,1753.12,1663.2400000000002,2229.45,3336.98,1511.3199999999997,2061.5600000000004,1746.1599999999999,2242.96,2886.3999999999996,4774.93,1468.59,1622.62,2726.77,1821.5000000000002,1739.7400000000002,2648.93,2904.58,2408.5099999999998,2260.5299999999997,1447.98,2072.7400000000002,1807.92,1548.6999999999998,3165.62,1716.3199999999997,1718.87,2726.17,1575.29,1680.26,3042.26,1839.4899999999998,2181.58,2210.34,1459.6100000000001,1497.1300000000003,2004.6800000000003,2188.7200000000003,1536.0800000000002,2468.25,1477.82,2365.83,1948.9,1872.71,1424.6,2642.62,1560.3799999999994,2396.53,2177.5,1616.12,1630.6599999999999,1505.3399999999997,1823.1299999999999,2451.6,2858.52,3926.34,1811.16,2682.6099999999997,1501.2100000000003,1517.64,1468.31,1556.62,1519.27,2502.0299999999997,2636.8100000000004,1490.75,1613.5000000000002,2250.64,1986.51,1841.38,1513.5100000000002,1465.5099999999998,1525.6599999999999,2234.06,1690.09,1818.6299999999999,2337.5499999999997,1490.76,1595.2699999999998,2074.12,2062.6400000000003,1690.8500000000004,1495.2,3192.8100000000004,2612.1900000000005,2990.0,2358.5899999999997,1903.8600000000001,1712.65,1749.32,1907.2500000000002,2209.0499999999997,1823.61,1778.37,2602.2700000000004,4177.65,1728.5700000000002,1463.2400000000002,1490.0800000000002,2473.86,1600.75,2328.8500000000004,1562.74,1984.64,1841.3200000000002,1463.5300000000002,1928.3300000000002,2055.4700000000003,2191.1800000000003,3245.3100000000004,1743.0400000000002,1934.1,2879.15,1667.8300000000002,2002.2,4431.13,1823.3900000000003,1643.8300000000002,1597.0,1900.12,2879.89,2956.29,2667.04,1653.0,2289.8999999999996,1638.19,1868.6699999999996,1657.22,1565.24,1789.9400000000003,2086.87,1563.77,2010.42,1560.2599999999998,1677.9399999999998,1705.4600000000003,1521.2199999999998,1673.55,1477.7800000000002,1629.92,2127.31],\"y\":[4,3,4,2,2,3,4,2,3,3,4,5,5,2,2,4,4,2,4,4,4,5,5,3,5,5,4,3,2,4,3,3,2,3,2,5,4,3,5,4,3,5,3,4,3,4,5,5,4,8,4,4,3,3,3,6,5,5,3,5,3,3,3,6,3,3,3,8,5,3,4,4,4,4,4,7,3,4,4,4,3,2,4,3,6,5,3,4,5,7,8,4,6,5,2,4,2,4,4,4,6,3,4,14,3,5,4,5,3,5,5,5,8,2,2,5,5,5,5,5,5,17,5,5,11,17,3,2,6,7,2,4,3,4,5,2,4,7,2,4,4,6,4,3,3,4,6],\"z\":[58,53,52,36,23,79,43,15,45,54,36,96,80,6,22,58,57,117,60,144,139,36,54,90,57,85,50,17,61,79,83,68,34,61,41,46,73,60,34,74,82,109,132,65,96,124,54,73,80,145,40,162,79,11,60,106,43,76,8,65,16,24,72,89,33,4,149,104,43,61,96,61,90,44,64,79,109,69,116,38,10,8,67,135,101,44,71,58,72,170,85,65,96,53,9,106,169,89,74,141,89,47,50,74,71,37,48,57,43,52,43,50,101,25,67,46,37,109,59,85,79,87,34,68,157,81,53,89,97,74,36,51,47,152,127,152,61,74,51,97,153,82,129,72,72,73,173],\"type\":\"scatter3d\"},{\"hovertemplate\":\"segment=good<br>monetry=%{x}<br>frequency=%{y}<br>recency=%{z}<extra></extra>\",\"legendgroup\":\"good\",\"marker\":{\"color\":\"#FFA15A\",\"opacity\":0.7,\"symbol\":\"circle\"},\"mode\":\"markers\",\"name\":\"good\",\"scene\":\"scene\",\"showlegend\":true,\"x\":[484.5,736.4399999999998,286.32000000000005,1193.4999999999998,729.1500000000001,703.7200000000001,624.84,131.88,1201.8600000000001,958.9299999999998,612.3800000000001,657.8000000000001,76.5,621.49,227.21000000000004,332.90999999999997,398.27,620.0500000000001,130.07999999999998,270.48,152.72000000000003,577.8499999999999,698.8000000000001,969.58,517.81,489.37,417.28000000000003,350.6,288.27000000000004,236.17999999999995,386.8,492.78000000000003,1357.6900000000003,752.81,1319.92,1020.21,476.51000000000005,447.62,652.45,774.03,726.1000000000001,565.33,425.23,594.5400000000001,795.5100000000001,687.66,265.9,743.2800000000001,366.5300000000001,586.48,582.31,325.96,777.7399999999999,1227.2000000000003,1355.82,120.53999999999999,1100.8199999999997,1059.36,335.05,351.73,201.05,644.2,389.61,48.16,529.47,519.81,1269.59,372.2199999999999,392.45,461.26,89.05000000000001,323.30000000000007,439.86,613.4399999999999,116.5,735.9300000000001,627.8199999999999,349.20000000000005,419.11,433.68,372.75,217.67999999999998,763.2,1392.1399999999999,237.60000000000002,1193.4999999999998,1156.15,349.28000000000003,355.09999999999997,167.28000000000003,859.1400000000001,250.26000000000002,506.04,477.2,592.33,616.7000000000002,434.21000000000004,380.16,205.66000000000003,462.98,93.66,418.4499999999999,507.74,312.47999999999996,652.77,834.89,505.45,936.69,1118.81,587.2300000000001,568.5,576.5,87.6,574.25,814.7999999999997,179.04000000000002,245.57999999999998,660.1899999999999,183.44,165.0,326.96000000000004,697.6700000000001,833.82,607.9100000000001,206.06,221.26000000000002,512.8399999999999,524.06,375.13,240.22,864.7600000000002,286.09999999999997,238.10999999999999,321.28999999999996,256.05000000000007,663.08,152.22,332.5,753.22,319.78999999999996,685.8,328.7,247.26,411.1,1051.6100000000001,450.77,685.6,821.76,981.53,875.4200000000001,834.9599999999999,558.55,1085.5000000000002,711.82,1081.3700000000001,912.38,796.74,618.6000000000001,1116.54,843.25,341.72,208.6,144.6,201.31,285.29999999999995,1195.81,465.26,209.52999999999997,1109.1399999999999,112.46,229.43,511.5,1161.42,227.65000000000003,223.36,178.01999999999998,741.55,481.51,364.57000000000005,293.09,48.0,30.0,77.85,124.1,311.42999999999995,301.32000000000005,216.16000000000003,580.93,290.3,152.95000000000002,191.03999999999996,201.0,842.34,423.0300000000001,382.24999999999994,77.6,126.80000000000001,6.959999999999999,182.96000000000004,139.35999999999999,205.25,273.65999999999997,331.03,189.75,164.13,495.5200000000001,715.0400000000001,154.86,1307.2299999999998,506.38000000000005,199.44,459.5,49.97,300.22999999999996,735.0,108.84,110.80000000000001,712.24,174.59999999999994,163.18,337.34000000000003,258.55,104.5,91.80999999999999,21.85,351.11000000000007,191.93999999999997,158.54999999999998,164.06,393.63000000000005,145.35,297.58,255.54,349.64,399.03999999999996,87.85,371.01,942.58,1250.0000000000002,126.11999999999999,113.38000000000001,355.16999999999996,172.02999999999997,423.16,236.09,64.75,1133.4,77.48,303.54,608.56,490.0,299.29,752.56,17.0,1261.7,644.6,243.56000000000003,108.38,811.5799999999998,135.75000000000003,342.18000000000006,254.87999999999997,656.25,430.7,243.07999999999998,173.09999999999997,73.2,1091.3100000000002,885.09,179.35000000000002,150.10000000000002,177.58,163.94000000000003,72.8,338.7100000000001,94.99000000000001,286.281,405.71,310.38,744.28,329.2200000000001,82.49999999999999,653.4499999999999,186.90000000000003,416.29999999999995,56.28,152.94,427.45000000000005,411.7,177.0,211.03,121.5,125.22,282.35,233.22,361.21999999999986,1055.63,304.75,346.79999999999995,389.98,133.15,199.85000000000002,480.19999999999993,193.96,101.10000000000001,421.76,75.36000000000001,281.9,987.9100000000001,142.79,271.08000000000004,296.45,155.12,151.83,247.24999999999997,191.7,268.78,4.95,200.04999999999998,111.0,120.66,208.06000000000003,119.66,311.92,266.97,1407.32,76.67,289.15999999999997,417.7,416.57,167.33999999999997,279.34999999999997,617.84,1002.6,1124.28,470.34,101.7,237.66000000000003,219.80999999999997,357.02000000000004,119.62,101.7,426.38000000000005,324.5,855.55,409.14,50.099999999999994,459.24,213.5,123.44000000000001,341.96000000000004,163.01,497.21000000000004,586.7900000000002,162.38,123.38000000000001,267.26,430.37999999999994,381.87000000000006,118.97999999999999,81.75,149.7,939.64,227.81999999999996,462.3,571.03,99.39999999999999,116.57,246.99,540.3299999999999,238.75000000000006,216.02,198.91999999999996,1177.94,207.86,195.89999999999998,106.89,373.33000000000004,107.6,226.83999999999997,305.61999999999995,909.53,332.3,637.9899999999999,934.6899999999999,401.16,415.94000000000005,279.45,113.5,181.32,325.90999999999997,935.4899999999999,197.82,176.94,281.42,35.400000000000006,108.24000000000001,13.3,170.13000000000002,191.98999999999998,1094.69,336.84,344.26,213.72000000000003,128.60999999999999,161.54,145.43999999999997,246.89000000000001,212.89999999999998,1125.0600000000002,20.8,225.03999999999996,117.35000000000001,234.17000000000002,116.21000000000002,294.43,384.06,20.8,105.4,801.3,171.96,270.9,71.0,115.95,617.76,1182.32,88.25000000000001,159.78,248.59999999999997,882.9000000000001,772.25,364.73999999999995,373.08,965.54,292.23999999999995,118.80000000000001,125.39999999999999,1218.9999999999998,76.1,200.39,138.32,263.7,175.13,124.88,213.77999999999997,299.09999999999997,224.28,701.8400000000001,44.6,228.74,463.81,155.73000000000002,1091.36,20.5,204.24,105.97999999999999,298.5,131.07,532.53,208.09,277.85,113.01,35.0,85.42000000000002,25.43,145.42000000000002,95.43000000000004,166.43000000000006,82.75,210.60000000000002,815.88,430.43999999999994,479.13,615.3699999999999,135.57000000000002,56.690000000000005,398.21999999999997,50.400000000000006,251.16000000000005,378.78,255.86999999999998,138.44,655.97,100.8,401.72,283.26,216.48999999999998,300.4,248.20000000000002,194.36999999999995,511.82,235.74,302.20000000000005,282.98,140.39999999999998,200.15,441.28999999999996,223.36,92.66,294.67,140.0,206.85000000000002,833.1600000000001,115.68,144.72,350.47,195.05,47.44,455.45,75.75000000000001,285.55999999999995,114.3,82.11000000000001,781.4900000000001,166.07999999999998,186.05,151.39999999999998,201.00999999999996,611.04,166.47,251.92000000000002,58.25,403.21000000000004,820.2,923.35,871.06,71.4,285.64,263.83,262.95,997.42,62.17,123.44,8.2,106.1,172.32,1145.0700000000002,211.82999999999998,235.84000000000003,35.400000000000006,148.53000000000003,110.21,338.79999999999995,51.56,170.79999999999998,158.01000000000002,244.83000000000004,154.67,47.05,203.85999999999996,82.91,405.35,95.59,41.78000000000001,102.22,339.84,615.48,307.68000000000006,99.14000000000001,136.67999999999998,365.15000000000003,96.25,136.16,73.78,82.44,299.48,95.28999999999999,228.15,131.67999999999998,574.9499999999999,20.8,549.4300000000001,251.53000000000003,150.52,28.5,597.64,67.63,115.30999999999999,75.97000000000001,93.35,156.14999999999998,283.02,282.45000000000005,48.0,318.0,319.03000000000003,585.41,133.67000000000002,160.36,424.63999999999993,103.53000000000002,218.40000000000003,225.73999999999998,198.58,351.46000000000004,337.40000000000003,177.66,151.65,884.98,340.34999999999997,698.8199999999999,208.91000000000003,163.8,126.07,139.10000000000002,266.34,360.84999999999997,333.87,533.57,125.58000000000001,81.66,103.3,149.48,163.17000000000002,213.46000000000004,110.38,173.89999999999998],\"y\":[2,2,2,4,4,2,2,2,5,2,2,2,4,2,2,2,2,2,2,2,2,2,2,2,2,2,2,2,2,2,2,2,2,2,2,2,4,2,2,2,2,4,2,2,2,2,2,2,2,2,2,2,2,5,2,2,2,2,2,2,2,4,2,2,2,2,5,2,2,2,2,2,2,2,2,2,2,2,2,2,2,2,2,4,2,4,4,2,2,2,2,2,4,2,2,4,2,2,2,2,2,2,4,2,2,2,2,2,4,2,2,2,2,2,2,2,2,2,2,2,2,2,4,2,2,2,2,2,2,2,2,2,2,2,2,2,2,5,2,2,4,4,5,4,4,4,4,4,5,4,4,4,5,4,5,4,4,3,5,4,3,3,3,4,4,3,4,3,5,1,1,4,4,1,1,1,4,1,3,1,1,1,1,1,1,1,3,1,1,1,1,1,4,1,1,1,1,1,1,1,1,1,3,1,1,1,3,1,4,4,1,1,1,1,4,1,1,5,1,1,1,1,1,1,1,1,1,4,1,1,1,5,1,1,1,1,1,1,3,1,1,1,1,1,1,3,4,1,1,1,1,1,3,1,1,4,1,1,1,1,4,1,1,1,1,1,1,5,4,1,1,1,1,1,1,1,1,1,1,4,1,1,3,1,1,1,1,1,1,1,1,1,1,1,1,1,3,1,5,3,1,1,1,4,1,1,1,1,4,1,1,1,1,1,1,1,1,1,1,1,1,1,1,1,1,5,1,3,3,1,1,1,1,4,4,1,1,1,1,1,1,1,3,1,3,1,1,3,1,1,1,1,1,1,1,1,1,1,4,1,1,1,5,1,4,1,1,1,1,1,1,1,1,3,1,1,1,1,1,1,1,4,1,4,3,4,1,1,1,1,1,3,1,1,1,1,3,1,1,1,1,1,4,1,1,1,1,1,3,3,1,1,1,1,1,1,1,1,3,3,1,1,1,1,3,1,1,1,1,3,3,1,1,3,1,1,1,3,1,1,1,1,1,1,1,1,1,3,1,1,1,1,4,1,1,1,1,1,1,1,1,1,1,1,1,1,1,1,1,1,3,1,1,3,1,1,4,1,1,3,1,1,1,1,3,1,4,1,1,1,1,1,1,1,1,1,1,1,1,4,1,4,4,1,1,1,3,1,1,1,1,1,1,1,1,1,1,1,4,1,1,1,1,3,1,4,1,1,3,1,4,1,1,1,1,1,3,1,1,1,1,1,1,1,1,1,1,1,1,1,1,3,1,1,1,3,1,1,1,1,3,1,1,1,1,1,1,3,1,1,1,4,1,1,1,1,1,1,1,1,1,1,3,1,1,1,1,1,1,1,1,1,1,1,3,1,1,1,4,1,1,1,1,1,1,1,1,1,4,1,1,1,1,1,1,1,1],\"z\":[110,82,29,73,120,163,85,157,74,87,72,19,150,18,64,166,27,143,67,78,40,92,76,47,51,40,29,93,52,80,96,107,90,149,151,26,128,71,80,152,115,72,135,64,54,148,96,71,33,34,71,30,32,135,27,85,58,68,43,19,149,89,79,68,55,36,144,30,74,24,152,174,65,23,31,53,55,74,31,65,25,158,60,86,44,95,123,47,64,19,96,16,79,75,25,97,125,157,32,64,60,39,104,32,17,18,132,30,73,128,134,44,150,19,68,75,166,25,30,100,61,179,73,73,79,40,97,29,85,20,41,18,51,15,15,46,30,100,115,165,117,96,114,93,88,87,111,158,108,72,170,138,113,145,73,72,104,120,88,76,157,129,95,162,174,78,178,152,101,52,142,117,104,18,53,135,167,19,158,92,116,23,44,107,51,40,82,50,53,118,29,18,146,25,16,67,50,78,135,41,25,65,116,69,134,150,76,52,79,108,173,38,51,65,73,47,52,137,19,102,33,94,61,81,150,24,174,155,173,68,65,113,134,83,32,75,85,78,89,31,20,55,48,30,44,138,120,174,55,146,46,45,115,107,71,80,62,66,85,171,74,52,40,89,134,66,60,96,95,51,139,61,74,73,68,41,76,24,26,89,89,79,171,81,79,171,62,51,117,177,101,73,170,122,127,139,120,36,73,129,37,158,108,76,159,45,54,19,83,62,95,71,19,54,57,45,25,107,58,65,29,34,136,150,88,100,178,165,144,76,16,78,47,80,107,26,31,172,82,111,54,165,96,54,128,72,114,72,69,76,62,41,37,71,80,106,43,72,142,20,36,44,78,62,136,46,79,27,108,32,177,31,59,115,66,97,58,61,20,58,90,164,66,104,143,104,96,52,113,157,39,101,51,44,53,15,141,85,36,65,117,30,82,73,37,62,54,26,139,135,31,18,88,117,39,78,61,31,150,86,19,31,32,64,87,88,31,138,158,86,118,29,131,82,115,79,23,110,166,48,120,162,51,52,25,76,79,179,58,59,30,54,176,54,54,32,66,36,54,16,121,19,151,36,58,22,18,22,96,32,101,68,86,157,47,51,73,66,15,115,37,80,61,72,129,89,127,16,159,80,78,76,76,25,73,129,54,54,26,156,20,72,110,18,79,58,131,60,33,82,20,87,66,139,22,142,24,44,128,138,142,170,45,72,16,80,113,33,159,16,97,160,54,130,30,26,83,74,52,34,50,48,43,107,143,171,44,174,130,163,45,173,160,30,22,157,89,59,160,38,73,67,117,172,143,52,30,166,146,23,57,122,24,29,52,36,153,99,66,54,46,71,174,134,76,41,26,62,128,38,38,20,26,61,76,38,178,61,87,25,72,166,107,158,29,90,32,93,82,47,18,90,141,31,44,59,74],\"type\":\"scatter3d\"},{\"hovertemplate\":\"segment=most_loyal<br>monetry=%{x}<br>frequency=%{y}<br>recency=%{z}<extra></extra>\",\"legendgroup\":\"most_loyal\",\"marker\":{\"color\":\"#19d3f3\",\"opacity\":0.7,\"symbol\":\"circle\"},\"mode\":\"markers\",\"name\":\"most_loyal\",\"scene\":\"scene\",\"showlegend\":true,\"x\":[1106.28,938.34,1085.0099999999995,545.2,607.5700000000003,425.62,1155.38,952.1600000000001,349.7,1074.46,1051.42,721.3800000000001,1225.31,570.65,1100.14,665.46,1379.94,609.5300000000001,743.77,1406.18,499.33,623.0,406.80000000000007,1289.5400000000002,678.2,342.55999999999995,676.7099999999999,580.33,1279.09,356.26,445.7,430.15,220.66,527.87,977.22,1022.4299999999998,465.46999999999997,911.9000000000001,356.82,351.00000000000006,414.75999999999993,782.52,341.88,261.45,638.46,220.09999999999997,266.61,570.48,1092.0,604.3000000000001,297.6,843.0600000000002,482.15999999999997,1108.39,261.51000000000005,1362.0200000000002,607.27,483.42,528.73,1197.2800000000002,493.68,474.72,509.48,1247.5200000000002,159.4,726.9399999999999,1092.43,1015.73,666.69,580.4900000000001,379.5399999999999,583.8499999999999,521.36,700.6600000000001,588.3400000000001,445.34000000000003,1026.69,329.8,361.09999999999997,609.09,1010.8,272.09999999999997,1000.0999999999999,580.94,699.4499999999999,553.2900000000001,561.1099999999999,809.5799999999999,159.51,444.04,392.05,1203.83,1142.21,720.83,741.25,468.44000000000005,1003.6400000000001,321.0,67.65,160.2,307.27000000000004,20.919999999999998,749.64,492.78,429.12,285.78000000000003,566.05,243.68,439.5899999999999,286.78999999999996,974.6500000000001,1352.96,1027.4299999999998,247.31,183.04999999999995,609.16,452.09999999999997,1050.2600000000002,420.41999999999996,328.97999999999996,454.8,683.36,239.9,527.1700000000001,527.5799999999999,733.16,1325.55,437.81,719.74,410.00999999999993,430.55000000000007,337.52,332.64000000000004,604.83,252.14000000000001,565.1,331.86,336.46999999999997,337.34,466.37,648.56,437.65999999999997,265.68,307.82,230.22,82.1,174.35000000000005,132.53,277.42999999999995,462.21000000000004,828.0,991.0100000000001,573.8600000000001,540.77,315.66,346.77000000000004,538.52,580.2,746.3599999999999,275.04,728.54,354.04999999999995,544.3600000000001,619.0200000000001,625.0000000000002,982.3800000000002,913.18,584.74,412.72,525.09,222.34,566.88,737.1500000000002,504.5999999999999,288.20000000000005,757.7999999999998,916.92,745.1400000000002,559.97,505.3,368.78,159.35,697.88,585.1500000000001,422.59999999999997,322.8,126.17999999999999,799.0799999999999,340.15,903.67,202.10999999999999,792.94,451.09,562.3300000000003,189.50000000000003,728.6100000000001,287.74,1370.3300000000002,127.80000000000001,645.59,196.89000000000001,532.51,303.99,123.79999999999998,775.6200000000001,522.21,944.0799999999999,196.42,787.5,192.55000000000004,584.3899999999999,334.34999999999997,500.31999999999994,880.1099999999999,1195.72,659.0200000000001,148.23,543.62,263.3,1257.96,528.81,451.79,273.28,450.90000000000003,1017.15,408.84000000000003,225.84999999999997,568.6600000000001,722.9200000000001,609.8500000000001,381.0199999999999,561.1499999999999,110.60000000000001,641.6,568.2400000000001,316.0499999999999,1384.5299999999997,525.81,548.28,851.7300000000001,215.49999999999997,443.16,346.13,530.35,608.3000000000002,1073.07,255.89999999999998,159.76000000000002,192.60000000000002,879.4199999999998,400.88,231.32000000000002,593.8199999999998,554.46,173.74,296.45000000000005,737.22,176.07,423.78999999999996,650.83,102.44999999999999,416.55,88.5,919.94,931.17,727.6199999999999,43.08,316.72,603.27,522.38,510.20000000000005,1044.6299999999999,577.1200000000001,374.65000000000003,323.77,995.12,1165.7100000000003,1255.23,1158.6799999999996,609.54,188.11999999999998,827.2900000000001,92.52,204.68,234.32,1161.63,361.19,177.67000000000002,275.36,790.32,516.35,520.84,468.34,284.35,1026.6899999999998,1186.1299999999999,523.4300000000001,277.95000000000005,277.59000000000003,453.44999999999993,1043.4099999999999,378.7,825.52,120.13,573.46,620.4,1339.68,399.07000000000005,126.50000000000003,1307.74,762.39,1408.7300000000005,278.7699999999999,777.55,194.99999999999997,288.01,349.85,451.10999999999996,418.70000000000005,420.3,442.57000000000005,670.9100000000001,494.24000000000007,891.78,749.67,1168.8,565.17,740.78,502.26,681.7700000000001,414.69,624.94,242.59999999999997,854.02,475.22,830.95,528.7099999999999,187.79,189.3,1092.81,268.54,231.86,1283.63,331.78999999999996,662.44,856.94,1306.95,321.68,307.17999999999995,1260.86,503.08,499.9300000000001,282.1,885.79,504.74,1058.73,498.0,539.63,53.93000000000001,327.5,636.1199999999999,504.42,233.11999999999998,474.38,520.1899999999999,123.66,558.0500000000001,430.56,214.10000000000002,571.71,305.28000000000003,653.6899999999999,944.5300000000001,800.16,180.15,1207.9499999999998,202.01,977.7499999999998,491.66,380.9100000000001,569.4,437.0,201.48000000000002,714.16,822.36,255.38,858.77,943.9100000000001,566.31,458.57,459.35999999999996,672.8800000000001,482.95,602.87,254.91000000000003,1297.1699999999998,133.92000000000002,997.85,671.2199999999999,798.1000000000001,321.4,522.4799999999999,396.86,627.02,1331.9699999999998,399.14000000000004,802.09,1022.2099999999999,317.8,278.04,206.94,42.440000000000005,334.79999999999995,460.17999999999995,302.93,379.13,348.28000000000003,284.9100000000001,589.44,931.8400000000001,349.6,583.2700000000002,694.7,434.36,373.42999999999995,272.7,633.3199999999999,524.95,604.01,506.74,428.26,984.8699999999999,570.13,567.69,332.46000000000004,548.86,431.98,1018.8600000000001,598.74,1010.97,1075.45,571.5199999999999,852.15,98.34,794.06,731.8999999999997,1248.68,363.9599999999999,588.1,829.96,586.2900000000001,535.94,635.4100000000001,501.9,251.24,369.95000000000005,473.26,910.87,125.58,866.1699999999998,592.9,613.68,502.71000000000004,534.06,552.0899999999999,672.08,1072.8500000000001,1077.8700000000001,795.88,595.71,363.2,227.4,1103.3900000000003,615.38,771.1300000000001,385.19999999999993,568.8900000000001,203.57,306.84999999999997,560.74,122.66000000000001,310.78,660.7800000000001,494.44,361.40000000000003,538.68,468.89000000000004,700.58,438.5899999999999,283.67999999999995,402.58,733.6399999999999,479.04,287.7,807.51,786.4400000000002,1275.48,326.55,206.7,31.6,511.82,358.74999999999994,502.68999999999994,552.1700000000001,6.9,548.1799999999998,674.52,251.26,255.63,290.29999999999995,446.81,235.86,90.30000000000001,1370.5300000000002,376.07,74.38,742.8,269.39,174.1,652.6599999999999,494.12,287.28,104.48,193.85,420.52,144.96,282.71,428.73,1043.31,205.97000000000003,472.93,309.21,1062.78,363.42,366.00999999999993,398.09999999999997,273.03000000000003,845.1700000000001,627.87,465.91,590.73,414.12999999999994,643.1000000000001,223.69,696.0500000000001,590.1200000000001,445.84,464.23,402.73999999999995,521.48,175.55,322.29,70.96000000000001,285.79999999999995,112.80000000000001,438.88,529.47,399.96000000000004,338.40999999999997,375.34000000000003,449.32,305.63,512.0300000000001,293.83000000000004,452.36000000000007,786.3800000000001,741.3,488.6,116.05,370.73,522.2,110.54999999999998,289.92,665.64,487.88,748.4999999999998,95.85,236.45,317.95,585.07,685.2,624.52,386.9599999999999,262.28,211.76,1408.1000000000001,948.3399999999999,563.6999999999999,477.78999999999996,32.4,537.1800000000001,78.2,319.0,293.1,206.33999999999997,751.7599999999999,968.98,673.12,354.97,246.31,421.52,357.46000000000004,306.74,285.1699999999999,236.29000000000002,260.38,391.81,240.09,422.71999999999997,400.11999999999995,544.75,109.92,418.59000000000003,466.56,273.9,393.79,253.49999999999997,334.78999999999996,504.34000000000003,430.85,210.64,623.0699999999999,185.0,122.2,154.7,629.12,547.36,630.7,349.76,485.08,425.28999999999996,242.36,349.36,216.3,541.53,457.46999999999997,551.99,633.65,612.4399999999999,531.8800000000001,137.0,381.64000000000004,361.5199999999999,432.26,633.3599999999999,478.90999999999997,403.17,263.42999999999995,155.2,712.42,777.16,544.9,413.58,16.439999999999998,859.27,474.76,525.01,409.3599999999999,796.81,1082.7,336.44,427.65,771.7000000000002,304.94,193.42000000000002,747.43,445.2900000000001,464.51000000000005,1224.5999999999997,531.2199999999999,200.21999999999997,547.94,110.58000000000001,145.25,892.8599999999999,798.74,369.8,471.63000000000005,567.91,215.59000000000003,137.64000000000001,218.25000000000003,725.62,213.70999999999998,134.32,647.4100000000001,494.85999999999996,585.95,644.6300000000001,579.6099999999999,36.559999999999995,114.42999999999999,200.75,287.94,114.34,523.2800000000001,240.77,500.77,559.6,498.56,121.1,342.34000000000003,324.33,775.6700000000001,155.56,172.5,258.29999999999995,208.38000000000002,334.74000000000007,601.7299999999999,99.92000000000002,336.46000000000004,275.03,186.26999999999998,71.53,35.449999999999996,347.04,257.44,405.62,340.2,456.81,290.55999999999995,610.5100000000002,290.58,163.95000000000002,198.52,389.16,258.73999999999995,206.25000000000003,767.3299999999999,147.84000000000003,323.7,566.5800000000002,360.94,698.49,453.4,499.06000000000006,490.50999999999993,408.86000000000007,515.6700000000001,760.0,385.67,314.28999999999996,244.89999999999998,102.0,113.13000000000001,960.7600000000001],\"y\":[3,3,5,3,4,3,4,3,3,3,4,3,5,3,3,3,4,3,3,4,5,3,4,4,4,4,3,4,3,3,3,3,3,4,3,5,3,3,4,3,4,3,4,3,4,5,5,4,4,3,3,4,4,4,3,3,3,3,3,5,3,4,3,5,3,3,3,3,3,4,3,5,3,3,4,3,3,3,3,5,3,3,3,5,5,3,4,3,3,3,5,5,5,5,3,3,3,2,3,2,2,4,2,3,2,2,2,3,2,2,2,3,3,2,2,2,3,4,2,2,2,2,3,4,4,3,2,4,3,4,2,2,2,2,2,2,2,4,2,3,4,4,2,2,2,2,2,2,4,2,3,3,2,2,2,3,4,4,2,2,3,5,2,4,2,2,2,2,2,4,4,2,2,4,2,3,4,2,4,2,4,2,2,3,2,4,2,3,2,3,3,2,2,2,2,2,2,4,2,2,2,4,2,2,3,4,5,2,3,2,3,2,2,3,2,2,2,5,2,2,3,3,2,3,3,3,2,2,3,2,2,2,2,4,2,2,3,2,4,3,2,3,3,3,2,3,2,3,2,3,2,2,2,4,3,4,2,2,4,4,3,2,2,3,2,2,2,4,2,4,2,2,2,4,2,4,4,2,2,4,2,3,2,2,3,3,2,2,3,3,4,4,4,4,3,3,3,2,4,2,3,5,2,2,2,4,3,2,2,4,3,3,2,3,3,2,2,3,4,4,5,2,3,5,2,5,2,2,2,2,2,3,5,3,2,3,2,2,2,3,4,2,2,2,4,4,3,2,3,2,3,3,2,2,2,2,2,5,3,2,3,3,2,4,4,2,4,2,2,4,3,2,5,3,2,3,3,2,3,2,4,4,2,3,4,2,4,3,4,3,4,2,2,2,3,2,2,3,3,2,4,3,2,2,3,3,4,3,2,2,2,2,3,3,2,2,2,3,2,2,2,2,4,2,2,3,2,5,2,4,3,3,3,3,2,3,3,3,4,3,2,4,2,3,5,3,3,2,3,2,2,3,3,2,2,3,2,4,2,2,4,4,4,2,2,3,4,5,4,4,2,2,5,4,2,3,2,2,2,3,3,2,2,2,2,3,2,2,2,2,2,2,3,2,4,5,5,2,2,2,3,2,3,4,2,4,4,2,2,3,2,5,2,5,2,2,3,2,2,2,2,5,2,2,2,2,4,2,2,2,2,2,4,5,2,3,3,4,3,3,2,5,3,3,5,4,3,2,2,2,2,3,2,2,2,2,3,2,3,5,3,5,2,3,2,2,3,3,2,2,3,3,2,2,3,2,3,3,2,3,3,4,3,2,2,2,2,3,2,3,2,2,2,2,2,2,4,4,3,2,2,2,2,2,2,2,3,3,2,3,4,3,4,2,2,4,3,2,3,3,3,4,2,2,3,2,2,3,2,3,2,2,2,2,2,2,2,3,2,2,2,3,2,2,4,2,4,2,3,4,2,2,3,2,4,2,3,3,2,3,3,3,2,2,2,2,3,2,3,3,2,2,2,2,2,3,2,2,3,2,2,2,2,2,2,3,3,4,3,4,4,2,3,3,2,3,3,4,4,3,2,2,3,4,2,4,4,3,2,4,7,2,2,2,4,2,2,3,3,2,3,3,3,3,2,2,2,3,4,3,2,3,3,2,2,2,2,3,2,2,2,2,2,2,2,2,3],\"z\":[8,72,50,67,16,22,54,10,22,1,60,30,36,36,15,5,59,24,26,34,11,12,59,39,59,8,29,4,53,10,37,6,45,25,64,40,25,18,8,32,24,5,2,25,2,5,71,4,45,24,40,34,19,37,22,40,22,11,20,57,24,18,12,54,16,19,23,29,2,38,2,4,27,12,25,20,24,39,58,18,24,17,2,41,44,13,6,65,36,41,31,60,34,37,53,32,46,11,61,51,19,4,25,8,39,29,6,54,34,55,51,71,34,8,67,29,43,40,24,30,6,19,58,17,6,25,52,59,32,27,24,17,38,12,50,50,60,11,58,24,18,12,8,2,22,22,71,15,27,66,46,47,17,8,64,23,27,9,32,64,5,41,31,4,61,2,4,36,20,40,11,41,68,19,17,52,50,31,52,31,22,9,52,23,17,22,6,20,45,39,10,66,66,43,23,58,51,54,10,61,11,18,12,51,27,48,41,23,62,34,61,65,16,10,25,11,19,20,58,57,36,22,8,19,5,10,58,5,51,37,68,68,6,29,20,45,33,3,15,30,44,6,48,4,45,5,59,30,18,59,55,27,8,17,53,16,37,65,22,30,11,24,25,37,60,26,8,11,9,4,27,10,3,3,17,36,71,31,57,65,9,36,20,39,47,13,54,44,39,12,31,9,5,66,26,24,5,13,9,47,10,23,22,9,32,24,30,51,23,61,2,4,19,69,67,30,15,11,60,11,2,61,47,37,11,45,66,37,58,5,23,11,61,65,65,40,67,33,30,41,9,17,17,32,34,59,34,27,55,10,30,10,51,41,29,22,18,12,45,33,3,20,55,5,12,51,12,32,69,24,51,27,37,61,37,57,5,46,37,10,46,41,5,65,36,12,36,66,17,52,62,66,66,32,26,44,15,47,47,51,37,64,45,4,57,59,45,34,59,39,20,26,67,41,15,2,3,17,20,9,17,9,34,20,24,3,18,13,45,13,24,36,38,4,40,47,8,66,38,41,33,10,23,17,60,51,46,9,60,58,22,60,19,66,5,16,17,45,16,5,59,31,55,45,20,37,58,45,44,41,57,34,53,18,32,23,18,4,2,47,18,17,12,18,64,34,12,38,3,34,67,9,61,29,54,57,61,20,20,22,45,68,2,47,45,24,52,26,11,34,4,5,20,53,62,26,43,36,25,27,6,16,51,16,16,4,52,5,17,17,69,55,34,5,69,38,4,47,53,53,38,45,8,48,58,68,24,5,16,39,40,5,11,24,60,32,67,38,16,2,27,10,24,27,2,55,57,39,45,5,40,8,24,47,9,41,46,61,12,17,59,18,37,37,26,34,19,9,4,16,2,18,8,22,39,58,45,57,24,8,3,26,12,4,5,41,53,3,4,29,12,11,18,15,23,16,37,25,18,50,18,41,71,20,8,20,23,13,43,51,47,33,19,2,41,18,44,23,61,11,11,66,59,8,10,3,32,12,5,54,30,25,44,24,61,20,15,25,9,51,30,5,8,13,34,15,2,32,61,39,26,19,4,2,53,36,11,39,54,10,10,22,51,57,11,25,22,41,23,13,37,5,2,3,12,13,31,4,4,32,58,59,46,65,46,9,8,40,32,36,12,38,13,4,71,5,22,36,33,20,25,24,46,37,12,13,25,20,30,64,46,51,33,4,13,10,58,34,37,30,57,51,44,39,3,8,43],\"type\":\"scatter3d\"}],                        {\"template\":{\"data\":{\"bar\":[{\"error_x\":{\"color\":\"#2a3f5f\"},\"error_y\":{\"color\":\"#2a3f5f\"},\"marker\":{\"line\":{\"color\":\"#E5ECF6\",\"width\":0.5},\"pattern\":{\"fillmode\":\"overlay\",\"size\":10,\"solidity\":0.2}},\"type\":\"bar\"}],\"barpolar\":[{\"marker\":{\"line\":{\"color\":\"#E5ECF6\",\"width\":0.5},\"pattern\":{\"fillmode\":\"overlay\",\"size\":10,\"solidity\":0.2}},\"type\":\"barpolar\"}],\"carpet\":[{\"aaxis\":{\"endlinecolor\":\"#2a3f5f\",\"gridcolor\":\"white\",\"linecolor\":\"white\",\"minorgridcolor\":\"white\",\"startlinecolor\":\"#2a3f5f\"},\"baxis\":{\"endlinecolor\":\"#2a3f5f\",\"gridcolor\":\"white\",\"linecolor\":\"white\",\"minorgridcolor\":\"white\",\"startlinecolor\":\"#2a3f5f\"},\"type\":\"carpet\"}],\"choropleth\":[{\"colorbar\":{\"outlinewidth\":0,\"ticks\":\"\"},\"type\":\"choropleth\"}],\"contour\":[{\"colorbar\":{\"outlinewidth\":0,\"ticks\":\"\"},\"colorscale\":[[0.0,\"#0d0887\"],[0.1111111111111111,\"#46039f\"],[0.2222222222222222,\"#7201a8\"],[0.3333333333333333,\"#9c179e\"],[0.4444444444444444,\"#bd3786\"],[0.5555555555555556,\"#d8576b\"],[0.6666666666666666,\"#ed7953\"],[0.7777777777777778,\"#fb9f3a\"],[0.8888888888888888,\"#fdca26\"],[1.0,\"#f0f921\"]],\"type\":\"contour\"}],\"contourcarpet\":[{\"colorbar\":{\"outlinewidth\":0,\"ticks\":\"\"},\"type\":\"contourcarpet\"}],\"heatmap\":[{\"colorbar\":{\"outlinewidth\":0,\"ticks\":\"\"},\"colorscale\":[[0.0,\"#0d0887\"],[0.1111111111111111,\"#46039f\"],[0.2222222222222222,\"#7201a8\"],[0.3333333333333333,\"#9c179e\"],[0.4444444444444444,\"#bd3786\"],[0.5555555555555556,\"#d8576b\"],[0.6666666666666666,\"#ed7953\"],[0.7777777777777778,\"#fb9f3a\"],[0.8888888888888888,\"#fdca26\"],[1.0,\"#f0f921\"]],\"type\":\"heatmap\"}],\"heatmapgl\":[{\"colorbar\":{\"outlinewidth\":0,\"ticks\":\"\"},\"colorscale\":[[0.0,\"#0d0887\"],[0.1111111111111111,\"#46039f\"],[0.2222222222222222,\"#7201a8\"],[0.3333333333333333,\"#9c179e\"],[0.4444444444444444,\"#bd3786\"],[0.5555555555555556,\"#d8576b\"],[0.6666666666666666,\"#ed7953\"],[0.7777777777777778,\"#fb9f3a\"],[0.8888888888888888,\"#fdca26\"],[1.0,\"#f0f921\"]],\"type\":\"heatmapgl\"}],\"histogram\":[{\"marker\":{\"pattern\":{\"fillmode\":\"overlay\",\"size\":10,\"solidity\":0.2}},\"type\":\"histogram\"}],\"histogram2d\":[{\"colorbar\":{\"outlinewidth\":0,\"ticks\":\"\"},\"colorscale\":[[0.0,\"#0d0887\"],[0.1111111111111111,\"#46039f\"],[0.2222222222222222,\"#7201a8\"],[0.3333333333333333,\"#9c179e\"],[0.4444444444444444,\"#bd3786\"],[0.5555555555555556,\"#d8576b\"],[0.6666666666666666,\"#ed7953\"],[0.7777777777777778,\"#fb9f3a\"],[0.8888888888888888,\"#fdca26\"],[1.0,\"#f0f921\"]],\"type\":\"histogram2d\"}],\"histogram2dcontour\":[{\"colorbar\":{\"outlinewidth\":0,\"ticks\":\"\"},\"colorscale\":[[0.0,\"#0d0887\"],[0.1111111111111111,\"#46039f\"],[0.2222222222222222,\"#7201a8\"],[0.3333333333333333,\"#9c179e\"],[0.4444444444444444,\"#bd3786\"],[0.5555555555555556,\"#d8576b\"],[0.6666666666666666,\"#ed7953\"],[0.7777777777777778,\"#fb9f3a\"],[0.8888888888888888,\"#fdca26\"],[1.0,\"#f0f921\"]],\"type\":\"histogram2dcontour\"}],\"mesh3d\":[{\"colorbar\":{\"outlinewidth\":0,\"ticks\":\"\"},\"type\":\"mesh3d\"}],\"parcoords\":[{\"line\":{\"colorbar\":{\"outlinewidth\":0,\"ticks\":\"\"}},\"type\":\"parcoords\"}],\"pie\":[{\"automargin\":true,\"type\":\"pie\"}],\"scatter\":[{\"marker\":{\"colorbar\":{\"outlinewidth\":0,\"ticks\":\"\"}},\"type\":\"scatter\"}],\"scatter3d\":[{\"line\":{\"colorbar\":{\"outlinewidth\":0,\"ticks\":\"\"}},\"marker\":{\"colorbar\":{\"outlinewidth\":0,\"ticks\":\"\"}},\"type\":\"scatter3d\"}],\"scattercarpet\":[{\"marker\":{\"colorbar\":{\"outlinewidth\":0,\"ticks\":\"\"}},\"type\":\"scattercarpet\"}],\"scattergeo\":[{\"marker\":{\"colorbar\":{\"outlinewidth\":0,\"ticks\":\"\"}},\"type\":\"scattergeo\"}],\"scattergl\":[{\"marker\":{\"colorbar\":{\"outlinewidth\":0,\"ticks\":\"\"}},\"type\":\"scattergl\"}],\"scattermapbox\":[{\"marker\":{\"colorbar\":{\"outlinewidth\":0,\"ticks\":\"\"}},\"type\":\"scattermapbox\"}],\"scatterpolar\":[{\"marker\":{\"colorbar\":{\"outlinewidth\":0,\"ticks\":\"\"}},\"type\":\"scatterpolar\"}],\"scatterpolargl\":[{\"marker\":{\"colorbar\":{\"outlinewidth\":0,\"ticks\":\"\"}},\"type\":\"scatterpolargl\"}],\"scatterternary\":[{\"marker\":{\"colorbar\":{\"outlinewidth\":0,\"ticks\":\"\"}},\"type\":\"scatterternary\"}],\"surface\":[{\"colorbar\":{\"outlinewidth\":0,\"ticks\":\"\"},\"colorscale\":[[0.0,\"#0d0887\"],[0.1111111111111111,\"#46039f\"],[0.2222222222222222,\"#7201a8\"],[0.3333333333333333,\"#9c179e\"],[0.4444444444444444,\"#bd3786\"],[0.5555555555555556,\"#d8576b\"],[0.6666666666666666,\"#ed7953\"],[0.7777777777777778,\"#fb9f3a\"],[0.8888888888888888,\"#fdca26\"],[1.0,\"#f0f921\"]],\"type\":\"surface\"}],\"table\":[{\"cells\":{\"fill\":{\"color\":\"#EBF0F8\"},\"line\":{\"color\":\"white\"}},\"header\":{\"fill\":{\"color\":\"#C8D4E3\"},\"line\":{\"color\":\"white\"}},\"type\":\"table\"}]},\"layout\":{\"annotationdefaults\":{\"arrowcolor\":\"#2a3f5f\",\"arrowhead\":0,\"arrowwidth\":1},\"autotypenumbers\":\"strict\",\"coloraxis\":{\"colorbar\":{\"outlinewidth\":0,\"ticks\":\"\"}},\"colorscale\":{\"diverging\":[[0,\"#8e0152\"],[0.1,\"#c51b7d\"],[0.2,\"#de77ae\"],[0.3,\"#f1b6da\"],[0.4,\"#fde0ef\"],[0.5,\"#f7f7f7\"],[0.6,\"#e6f5d0\"],[0.7,\"#b8e186\"],[0.8,\"#7fbc41\"],[0.9,\"#4d9221\"],[1,\"#276419\"]],\"sequential\":[[0.0,\"#0d0887\"],[0.1111111111111111,\"#46039f\"],[0.2222222222222222,\"#7201a8\"],[0.3333333333333333,\"#9c179e\"],[0.4444444444444444,\"#bd3786\"],[0.5555555555555556,\"#d8576b\"],[0.6666666666666666,\"#ed7953\"],[0.7777777777777778,\"#fb9f3a\"],[0.8888888888888888,\"#fdca26\"],[1.0,\"#f0f921\"]],\"sequentialminus\":[[0.0,\"#0d0887\"],[0.1111111111111111,\"#46039f\"],[0.2222222222222222,\"#7201a8\"],[0.3333333333333333,\"#9c179e\"],[0.4444444444444444,\"#bd3786\"],[0.5555555555555556,\"#d8576b\"],[0.6666666666666666,\"#ed7953\"],[0.7777777777777778,\"#fb9f3a\"],[0.8888888888888888,\"#fdca26\"],[1.0,\"#f0f921\"]]},\"colorway\":[\"#636efa\",\"#EF553B\",\"#00cc96\",\"#ab63fa\",\"#FFA15A\",\"#19d3f3\",\"#FF6692\",\"#B6E880\",\"#FF97FF\",\"#FECB52\"],\"font\":{\"color\":\"#2a3f5f\"},\"geo\":{\"bgcolor\":\"white\",\"lakecolor\":\"white\",\"landcolor\":\"#E5ECF6\",\"showlakes\":true,\"showland\":true,\"subunitcolor\":\"white\"},\"hoverlabel\":{\"align\":\"left\"},\"hovermode\":\"closest\",\"mapbox\":{\"style\":\"light\"},\"paper_bgcolor\":\"white\",\"plot_bgcolor\":\"#E5ECF6\",\"polar\":{\"angularaxis\":{\"gridcolor\":\"white\",\"linecolor\":\"white\",\"ticks\":\"\"},\"bgcolor\":\"#E5ECF6\",\"radialaxis\":{\"gridcolor\":\"white\",\"linecolor\":\"white\",\"ticks\":\"\"}},\"scene\":{\"xaxis\":{\"backgroundcolor\":\"#E5ECF6\",\"gridcolor\":\"white\",\"gridwidth\":2,\"linecolor\":\"white\",\"showbackground\":true,\"ticks\":\"\",\"zerolinecolor\":\"white\"},\"yaxis\":{\"backgroundcolor\":\"#E5ECF6\",\"gridcolor\":\"white\",\"gridwidth\":2,\"linecolor\":\"white\",\"showbackground\":true,\"ticks\":\"\",\"zerolinecolor\":\"white\"},\"zaxis\":{\"backgroundcolor\":\"#E5ECF6\",\"gridcolor\":\"white\",\"gridwidth\":2,\"linecolor\":\"white\",\"showbackground\":true,\"ticks\":\"\",\"zerolinecolor\":\"white\"}},\"shapedefaults\":{\"line\":{\"color\":\"#2a3f5f\"}},\"ternary\":{\"aaxis\":{\"gridcolor\":\"white\",\"linecolor\":\"white\",\"ticks\":\"\"},\"baxis\":{\"gridcolor\":\"white\",\"linecolor\":\"white\",\"ticks\":\"\"},\"bgcolor\":\"#E5ECF6\",\"caxis\":{\"gridcolor\":\"white\",\"linecolor\":\"white\",\"ticks\":\"\"}},\"title\":{\"x\":0.05},\"xaxis\":{\"automargin\":true,\"gridcolor\":\"white\",\"linecolor\":\"white\",\"ticks\":\"\",\"title\":{\"standoff\":15},\"zerolinecolor\":\"white\",\"zerolinewidth\":2},\"yaxis\":{\"automargin\":true,\"gridcolor\":\"white\",\"linecolor\":\"white\",\"ticks\":\"\",\"title\":{\"standoff\":15},\"zerolinecolor\":\"white\",\"zerolinewidth\":2}}},\"scene\":{\"domain\":{\"x\":[0.0,1.0],\"y\":[0.0,1.0]},\"xaxis\":{\"title\":{\"text\":\"monetry\"}},\"yaxis\":{\"title\":{\"text\":\"frequency\"}},\"zaxis\":{\"title\":{\"text\":\"recency\"}}},\"legend\":{\"title\":{\"text\":\"segment\"},\"tracegroupgap\":0},\"margin\":{\"t\":60}},                        {\"responsive\": true}                    ).then(function(){\n",
       "                            \n",
       "var gd = document.getElementById('ff193dfa-7da9-4bc6-bbf8-5aac3cbe70d0');\n",
       "var x = new MutationObserver(function (mutations, observer) {{\n",
       "        var display = window.getComputedStyle(gd).display;\n",
       "        if (!display || display === 'none') {{\n",
       "            console.log([gd, 'removed!']);\n",
       "            Plotly.purge(gd);\n",
       "            observer.disconnect();\n",
       "        }}\n",
       "}});\n",
       "\n",
       "// Listen for the removal of the full notebook cells\n",
       "var notebookContainer = gd.closest('#notebook-container');\n",
       "if (notebookContainer) {{\n",
       "    x.observe(notebookContainer, {childList: true});\n",
       "}}\n",
       "\n",
       "// Listen for the clearing of the current output cell\n",
       "var outputEl = gd.closest('.output');\n",
       "if (outputEl) {{\n",
       "    x.observe(outputEl, {childList: true});\n",
       "}}\n",
       "\n",
       "                        })                };                            </script>        </div>\n",
       "</body>\n",
       "</html>"
      ]
     },
     "metadata": {},
     "output_type": "display_data"
    }
   ],
   "source": [
    "import plotly.express as px\n",
    "fig=px.scatter_3d(rfm_scores,z='recency',y='frequency',x='monetry',color='segment',opacity=0.7)\n",
    "fig.show()"
   ]
  },
  {
   "cell_type": "markdown",
   "metadata": {
    "id": "Ovhxm0TM5l-x"
   },
   "source": [
    "# kmean -> this is one way to do this "
   ]
  },
  {
   "cell_type": "code",
   "execution_count": 30,
   "metadata": {
    "id": "U34ab9ziYWRt"
   },
   "outputs": [],
   "source": [
    "# rescaling the attributes\n",
    "rfm_df=rfm[['recency','frequency','monetry']]\n",
    "# instantiate\n",
    "scaler=StandardScaler()\n",
    "rfm_df_scaled=scaler.fit_transform(rfm_df)\n"
   ]
  },
  {
   "cell_type": "code",
   "execution_count": 31,
   "metadata": {
    "colab": {
     "base_uri": "https://localhost:8080/"
    },
    "id": "dfKJu37DYWQN",
    "outputId": "4534122b-0d54-4022-e67e-787bbfd9ab4a"
   },
   "outputs": [
    {
     "data": {
      "text/plain": [
       "array([[-0.9008155 ,  0.42494771,  1.03599609],\n",
       "       [ 1.56202716, -0.14468401, -0.42631459],\n",
       "       [-0.74063062, -0.42949987, -0.01410962],\n",
       "       ...,\n",
       "       [-0.85075773, -0.28709194, -0.41591593],\n",
       "       [-0.89080395,  1.70661906,  0.46334432],\n",
       "       [-0.50035328, -0.14468401, -0.03151932]])"
      ]
     },
     "execution_count": 31,
     "metadata": {},
     "output_type": "execute_result"
    }
   ],
   "source": [
    "rfm_df_scaled\n"
   ]
  },
  {
   "cell_type": "code",
   "execution_count": 32,
   "metadata": {
    "colab": {
     "base_uri": "https://localhost:8080/"
    },
    "id": "osltMly47CQc",
    "outputId": "e8e05441-a3ca-46db-c596-f9ca9362336f"
   },
   "outputs": [
    {
     "data": {
      "text/plain": [
       "KMeans(max_iter=100, n_clusters=6)"
      ]
     },
     "execution_count": 32,
     "metadata": {},
     "output_type": "execute_result"
    }
   ],
   "source": [
    "kmeans=KMeans(n_clusters=6,max_iter=100)\n",
    "kmeans.fit(rfm_df_scaled)"
   ]
  },
  {
   "cell_type": "code",
   "execution_count": 33,
   "metadata": {
    "colab": {
     "base_uri": "https://localhost:8080/"
    },
    "id": "xl0ZOydS7Fo3",
    "outputId": "6f0baec1-236a-4f96-f016-76099e200fc2"
   },
   "outputs": [
    {
     "data": {
      "text/plain": [
       "array([5, 0, 1, ..., 1, 5, 1], dtype=int32)"
      ]
     },
     "execution_count": 33,
     "metadata": {},
     "output_type": "execute_result"
    }
   ],
   "source": [
    "kmeans.labels_"
   ]
  },
  {
   "cell_type": "code",
   "execution_count": 34,
   "metadata": {
    "colab": {
     "base_uri": "https://localhost:8080/",
     "height": 206
    },
    "id": "gHGkQx4T7Fmj",
    "outputId": "5fd3bfa3-06bf-415d-aff7-b554c9387edd"
   },
   "outputs": [
    {
     "data": {
      "text/html": [
       "\n",
       "  <div id=\"df-34b60d18-d66b-44e8-86bb-ba7e62f19e33\">\n",
       "    <div class=\"colab-df-container\">\n",
       "      <div>\n",
       "<style scoped>\n",
       "    .dataframe tbody tr th:only-of-type {\n",
       "        vertical-align: middle;\n",
       "    }\n",
       "\n",
       "    .dataframe tbody tr th {\n",
       "        vertical-align: top;\n",
       "    }\n",
       "\n",
       "    .dataframe thead th {\n",
       "        text-align: right;\n",
       "    }\n",
       "</style>\n",
       "<table border=\"1\" class=\"dataframe\">\n",
       "  <thead>\n",
       "    <tr style=\"text-align: right;\">\n",
       "      <th></th>\n",
       "      <th>CustomerID</th>\n",
       "      <th>recency</th>\n",
       "      <th>frequency</th>\n",
       "      <th>monetry</th>\n",
       "      <th>cluster_id</th>\n",
       "    </tr>\n",
       "  </thead>\n",
       "  <tbody>\n",
       "    <tr>\n",
       "      <th>0</th>\n",
       "      <td>12347</td>\n",
       "      <td>3</td>\n",
       "      <td>7</td>\n",
       "      <td>3314.73</td>\n",
       "      <td>5</td>\n",
       "    </tr>\n",
       "    <tr>\n",
       "      <th>1</th>\n",
       "      <td>12348</td>\n",
       "      <td>249</td>\n",
       "      <td>3</td>\n",
       "      <td>90.20</td>\n",
       "      <td>0</td>\n",
       "    </tr>\n",
       "    <tr>\n",
       "      <th>2</th>\n",
       "      <td>12349</td>\n",
       "      <td>19</td>\n",
       "      <td>1</td>\n",
       "      <td>999.15</td>\n",
       "      <td>1</td>\n",
       "    </tr>\n",
       "    <tr>\n",
       "      <th>3</th>\n",
       "      <td>12350</td>\n",
       "      <td>311</td>\n",
       "      <td>1</td>\n",
       "      <td>294.40</td>\n",
       "      <td>0</td>\n",
       "    </tr>\n",
       "    <tr>\n",
       "      <th>4</th>\n",
       "      <td>12352</td>\n",
       "      <td>37</td>\n",
       "      <td>7</td>\n",
       "      <td>1130.94</td>\n",
       "      <td>1</td>\n",
       "    </tr>\n",
       "  </tbody>\n",
       "</table>\n",
       "</div>\n",
       "      <button class=\"colab-df-convert\" onclick=\"convertToInteractive('df-34b60d18-d66b-44e8-86bb-ba7e62f19e33')\"\n",
       "              title=\"Convert this dataframe to an interactive table.\"\n",
       "              style=\"display:none;\">\n",
       "        \n",
       "  <svg xmlns=\"http://www.w3.org/2000/svg\" height=\"24px\"viewBox=\"0 0 24 24\"\n",
       "       width=\"24px\">\n",
       "    <path d=\"M0 0h24v24H0V0z\" fill=\"none\"/>\n",
       "    <path d=\"M18.56 5.44l.94 2.06.94-2.06 2.06-.94-2.06-.94-.94-2.06-.94 2.06-2.06.94zm-11 1L8.5 8.5l.94-2.06 2.06-.94-2.06-.94L8.5 2.5l-.94 2.06-2.06.94zm10 10l.94 2.06.94-2.06 2.06-.94-2.06-.94-.94-2.06-.94 2.06-2.06.94z\"/><path d=\"M17.41 7.96l-1.37-1.37c-.4-.4-.92-.59-1.43-.59-.52 0-1.04.2-1.43.59L10.3 9.45l-7.72 7.72c-.78.78-.78 2.05 0 2.83L4 21.41c.39.39.9.59 1.41.59.51 0 1.02-.2 1.41-.59l7.78-7.78 2.81-2.81c.8-.78.8-2.07 0-2.86zM5.41 20L4 18.59l7.72-7.72 1.47 1.35L5.41 20z\"/>\n",
       "  </svg>\n",
       "      </button>\n",
       "      \n",
       "  <style>\n",
       "    .colab-df-container {\n",
       "      display:flex;\n",
       "      flex-wrap:wrap;\n",
       "      gap: 12px;\n",
       "    }\n",
       "\n",
       "    .colab-df-convert {\n",
       "      background-color: #E8F0FE;\n",
       "      border: none;\n",
       "      border-radius: 50%;\n",
       "      cursor: pointer;\n",
       "      display: none;\n",
       "      fill: #1967D2;\n",
       "      height: 32px;\n",
       "      padding: 0 0 0 0;\n",
       "      width: 32px;\n",
       "    }\n",
       "\n",
       "    .colab-df-convert:hover {\n",
       "      background-color: #E2EBFA;\n",
       "      box-shadow: 0px 1px 2px rgba(60, 64, 67, 0.3), 0px 1px 3px 1px rgba(60, 64, 67, 0.15);\n",
       "      fill: #174EA6;\n",
       "    }\n",
       "\n",
       "    [theme=dark] .colab-df-convert {\n",
       "      background-color: #3B4455;\n",
       "      fill: #D2E3FC;\n",
       "    }\n",
       "\n",
       "    [theme=dark] .colab-df-convert:hover {\n",
       "      background-color: #434B5C;\n",
       "      box-shadow: 0px 1px 3px 1px rgba(0, 0, 0, 0.15);\n",
       "      filter: drop-shadow(0px 1px 2px rgba(0, 0, 0, 0.3));\n",
       "      fill: #FFFFFF;\n",
       "    }\n",
       "  </style>\n",
       "\n",
       "      <script>\n",
       "        const buttonEl =\n",
       "          document.querySelector('#df-34b60d18-d66b-44e8-86bb-ba7e62f19e33 button.colab-df-convert');\n",
       "        buttonEl.style.display =\n",
       "          google.colab.kernel.accessAllowed ? 'block' : 'none';\n",
       "\n",
       "        async function convertToInteractive(key) {\n",
       "          const element = document.querySelector('#df-34b60d18-d66b-44e8-86bb-ba7e62f19e33');\n",
       "          const dataTable =\n",
       "            await google.colab.kernel.invokeFunction('convertToInteractive',\n",
       "                                                     [key], {});\n",
       "          if (!dataTable) return;\n",
       "\n",
       "          const docLinkHtml = 'Like what you see? Visit the ' +\n",
       "            '<a target=\"_blank\" href=https://colab.research.google.com/notebooks/data_table.ipynb>data table notebook</a>'\n",
       "            + ' to learn more about interactive tables.';\n",
       "          element.innerHTML = '';\n",
       "          dataTable['output_type'] = 'display_data';\n",
       "          await google.colab.output.renderOutput(dataTable, element);\n",
       "          const docLink = document.createElement('div');\n",
       "          docLink.innerHTML = docLinkHtml;\n",
       "          element.appendChild(docLink);\n",
       "        }\n",
       "      </script>\n",
       "    </div>\n",
       "  </div>\n",
       "  "
      ],
      "text/plain": [
       "  CustomerID  recency  frequency  monetry cluster_id\n",
       "0      12347        3          7  3314.73          5\n",
       "1      12348      249          3    90.20          0\n",
       "2      12349       19          1   999.15          1\n",
       "3      12350      311          1   294.40          0\n",
       "4      12352       37          7  1130.94          1"
      ]
     },
     "execution_count": 34,
     "metadata": {},
     "output_type": "execute_result"
    }
   ],
   "source": [
    "rfm_kmeans=rfm.copy()\n",
    "# assign the value\n",
    "rfm_kmeans['cluster_id']=(kmeans.labels_).astype(str)\n",
    "rfm_kmeans.head()"
   ]
  },
  {
   "cell_type": "markdown",
   "metadata": {
    "id": "krnQY_3t8pgi"
   },
   "source": [
    "# ML classification -> second way"
   ]
  },
  {
   "cell_type": "code",
   "execution_count": 41,
   "metadata": {
    "colab": {
     "base_uri": "https://localhost:8080/",
     "height": 270
    },
    "id": "0YEUGTcs7Fjn",
    "outputId": "eb096fe0-fc68-458e-bfa6-bea4ec9283ae"
   },
   "outputs": [
    {
     "data": {
      "text/html": [
       "\n",
       "  <div id=\"df-62f50c7b-947b-417f-83c1-f9bc0d141f6e\">\n",
       "    <div class=\"colab-df-container\">\n",
       "      <div>\n",
       "<style scoped>\n",
       "    .dataframe tbody tr th:only-of-type {\n",
       "        vertical-align: middle;\n",
       "    }\n",
       "\n",
       "    .dataframe tbody tr th {\n",
       "        vertical-align: top;\n",
       "    }\n",
       "\n",
       "    .dataframe thead th {\n",
       "        text-align: right;\n",
       "    }\n",
       "</style>\n",
       "<table border=\"1\" class=\"dataframe\">\n",
       "  <thead>\n",
       "    <tr style=\"text-align: right;\">\n",
       "      <th></th>\n",
       "      <th>CustomerID</th>\n",
       "      <th>recency</th>\n",
       "      <th>frequency</th>\n",
       "      <th>monetry</th>\n",
       "      <th>recency_score</th>\n",
       "      <th>frequency_score</th>\n",
       "      <th>monetry_score</th>\n",
       "      <th>RFM_score</th>\n",
       "      <th>segment</th>\n",
       "    </tr>\n",
       "  </thead>\n",
       "  <tbody>\n",
       "    <tr>\n",
       "      <th>0</th>\n",
       "      <td>12347</td>\n",
       "      <td>3</td>\n",
       "      <td>7</td>\n",
       "      <td>3314.73</td>\n",
       "      <td>5</td>\n",
       "      <td>5</td>\n",
       "      <td>5</td>\n",
       "      <td>555</td>\n",
       "      <td>best</td>\n",
       "    </tr>\n",
       "    <tr>\n",
       "      <th>1</th>\n",
       "      <td>12348</td>\n",
       "      <td>249</td>\n",
       "      <td>3</td>\n",
       "      <td>90.20</td>\n",
       "      <td>1</td>\n",
       "      <td>3</td>\n",
       "      <td>1</td>\n",
       "      <td>131</td>\n",
       "      <td>average</td>\n",
       "    </tr>\n",
       "    <tr>\n",
       "      <th>2</th>\n",
       "      <td>12349</td>\n",
       "      <td>19</td>\n",
       "      <td>1</td>\n",
       "      <td>999.15</td>\n",
       "      <td>4</td>\n",
       "      <td>1</td>\n",
       "      <td>4</td>\n",
       "      <td>414</td>\n",
       "      <td>average</td>\n",
       "    </tr>\n",
       "    <tr>\n",
       "      <th>3</th>\n",
       "      <td>12350</td>\n",
       "      <td>311</td>\n",
       "      <td>1</td>\n",
       "      <td>294.40</td>\n",
       "      <td>1</td>\n",
       "      <td>1</td>\n",
       "      <td>2</td>\n",
       "      <td>112</td>\n",
       "      <td>average</td>\n",
       "    </tr>\n",
       "    <tr>\n",
       "      <th>4</th>\n",
       "      <td>12352</td>\n",
       "      <td>37</td>\n",
       "      <td>7</td>\n",
       "      <td>1130.94</td>\n",
       "      <td>3</td>\n",
       "      <td>5</td>\n",
       "      <td>4</td>\n",
       "      <td>354</td>\n",
       "      <td>faithfull</td>\n",
       "    </tr>\n",
       "  </tbody>\n",
       "</table>\n",
       "</div>\n",
       "      <button class=\"colab-df-convert\" onclick=\"convertToInteractive('df-62f50c7b-947b-417f-83c1-f9bc0d141f6e')\"\n",
       "              title=\"Convert this dataframe to an interactive table.\"\n",
       "              style=\"display:none;\">\n",
       "        \n",
       "  <svg xmlns=\"http://www.w3.org/2000/svg\" height=\"24px\"viewBox=\"0 0 24 24\"\n",
       "       width=\"24px\">\n",
       "    <path d=\"M0 0h24v24H0V0z\" fill=\"none\"/>\n",
       "    <path d=\"M18.56 5.44l.94 2.06.94-2.06 2.06-.94-2.06-.94-.94-2.06-.94 2.06-2.06.94zm-11 1L8.5 8.5l.94-2.06 2.06-.94-2.06-.94L8.5 2.5l-.94 2.06-2.06.94zm10 10l.94 2.06.94-2.06 2.06-.94-2.06-.94-.94-2.06-.94 2.06-2.06.94z\"/><path d=\"M17.41 7.96l-1.37-1.37c-.4-.4-.92-.59-1.43-.59-.52 0-1.04.2-1.43.59L10.3 9.45l-7.72 7.72c-.78.78-.78 2.05 0 2.83L4 21.41c.39.39.9.59 1.41.59.51 0 1.02-.2 1.41-.59l7.78-7.78 2.81-2.81c.8-.78.8-2.07 0-2.86zM5.41 20L4 18.59l7.72-7.72 1.47 1.35L5.41 20z\"/>\n",
       "  </svg>\n",
       "      </button>\n",
       "      \n",
       "  <style>\n",
       "    .colab-df-container {\n",
       "      display:flex;\n",
       "      flex-wrap:wrap;\n",
       "      gap: 12px;\n",
       "    }\n",
       "\n",
       "    .colab-df-convert {\n",
       "      background-color: #E8F0FE;\n",
       "      border: none;\n",
       "      border-radius: 50%;\n",
       "      cursor: pointer;\n",
       "      display: none;\n",
       "      fill: #1967D2;\n",
       "      height: 32px;\n",
       "      padding: 0 0 0 0;\n",
       "      width: 32px;\n",
       "    }\n",
       "\n",
       "    .colab-df-convert:hover {\n",
       "      background-color: #E2EBFA;\n",
       "      box-shadow: 0px 1px 2px rgba(60, 64, 67, 0.3), 0px 1px 3px 1px rgba(60, 64, 67, 0.15);\n",
       "      fill: #174EA6;\n",
       "    }\n",
       "\n",
       "    [theme=dark] .colab-df-convert {\n",
       "      background-color: #3B4455;\n",
       "      fill: #D2E3FC;\n",
       "    }\n",
       "\n",
       "    [theme=dark] .colab-df-convert:hover {\n",
       "      background-color: #434B5C;\n",
       "      box-shadow: 0px 1px 3px 1px rgba(0, 0, 0, 0.15);\n",
       "      filter: drop-shadow(0px 1px 2px rgba(0, 0, 0, 0.3));\n",
       "      fill: #FFFFFF;\n",
       "    }\n",
       "  </style>\n",
       "\n",
       "      <script>\n",
       "        const buttonEl =\n",
       "          document.querySelector('#df-62f50c7b-947b-417f-83c1-f9bc0d141f6e button.colab-df-convert');\n",
       "        buttonEl.style.display =\n",
       "          google.colab.kernel.accessAllowed ? 'block' : 'none';\n",
       "\n",
       "        async function convertToInteractive(key) {\n",
       "          const element = document.querySelector('#df-62f50c7b-947b-417f-83c1-f9bc0d141f6e');\n",
       "          const dataTable =\n",
       "            await google.colab.kernel.invokeFunction('convertToInteractive',\n",
       "                                                     [key], {});\n",
       "          if (!dataTable) return;\n",
       "\n",
       "          const docLinkHtml = 'Like what you see? Visit the ' +\n",
       "            '<a target=\"_blank\" href=https://colab.research.google.com/notebooks/data_table.ipynb>data table notebook</a>'\n",
       "            + ' to learn more about interactive tables.';\n",
       "          element.innerHTML = '';\n",
       "          dataTable['output_type'] = 'display_data';\n",
       "          await google.colab.output.renderOutput(dataTable, element);\n",
       "          const docLink = document.createElement('div');\n",
       "          docLink.innerHTML = docLinkHtml;\n",
       "          element.appendChild(docLink);\n",
       "        }\n",
       "      </script>\n",
       "    </div>\n",
       "  </div>\n",
       "  "
      ],
      "text/plain": [
       "  CustomerID  recency  frequency  monetry  recency_score  frequency_score  \\\n",
       "0      12347        3          7  3314.73              5                5   \n",
       "1      12348      249          3    90.20              1                3   \n",
       "2      12349       19          1   999.15              4                1   \n",
       "3      12350      311          1   294.40              1                1   \n",
       "4      12352       37          7  1130.94              3                5   \n",
       "\n",
       "   monetry_score RFM_score    segment  \n",
       "0              5       555       best  \n",
       "1              1       131    average  \n",
       "2              4       414    average  \n",
       "3              2       112    average  \n",
       "4              4       354  faithfull  "
      ]
     },
     "execution_count": 41,
     "metadata": {},
     "output_type": "execute_result"
    }
   ],
   "source": [
    "rfm_scores.head()"
   ]
  },
  {
   "cell_type": "code",
   "execution_count": 37,
   "metadata": {
    "id": "b4XcQYAo7Fg_"
   },
   "outputs": [],
   "source": [
    "x=rfm_scores.drop(['CustomerID','segment'],axis=1)\n",
    "y=rfm_scores['segment']"
   ]
  },
  {
   "cell_type": "code",
   "execution_count": 38,
   "metadata": {
    "id": "nyHVC-hG8yNU"
   },
   "outputs": [],
   "source": [
    "x_train ,x_test,y_train,y_test= train_test_split(x,y,test_size=.20,random_state=21)"
   ]
  },
  {
   "cell_type": "code",
   "execution_count": 39,
   "metadata": {
    "colab": {
     "base_uri": "https://localhost:8080/"
    },
    "id": "PZEFApN_8yLD",
    "outputId": "1ff5485f-d48b-4cc1-e2ca-5991d96c760c"
   },
   "outputs": [
    {
     "name": "stdout",
     "output_type": "stream",
     "text": [
      "training dataset  (3353, 7)\n",
      "testing dataset (839, 7)\n"
     ]
    }
   ],
   "source": [
    "print('training dataset ',x_train.shape)\n",
    "print('testing dataset',x_test.shape)"
   ]
  },
  {
   "cell_type": "markdown",
   "metadata": {
    "id": "cfl3TCVpPl0e"
   },
   "source": [
    "# logistic regression using hyperparameter tunning "
   ]
  },
  {
   "cell_type": "code",
   "execution_count": 43,
   "metadata": {
    "id": "3oclKUOd8yJF"
   },
   "outputs": [],
   "source": [
    "# define the parameter\n",
    "parameters= {'max_iter':[1000,1500,2000]}\n",
    "lr_classifier= LogisticRegression()\n",
    "lr_classifier_rs= RandomizedSearchCV(estimator=lr_classifier,param_distributions=parameters,cv=5,random_state=21,verbose=1)"
   ]
  },
  {
   "cell_type": "code",
   "execution_count": 44,
   "metadata": {
    "colab": {
     "base_uri": "https://localhost:8080/"
    },
    "id": "7nd1SRH58yG1",
    "outputId": "eb46ddb5-8903-4737-8fe0-a337b3657401"
   },
   "outputs": [
    {
     "name": "stdout",
     "output_type": "stream",
     "text": [
      "Fitting 5 folds for each of 3 candidates, totalling 15 fits\n"
     ]
    },
    {
     "data": {
      "text/plain": [
       "RandomizedSearchCV(cv=5, estimator=LogisticRegression(),\n",
       "                   param_distributions={'max_iter': [1000, 1500, 2000]},\n",
       "                   random_state=21, verbose=1)"
      ]
     },
     "execution_count": 44,
     "metadata": {},
     "output_type": "execute_result"
    }
   ],
   "source": [
    "lr_classifier_rs.fit(x_train,y_train)"
   ]
  },
  {
   "cell_type": "code",
   "execution_count": 45,
   "metadata": {
    "id": "n982t7w48yC1"
   },
   "outputs": [],
   "source": [
    "# get best parameteres \n",
    "def get_best_parameters_result(model):\n",
    "  print('Best estimator ', model.best_estimator_)\n",
    "  print('Best set of parameter', model.best_params_)\n",
    "  print('Best score',model.best_score_)"
   ]
  },
  {
   "cell_type": "code",
   "execution_count": 46,
   "metadata": {
    "colab": {
     "base_uri": "https://localhost:8080/"
    },
    "id": "Tcj9Yp_j8yAf",
    "outputId": "9aab7e24-0a0f-4efd-d0ca-bc29f18495c9"
   },
   "outputs": [
    {
     "name": "stdout",
     "output_type": "stream",
     "text": [
      "Best estimator  LogisticRegression(max_iter=2000)\n",
      "Best set of parameter {'max_iter': 2000}\n",
      "Best score 0.8106301577062526\n"
     ]
    }
   ],
   "source": [
    "get_best_parameters_result(lr_classifier_rs)"
   ]
  },
  {
   "cell_type": "code",
   "execution_count": 48,
   "metadata": {
    "id": "fOApZach8x-B"
   },
   "outputs": [],
   "source": [
    "y_pred_lr=lr_classifier_rs.predict(x_test)"
   ]
  },
  {
   "cell_type": "code",
   "execution_count": 49,
   "metadata": {
    "colab": {
     "base_uri": "https://localhost:8080/"
    },
    "id": "bb4vA5478x6J",
    "outputId": "2c2d6286-21dc-4d73-8bd3-75298aa3cf00"
   },
   "outputs": [
    {
     "name": "stdout",
     "output_type": "stream",
     "text": [
      "Accuracy using logistic regression  0.8259833134684148\n"
     ]
    }
   ],
   "source": [
    "lr_accuracy=accuracy_score(y_true=y_test,y_pred=y_pred_lr)\n",
    "print('Accuracy using logistic regression ',lr_accuracy)"
   ]
  },
  {
   "cell_type": "code",
   "execution_count": 50,
   "metadata": {
    "id": "Jy0E31Mb8x4N"
   },
   "outputs": [],
   "source": [
    "# function to plot confusion matrix\n",
    "def plot_confusion_matrix(cm,labels):\n",
    "    fig, ax = plt.subplots(figsize=(6,4))\n",
    "    im = ax.imshow(cm, interpolation = 'nearest', cmap = plt.cm.Blues)\n",
    "    ax.figure.colorbar(im, ax = ax)\n",
    "    \n",
    "    ax.set(xticks = np.arange(cm.shape[1]),\n",
    "    yticks=np.arange(cm.shape[0]),\n",
    "    xticklabels=labels, yticklabels=labels,\n",
    "    ylabel='True label',\n",
    "    xlabel='Predicted label')\n",
    "    \n",
    "    thresh = cm.max() / 2.\n",
    "    \n",
    "    for i in range(cm.shape[0]):\n",
    "        for j in range(cm.shape[1]):\n",
    "            ax.text(j, i, int(cm[i, j]),ha=\"center\", va=\"center\",color=\"white\" if cm[i, j] > thresh else \"black\")\n",
    "    \n",
    "    fig.tight_layout()"
   ]
  },
  {
   "cell_type": "code",
   "execution_count": 51,
   "metadata": {
    "colab": {
     "base_uri": "https://localhost:8080/"
    },
    "id": "qT4mG21SR7ah",
    "outputId": "82ae4351-d979-4eb7-edde-33e5e0105a16"
   },
   "outputs": [
    {
     "data": {
      "text/plain": [
       "array([[284,   0,   2,  30,   2,   8],\n",
       "       [  0, 186,   1,   0,   0,   7],\n",
       "       [  0,  10,  15,   0,   1,   3],\n",
       "       [ 47,   0,   0,  70,   2,   8],\n",
       "       [  1,   5,   0,   0,  22,   0],\n",
       "       [  1,   3,   1,  11,   3, 116]])"
      ]
     },
     "execution_count": 51,
     "metadata": {},
     "output_type": "execute_result"
    }
   ],
   "source": [
    "cm = confusion_matrix(y_test.values,y_pred_lr)\n",
    "cm"
   ]
  },
  {
   "cell_type": "code",
   "execution_count": 52,
   "metadata": {
    "colab": {
     "base_uri": "https://localhost:8080/",
     "height": 297
    },
    "id": "_x71onGrSFJ4",
    "outputId": "377c3d93-75ed-4814-d70c-92521f3a252b"
   },
   "outputs": [
    {
     "data": {
      "image/png": "[encoded data removed]",
      "text/plain": [
       "<Figure size 432x288 with 2 Axes>"
      ]
     },
     "metadata": {
      "needs_background": "light"
     },
     "output_type": "display_data"
    }
   ],
   "source": [
    "plot_confusion_matrix(cm, np.unique(y_pred_lr))"
   ]
  },
  {
   "cell_type": "markdown",
   "metadata": {
    "id": "c7DxXb6yUFu5"
   },
   "source": [
    "# svm with hyperparameter tuning and cross validation"
   ]
  },
  {
   "cell_type": "code",
   "execution_count": 54,
   "metadata": {
    "id": "x0cV48yhSJjP"
   },
   "outputs": [],
   "source": [
    "parameters = {\n",
    "    'kernel': ['rbf', 'poly', 'sigmoid'],\n",
    "    'C':[1.0, 2.0]\n",
    "}\n",
    "\n",
    "svm_rs = RandomizedSearchCV(estimator = SVC(), param_distributions=parameters, cv = 5, random_state = 42, verbose = 1)"
   ]
  },
  {
   "cell_type": "code",
   "execution_count": 56,
   "metadata": {
    "colab": {
     "base_uri": "https://localhost:8080/"
    },
    "id": "fcbKVna-SVmb",
    "outputId": "1bd9163a-3732-4a8c-b251-4bf8facfcae1"
   },
   "outputs": [
    {
     "name": "stdout",
     "output_type": "stream",
     "text": [
      "Fitting 5 folds for each of 6 candidates, totalling 30 fits\n"
     ]
    },
    {
     "data": {
      "text/plain": [
       "RandomizedSearchCV(cv=5, estimator=SVC(),\n",
       "                   param_distributions={'C': [1.0, 2.0],\n",
       "                                        'kernel': ['rbf', 'poly', 'sigmoid']},\n",
       "                   random_state=42, verbose=1)"
      ]
     },
     "execution_count": 56,
     "metadata": {},
     "output_type": "execute_result"
    }
   ],
   "source": [
    "svm_rs.fit(x_train, y_train)"
   ]
  },
  {
   "cell_type": "code",
   "execution_count": 57,
   "metadata": {
    "colab": {
     "base_uri": "https://localhost:8080/"
    },
    "id": "1X0frqRnSVkN",
    "outputId": "47cc58cf-644d-41fc-eaf7-5b73b097746e"
   },
   "outputs": [
    {
     "name": "stdout",
     "output_type": "stream",
     "text": [
      "Best estimator  SVC(C=2.0)\n",
      "Best set of parameter {'kernel': 'rbf', 'C': 2.0}\n",
      "Best score 0.69699179215695\n"
     ]
    }
   ],
   "source": [
    "get_best_parameters_result(svm_rs)"
   ]
  },
  {
   "cell_type": "code",
   "execution_count": 58,
   "metadata": {
    "id": "zwRWhPZISVhj"
   },
   "outputs": [],
   "source": [
    "y_pred_svm = svm_rs.predict(x_test)"
   ]
  },
  {
   "cell_type": "code",
   "execution_count": 59,
   "metadata": {
    "colab": {
     "base_uri": "https://localhost:8080/"
    },
    "id": "vUMLthMuSVew",
    "outputId": "4e43fc54-2d16-4e66-a69d-93125b51f260"
   },
   "outputs": [
    {
     "name": "stdout",
     "output_type": "stream",
     "text": [
      "Accuracy using Kernel SVM :  0.6901072705601907\n"
     ]
    }
   ],
   "source": [
    "svm_accuracy = accuracy_score(y_true=y_test, y_pred=y_pred_svm)\n",
    "print(\"Accuracy using Kernel SVM : \", svm_accuracy)"
   ]
  },
  {
   "cell_type": "code",
   "execution_count": 60,
   "metadata": {
    "colab": {
     "base_uri": "https://localhost:8080/"
    },
    "id": "5l-gbHUDSVcD",
    "outputId": "3594fd5b-2313-4a1f-d1fa-0b17166fe2f7"
   },
   "outputs": [
    {
     "data": {
      "text/plain": [
       "array([[285,   4,   0,   0,   5,  32],\n",
       "       [  0, 180,   0,   0,   0,  14],\n",
       "       [  0,  19,   0,   0,   0,  10],\n",
       "       [107,   1,   0,   0,   0,  19],\n",
       "       [  0,   9,   0,   0,  19,   0],\n",
       "       [ 28,  12,   0,   0,   0,  95]])"
      ]
     },
     "execution_count": 60,
     "metadata": {},
     "output_type": "execute_result"
    }
   ],
   "source": [
    "cm = confusion_matrix(y_test.values, y_pred_svm)\n",
    "cm"
   ]
  },
  {
   "cell_type": "code",
   "execution_count": 61,
   "metadata": {
    "colab": {
     "base_uri": "https://localhost:8080/",
     "height": 297
    },
    "id": "XTcW_TWjSVZ0",
    "outputId": "378b2f85-446b-4bbd-90c8-043fba24cc37"
   },
   "outputs": [
    {
     "data": {
      "image/png": "[encoded data removed]",
      "text/plain": [
       "<Figure size 432x288 with 2 Axes>"
      ]
     },
     "metadata": {
      "needs_background": "light"
     },
     "output_type": "display_data"
    }
   ],
   "source": [
    "# cm = confusion_matrix(y_test.values,y_pred_lr)\n",
    "plot_confusion_matrix(cm, np.unique(y_pred_lr))"
   ]
  },
  {
   "cell_type": "markdown",
   "metadata": {
    "id": "1hpqblyyVEBO"
   },
   "source": [
    "# Decision tree with hyperparameter tunning and cross validation "
   ]
  },
  {
   "cell_type": "code",
   "execution_count": 62,
   "metadata": {
    "colab": {
     "base_uri": "https://localhost:8080/"
    },
    "id": "8VHwjCVXSVXS",
    "outputId": "6308cbcc-4ded-45da-cdc4-4ad354332b3f"
   },
   "outputs": [
    {
     "name": "stdout",
     "output_type": "stream",
     "text": [
      "Fitting 5 folds for each of 9 candidates, totalling 45 fits\n"
     ]
    },
    {
     "data": {
      "text/plain": [
       "RandomizedSearchCV(cv=5, estimator=DecisionTreeClassifier(),\n",
       "                   param_distributions={'max_depth': array([ 2,  4,  6,  8, 10, 12, 14, 16, 18])},\n",
       "                   random_state=42, verbose=1)"
      ]
     },
     "execution_count": 62,
     "metadata": {},
     "output_type": "execute_result"
    }
   ],
   "source": [
    "parameters = {'max_depth': np.arange(2, 20, 2)}\n",
    "\n",
    "dt_classifier = DecisionTreeClassifier()\n",
    "dt_classifier_rs = RandomizedSearchCV(dt_classifier, param_distributions = parameters, random_state = 42, cv = 5, verbose = 1)\n",
    "dt_classifier_rs.fit(x_train, y_train)"
   ]
  },
  {
   "cell_type": "code",
   "execution_count": 63,
   "metadata": {
    "id": "qrHiRNkjVDPg"
   },
   "outputs": [],
   "source": [
    "y_pred_dt = dt_classifier_rs.predict(x_test)"
   ]
  },
  {
   "cell_type": "code",
   "execution_count": 64,
   "metadata": {
    "colab": {
     "base_uri": "https://localhost:8080/"
    },
    "id": "oaryqy19VDMh",
    "outputId": "d0842ab9-88cb-439f-931f-69f9d449ae3c"
   },
   "outputs": [
    {
     "name": "stdout",
     "output_type": "stream",
     "text": [
      "Accuracy using Decision tree :  0.9976162097735399\n"
     ]
    }
   ],
   "source": [
    "dt_accuracy = accuracy_score(y_true=y_test, y_pred=y_pred_dt)\n",
    "print(\"Accuracy using Decision tree : \", dt_accuracy)"
   ]
  },
  {
   "cell_type": "code",
   "execution_count": 65,
   "metadata": {
    "colab": {
     "base_uri": "https://localhost:8080/",
     "height": 297
    },
    "id": "-sxiXj3lVDJg",
    "outputId": "636ed569-eefe-4cd7-841f-5969e2e92144"
   },
   "outputs": [
    {
     "data": {
      "image/png": "[encoded data removed]",
      "text/plain": [
       "<Figure size 432x288 with 2 Axes>"
      ]
     },
     "metadata": {
      "needs_background": "light"
     },
     "output_type": "display_data"
    }
   ],
   "source": [
    "cm = confusion_matrix(y_test.values,y_pred_dt)\n",
    "plot_confusion_matrix(cm, np.unique(y_pred_dt))"
   ]
  },
  {
   "cell_type": "markdown",
   "metadata": {
    "id": "jcFUCOVQVooT"
   },
   "source": [
    "# Random forest \n"
   ]
  },
  {
   "cell_type": "code",
   "execution_count": 66,
   "metadata": {
    "colab": {
     "base_uri": "https://localhost:8080/"
    },
    "id": "Ey2xfSB9VDGG",
    "outputId": "1479ece5-dc17-45ea-c1f4-583a1793f4f2"
   },
   "outputs": [
    {
     "name": "stdout",
     "output_type": "stream",
     "text": [
      "Fitting 5 folds for each of 10 candidates, totalling 50 fits\n"
     ]
    },
    {
     "data": {
      "text/plain": [
       "RandomizedSearchCV(cv=5, estimator=RandomForestClassifier(),\n",
       "                   param_distributions={'max_depth': array([ 2,  4,  6,  8, 10, 12, 14, 16]),\n",
       "                                        'n_estimators': [110, 130, 140, 150,\n",
       "                                                         160, 180, 200]},\n",
       "                   random_state=42, verbose=1)"
      ]
     },
     "execution_count": 66,
     "metadata": {},
     "output_type": "execute_result"
    }
   ],
   "source": [
    "parameters = {\n",
    "    'n_estimators':[110,130,140,150,160,180,200], \n",
    "    'max_depth': np.arange(2, 17, 2)\n",
    "}\n",
    "rf_classifier = RandomForestClassifier()\n",
    "rf_classifier_rs = RandomizedSearchCV(rf_classifier, param_distributions=parameters,random_state = 42, verbose = 1, cv = 5)\n",
    "rf_classifier_rs.fit(x_train, y_train)"
   ]
  },
  {
   "cell_type": "code",
   "execution_count": 67,
   "metadata": {
    "id": "dx4tR5fvVDB8"
   },
   "outputs": [],
   "source": [
    "y_pred = rf_classifier_rs.predict(x_test)"
   ]
  },
  {
   "cell_type": "code",
   "execution_count": 68,
   "metadata": {
    "colab": {
     "base_uri": "https://localhost:8080/"
    },
    "id": "i9pWLXbaVC9t",
    "outputId": "2de24dce-a346-4b5d-cf1a-49525284869c"
   },
   "outputs": [
    {
     "name": "stdout",
     "output_type": "stream",
     "text": [
      "Accuracy using Random forest :  0.99880810488677\n"
     ]
    }
   ],
   "source": [
    "rf_accuracy = accuracy_score(y_true=y_test, y_pred=y_pred)\n",
    "print(\"Accuracy using Random forest : \", rf_accuracy)"
   ]
  },
  {
   "cell_type": "code",
   "execution_count": 69,
   "metadata": {
    "colab": {
     "base_uri": "https://localhost:8080/",
     "height": 297
    },
    "id": "b18Ll5YPSVU9",
    "outputId": "9cfea5f6-384d-4be5-9b21-ed0734ba0035"
   },
   "outputs": [
    {
     "data": {
      "image/png": "[encoded data removed]",
      "text/plain": [
       "<Figure size 432x288 with 2 Axes>"
      ]
     },
     "metadata": {
      "needs_background": "light"
     },
     "output_type": "display_data"
    }
   ],
   "source": [
    "cm = confusion_matrix(y_test.values,y_pred)\n",
    "plot_confusion_matrix(cm, np.unique(y_pred))"
   ]
  },
  {
   "cell_type": "code",
   "execution_count": 70,
   "metadata": {
    "id": "59eQtXRLSVSc"
   },
   "outputs": [],
   "source": [
    "model_results = {\n",
    "    'LR': lr_accuracy,\n",
    "    'SVM': svm_accuracy,\n",
    "    'DT': dt_accuracy,\n",
    "    'RF': rf_accuracy\n",
    "}"
   ]
  },
  {
   "cell_type": "code",
   "execution_count": 71,
   "metadata": {
    "colab": {
     "base_uri": "https://localhost:8080/",
     "height": 279
    },
    "id": "rnbA1xeCSVQK",
    "outputId": "a1bba072-2b73-4d3d-9130-4c198186a26a"
   },
   "outputs": [
    {
     "data": {
      "image/png": "[encoded data removed]",
      "text/plain": [
       "<Figure size 432x288 with 1 Axes>"
      ]
     },
     "metadata": {
      "needs_background": "light"
     },
     "output_type": "display_data"
    }
   ],
   "source": [
    "plt.bar(range(len(model_results)), model_results.values(), align='center')\n",
    "plt.xticks(range(len(model_results)), list(model_results.keys()))\n",
    "plt.ylabel(\"Model Accuracy\")\n",
    "plt.xlabel(\"Model\")\n",
    "plt.show()"
   ]
  },
  {
   "cell_type": "markdown",
   "metadata": {
    "id": "PJCWf6izWwxG"
   },
   "source": [
    "https://www.barilliance.com/rfm-analysis/#tab-con-7"
   ]
  },
  {
   "cell_type": "code",
   "execution_count": null,
   "metadata": {
    "id": "GwoZ8xTeWZvL"
   },
   "outputs": [],
   "source": []
  }
 ],
 "metadata": {
  "colab": {
   "provenance": []
  },
  "kernelspec": {
   "display_name": "Python 3 (ipykernel)",
   "language": "python",
   "name": "python3"
  },
  "language_info": {
   "codemirror_mode": {
    "name": "ipython",
    "version": 3
   },
   "file_extension": ".py",
   "mimetype": "text/x-python",
   "name": "python",
   "nbconvert_exporter": "python",
   "pygments_lexer": "ipython3",
   "version": "3.10.9"
  }
 },
 "nbformat": 4,
 "nbformat_minor": 1
}
